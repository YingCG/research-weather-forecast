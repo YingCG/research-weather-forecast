{
 "cells": [
  {
   "cell_type": "code",
   "execution_count": 59,
   "metadata": {},
   "outputs": [
    {
     "data": {
      "text/html": [
       "<div>\n",
       "<style scoped>\n",
       "    .dataframe tbody tr th:only-of-type {\n",
       "        vertical-align: middle;\n",
       "    }\n",
       "\n",
       "    .dataframe tbody tr th {\n",
       "        vertical-align: top;\n",
       "    }\n",
       "\n",
       "    .dataframe thead th {\n",
       "        text-align: right;\n",
       "    }\n",
       "</style>\n",
       "<table border=\"1\" class=\"dataframe\">\n",
       "  <thead>\n",
       "    <tr style=\"text-align: right;\">\n",
       "      <th></th>\n",
       "      <th>Date(NZST)</th>\n",
       "      <th>Pmsl(hPa)</th>\n",
       "      <th>Pstn(hPa)</th>\n",
       "      <th>Amount(mm)</th>\n",
       "      <th>Period(min)</th>\n",
       "      <th>daily_total_rainfall</th>\n",
       "      <th>daily_avg_duration</th>\n",
       "      <th>daily_min_duration</th>\n",
       "      <th>daily_max_duration</th>\n",
       "      <th>daily_median_duration</th>\n",
       "      <th>...</th>\n",
       "      <th>Twet(C)</th>\n",
       "      <th>RH(%)</th>\n",
       "      <th>Tdew(C)</th>\n",
       "      <th>Dir(DegT)</th>\n",
       "      <th>Speed(m/s)_y</th>\n",
       "      <th>Percent(%)</th>\n",
       "      <th>soil_avg_moist</th>\n",
       "      <th>soil_min_moist</th>\n",
       "      <th>soil_max_moist</th>\n",
       "      <th>soil_median_moist</th>\n",
       "    </tr>\n",
       "  </thead>\n",
       "  <tbody>\n",
       "    <tr>\n",
       "      <th>0</th>\n",
       "      <td>2019-01-01</td>\n",
       "      <td>1016.5</td>\n",
       "      <td>993.2</td>\n",
       "      <td>0.0</td>\n",
       "      <td>4878.8</td>\n",
       "      <td>0.75</td>\n",
       "      <td>1225.300000</td>\n",
       "      <td>3.9</td>\n",
       "      <td>4878.8</td>\n",
       "      <td>9.25</td>\n",
       "      <td>...</td>\n",
       "      <td>16.2</td>\n",
       "      <td>82.0</td>\n",
       "      <td>14.9</td>\n",
       "      <td>188</td>\n",
       "      <td>6.2</td>\n",
       "      <td>40.9</td>\n",
       "      <td>40.9</td>\n",
       "      <td>40.9</td>\n",
       "      <td>40.9</td>\n",
       "      <td>40.9</td>\n",
       "    </tr>\n",
       "    <tr>\n",
       "      <th>1</th>\n",
       "      <td>2019-01-02</td>\n",
       "      <td>1013.6</td>\n",
       "      <td>990.5</td>\n",
       "      <td>0.0</td>\n",
       "      <td>534.9</td>\n",
       "      <td>0.15</td>\n",
       "      <td>184.100000</td>\n",
       "      <td>6.3</td>\n",
       "      <td>534.9</td>\n",
       "      <td>11.10</td>\n",
       "      <td>...</td>\n",
       "      <td>17.7</td>\n",
       "      <td>82.0</td>\n",
       "      <td>16.5</td>\n",
       "      <td>13</td>\n",
       "      <td>6.2</td>\n",
       "      <td>40.4</td>\n",
       "      <td>40.4</td>\n",
       "      <td>40.4</td>\n",
       "      <td>40.4</td>\n",
       "      <td>40.4</td>\n",
       "    </tr>\n",
       "    <tr>\n",
       "      <th>2</th>\n",
       "      <td>2019-01-03</td>\n",
       "      <td>1011.3</td>\n",
       "      <td>988.2</td>\n",
       "      <td>0.0</td>\n",
       "      <td>1416.8</td>\n",
       "      <td>0.10</td>\n",
       "      <td>477.233333</td>\n",
       "      <td>3.9</td>\n",
       "      <td>1416.8</td>\n",
       "      <td>11.00</td>\n",
       "      <td>...</td>\n",
       "      <td>17.2</td>\n",
       "      <td>82.0</td>\n",
       "      <td>16.0</td>\n",
       "      <td>201</td>\n",
       "      <td>8.8</td>\n",
       "      <td>40.5</td>\n",
       "      <td>40.5</td>\n",
       "      <td>40.5</td>\n",
       "      <td>40.5</td>\n",
       "      <td>40.5</td>\n",
       "    </tr>\n",
       "    <tr>\n",
       "      <th>3</th>\n",
       "      <td>2019-01-06</td>\n",
       "      <td>1016.2</td>\n",
       "      <td>992.9</td>\n",
       "      <td>0.0</td>\n",
       "      <td>4621.0</td>\n",
       "      <td>1.32</td>\n",
       "      <td>632.922222</td>\n",
       "      <td>1.5</td>\n",
       "      <td>4621.0</td>\n",
       "      <td>11.60</td>\n",
       "      <td>...</td>\n",
       "      <td>17.4</td>\n",
       "      <td>88.0</td>\n",
       "      <td>16.6</td>\n",
       "      <td>353</td>\n",
       "      <td>9.8</td>\n",
       "      <td>37.2</td>\n",
       "      <td>37.2</td>\n",
       "      <td>37.2</td>\n",
       "      <td>37.2</td>\n",
       "      <td>37.2</td>\n",
       "    </tr>\n",
       "    <tr>\n",
       "      <th>4</th>\n",
       "      <td>2019-01-07</td>\n",
       "      <td>1019.2</td>\n",
       "      <td>995.6</td>\n",
       "      <td>0.0</td>\n",
       "      <td>56.8</td>\n",
       "      <td>0.28</td>\n",
       "      <td>22.850000</td>\n",
       "      <td>9.3</td>\n",
       "      <td>56.8</td>\n",
       "      <td>12.65</td>\n",
       "      <td>...</td>\n",
       "      <td>12.9</td>\n",
       "      <td>68.0</td>\n",
       "      <td>10.1</td>\n",
       "      <td>162</td>\n",
       "      <td>9.3</td>\n",
       "      <td>36.6</td>\n",
       "      <td>36.6</td>\n",
       "      <td>36.6</td>\n",
       "      <td>36.6</td>\n",
       "      <td>36.6</td>\n",
       "    </tr>\n",
       "  </tbody>\n",
       "</table>\n",
       "<p>5 rows × 31 columns</p>\n",
       "</div>"
      ],
      "text/plain": [
       "  Date(NZST)  Pmsl(hPa)  Pstn(hPa)  Amount(mm)  Period(min)  \\\n",
       "0 2019-01-01     1016.5      993.2         0.0       4878.8   \n",
       "1 2019-01-02     1013.6      990.5         0.0        534.9   \n",
       "2 2019-01-03     1011.3      988.2         0.0       1416.8   \n",
       "3 2019-01-06     1016.2      992.9         0.0       4621.0   \n",
       "4 2019-01-07     1019.2      995.6         0.0         56.8   \n",
       "\n",
       "   daily_total_rainfall  daily_avg_duration  daily_min_duration  \\\n",
       "0                  0.75         1225.300000                 3.9   \n",
       "1                  0.15          184.100000                 6.3   \n",
       "2                  0.10          477.233333                 3.9   \n",
       "3                  1.32          632.922222                 1.5   \n",
       "4                  0.28           22.850000                 9.3   \n",
       "\n",
       "   daily_max_duration  daily_median_duration  ...  Twet(C)  RH(%)  Tdew(C)  \\\n",
       "0              4878.8                   9.25  ...     16.2   82.0     14.9   \n",
       "1               534.9                  11.10  ...     17.7   82.0     16.5   \n",
       "2              1416.8                  11.00  ...     17.2   82.0     16.0   \n",
       "3              4621.0                  11.60  ...     17.4   88.0     16.6   \n",
       "4                56.8                  12.65  ...     12.9   68.0     10.1   \n",
       "\n",
       "   Dir(DegT)  Speed(m/s)_y  Percent(%)  soil_avg_moist  soil_min_moist  \\\n",
       "0        188           6.2        40.9            40.9            40.9   \n",
       "1         13           6.2        40.4            40.4            40.4   \n",
       "2        201           8.8        40.5            40.5            40.5   \n",
       "3        353           9.8        37.2            37.2            37.2   \n",
       "4        162           9.3        36.6            36.6            36.6   \n",
       "\n",
       "   soil_max_moist  soil_median_moist  \n",
       "0            40.9               40.9  \n",
       "1            40.4               40.4  \n",
       "2            40.5               40.5  \n",
       "3            37.2               37.2  \n",
       "4            36.6               36.6  \n",
       "\n",
       "[5 rows x 31 columns]"
      ]
     },
     "execution_count": 59,
     "metadata": {},
     "output_type": "execute_result"
    }
   ],
   "source": [
    "import numpy as np \n",
    "import pandas as pd\n",
    "import matplotlib.pyplot as plt\n",
    "\n",
    "weather = pd.read_csv('../data/niwa_cleaned/aucklandDailyWeatherData.csv', parse_dates=['Date(NZST)'])\n",
    "weather.head()"
   ]
  },
  {
   "cell_type": "code",
   "execution_count": 60,
   "metadata": {},
   "outputs": [
    {
     "data": {
      "text/plain": [
       "166.6"
      ]
     },
     "execution_count": 60,
     "metadata": {},
     "output_type": "execute_result"
    }
   ],
   "source": [
    "weather['Rainfall(mm)'].max()"
   ]
  },
  {
   "cell_type": "code",
   "execution_count": 61,
   "metadata": {},
   "outputs": [
    {
     "data": {
      "text/plain": [
       "(945, 31)"
      ]
     },
     "execution_count": 61,
     "metadata": {},
     "output_type": "execute_result"
    }
   ],
   "source": [
    "weather.shape"
   ]
  },
  {
   "cell_type": "code",
   "execution_count": 62,
   "metadata": {},
   "outputs": [
    {
     "name": "stdout",
     "output_type": "stream",
     "text": [
      "<class 'pandas.core.frame.DataFrame'>\n",
      "RangeIndex: 945 entries, 0 to 944\n",
      "Data columns (total 31 columns):\n",
      " #   Column                 Non-Null Count  Dtype         \n",
      "---  ------                 --------------  -----         \n",
      " 0   Date(NZST)             945 non-null    datetime64[ns]\n",
      " 1   Pmsl(hPa)              945 non-null    float64       \n",
      " 2   Pstn(hPa)              945 non-null    float64       \n",
      " 3   Amount(mm)             941 non-null    float64       \n",
      " 4   Period(min)            945 non-null    float64       \n",
      " 5   daily_total_rainfall   945 non-null    float64       \n",
      " 6   daily_avg_duration     945 non-null    float64       \n",
      " 7   daily_min_duration     945 non-null    float64       \n",
      " 8   daily_max_duration     945 non-null    float64       \n",
      " 9   daily_median_duration  945 non-null    float64       \n",
      " 10  Rainfall(mm)           945 non-null    float64       \n",
      " 11  Deficit(mm)            945 non-null    float64       \n",
      " 12  Sunshine(Hrs)          945 non-null    float64       \n",
      " 13  WindDir(DegT)          945 non-null    int64         \n",
      " 14  Speed(m/s)_x           945 non-null    float64       \n",
      " 15  WindDir StdDev         945 non-null    int64         \n",
      " 16  WindSpd StdDev         945 non-null    float64       \n",
      " 17  Tmax(C)                945 non-null    float64       \n",
      " 18  Tmin(C)                945 non-null    float64       \n",
      " 19  Tgmin(C)               945 non-null    float64       \n",
      " 20  Tmean(C)               945 non-null    float64       \n",
      " 21  Twet(C)                945 non-null    float64       \n",
      " 22  RH(%)                  945 non-null    float64       \n",
      " 23  Tdew(C)                945 non-null    float64       \n",
      " 24  Dir(DegT)              945 non-null    int64         \n",
      " 25  Speed(m/s)_y           945 non-null    float64       \n",
      " 26  Percent(%)             945 non-null    float64       \n",
      " 27  soil_avg_moist         945 non-null    float64       \n",
      " 28  soil_min_moist         945 non-null    float64       \n",
      " 29  soil_max_moist         945 non-null    float64       \n",
      " 30  soil_median_moist      945 non-null    float64       \n",
      "dtypes: datetime64[ns](1), float64(27), int64(3)\n",
      "memory usage: 229.0 KB\n"
     ]
    }
   ],
   "source": [
    "weather.info()"
   ]
  },
  {
   "cell_type": "markdown",
   "metadata": {},
   "source": [
    "#TMIN and TMAX are highly positively correlated to each other as observed from above correlation matrix."
   ]
  },
  {
   "cell_type": "code",
   "execution_count": 63,
   "metadata": {},
   "outputs": [
    {
     "data": {
      "text/plain": [
       "Date(NZST)               0\n",
       "Pmsl(hPa)                0\n",
       "Pstn(hPa)                0\n",
       "Amount(mm)               4\n",
       "Period(min)              0\n",
       "daily_total_rainfall     0\n",
       "daily_avg_duration       0\n",
       "daily_min_duration       0\n",
       "daily_max_duration       0\n",
       "daily_median_duration    0\n",
       "Rainfall(mm)             0\n",
       "Deficit(mm)              0\n",
       "Sunshine(Hrs)            0\n",
       "WindDir(DegT)            0\n",
       "Speed(m/s)_x             0\n",
       "WindDir StdDev           0\n",
       "WindSpd StdDev           0\n",
       "Tmax(C)                  0\n",
       "Tmin(C)                  0\n",
       "Tgmin(C)                 0\n",
       "Tmean(C)                 0\n",
       "Twet(C)                  0\n",
       "RH(%)                    0\n",
       "Tdew(C)                  0\n",
       "Dir(DegT)                0\n",
       "Speed(m/s)_y             0\n",
       "Percent(%)               0\n",
       "soil_avg_moist           0\n",
       "soil_min_moist           0\n",
       "soil_max_moist           0\n",
       "soil_median_moist        0\n",
       "dtype: int64"
      ]
     },
     "execution_count": 63,
     "metadata": {},
     "output_type": "execute_result"
    }
   ],
   "source": [
    "weather.isna().sum()"
   ]
  },
  {
   "cell_type": "code",
   "execution_count": 64,
   "metadata": {},
   "outputs": [],
   "source": [
    "weather['Amount(mm)'] .fillna(value=0, inplace=True)"
   ]
  },
  {
   "cell_type": "code",
   "execution_count": 65,
   "metadata": {},
   "outputs": [],
   "source": [
    "# Features (X) and target variable (y)\n",
    "features = ['Pmsl(hPa)', 'Pstn(hPa)', 'Amount(mm)', 'Period(min)', 'daily_total_rainfall', 'daily_avg_duration', 'daily_min_duration','daily_max_duration', 'daily_median_duration','Deficit(mm)', 'Sunshine(Hrs)', 'WindDir(DegT)', 'Speed(m/s)_x','WindDir StdDev', 'WindSpd StdDev', 'Tmax(C)', 'Tmin(C)', 'Tgmin(C)','Tmean(C)', 'Twet(C)', 'RH(%)', 'Tdew(C)', 'Dir(DegT)', 'Speed(m/s)_y','Percent(%)', 'soil_avg_moist', 'soil_min_moist','soil_max_moist', 'soil_median_moist']\n",
    "target = 'Rainfall(mm)'\n",
    "\n",
    "X = weather[features]\n",
    "y = weather[target]"
   ]
  },
  {
   "cell_type": "code",
   "execution_count": 66,
   "metadata": {},
   "outputs": [],
   "source": [
    "#Splitting train and test dataset\n",
    "from sklearn.model_selection import train_test_split\n",
    "X_train, X_test, y_train, y_test = train_test_split(X, y, test_size=0.30, random_state=42)"
   ]
  },
  {
   "cell_type": "code",
   "execution_count": 67,
   "metadata": {},
   "outputs": [],
   "source": [
    "#Default Random forest classifier\n",
    "from sklearn.ensemble import RandomForestClassifier\n",
    "model =RandomForestClassifier()"
   ]
  },
  {
   "cell_type": "code",
   "execution_count": 68,
   "metadata": {},
   "outputs": [
    {
     "ename": "ValueError",
     "evalue": "Unknown label type: continuous. Maybe you are trying to fit a classifier, which expects discrete classes on a regression target with continuous values.",
     "output_type": "error",
     "traceback": [
      "\u001b[1;31m---------------------------------------------------------------------------\u001b[0m",
      "\u001b[1;31mValueError\u001b[0m                                Traceback (most recent call last)",
      "Cell \u001b[1;32mIn[68], line 2\u001b[0m\n\u001b[0;32m      1\u001b[0m \u001b[39m#Fitting train data into model\u001b[39;00m\n\u001b[1;32m----> 2\u001b[0m model\u001b[39m.\u001b[39;49mfit(X_train,y_train)\n",
      "File \u001b[1;32mc:\\Users\\Ying\\AppData\\Local\\Programs\\Python\\Python310\\lib\\site-packages\\sklearn\\base.py:1152\u001b[0m, in \u001b[0;36m_fit_context.<locals>.decorator.<locals>.wrapper\u001b[1;34m(estimator, *args, **kwargs)\u001b[0m\n\u001b[0;32m   1145\u001b[0m     estimator\u001b[39m.\u001b[39m_validate_params()\n\u001b[0;32m   1147\u001b[0m \u001b[39mwith\u001b[39;00m config_context(\n\u001b[0;32m   1148\u001b[0m     skip_parameter_validation\u001b[39m=\u001b[39m(\n\u001b[0;32m   1149\u001b[0m         prefer_skip_nested_validation \u001b[39mor\u001b[39;00m global_skip_validation\n\u001b[0;32m   1150\u001b[0m     )\n\u001b[0;32m   1151\u001b[0m ):\n\u001b[1;32m-> 1152\u001b[0m     \u001b[39mreturn\u001b[39;00m fit_method(estimator, \u001b[39m*\u001b[39margs, \u001b[39m*\u001b[39m\u001b[39m*\u001b[39mkwargs)\n",
      "File \u001b[1;32mc:\\Users\\Ying\\AppData\\Local\\Programs\\Python\\Python310\\lib\\site-packages\\sklearn\\ensemble\\_forest.py:390\u001b[0m, in \u001b[0;36mBaseForest.fit\u001b[1;34m(self, X, y, sample_weight)\u001b[0m\n\u001b[0;32m    383\u001b[0m         \u001b[39mraise\u001b[39;00m \u001b[39mValueError\u001b[39;00m(\n\u001b[0;32m    384\u001b[0m             \u001b[39m\"\u001b[39m\u001b[39mSum of y is not strictly positive which \u001b[39m\u001b[39m\"\u001b[39m\n\u001b[0;32m    385\u001b[0m             \u001b[39m\"\u001b[39m\u001b[39mis necessary for Poisson regression.\u001b[39m\u001b[39m\"\u001b[39m\n\u001b[0;32m    386\u001b[0m         )\n\u001b[0;32m    388\u001b[0m \u001b[39mself\u001b[39m\u001b[39m.\u001b[39mn_outputs_ \u001b[39m=\u001b[39m y\u001b[39m.\u001b[39mshape[\u001b[39m1\u001b[39m]\n\u001b[1;32m--> 390\u001b[0m y, expanded_class_weight \u001b[39m=\u001b[39m \u001b[39mself\u001b[39;49m\u001b[39m.\u001b[39;49m_validate_y_class_weight(y)\n\u001b[0;32m    392\u001b[0m \u001b[39mif\u001b[39;00m \u001b[39mgetattr\u001b[39m(y, \u001b[39m\"\u001b[39m\u001b[39mdtype\u001b[39m\u001b[39m\"\u001b[39m, \u001b[39mNone\u001b[39;00m) \u001b[39m!=\u001b[39m DOUBLE \u001b[39mor\u001b[39;00m \u001b[39mnot\u001b[39;00m y\u001b[39m.\u001b[39mflags\u001b[39m.\u001b[39mcontiguous:\n\u001b[0;32m    393\u001b[0m     y \u001b[39m=\u001b[39m np\u001b[39m.\u001b[39mascontiguousarray(y, dtype\u001b[39m=\u001b[39mDOUBLE)\n",
      "File \u001b[1;32mc:\\Users\\Ying\\AppData\\Local\\Programs\\Python\\Python310\\lib\\site-packages\\sklearn\\ensemble\\_forest.py:749\u001b[0m, in \u001b[0;36mForestClassifier._validate_y_class_weight\u001b[1;34m(self, y)\u001b[0m\n\u001b[0;32m    748\u001b[0m \u001b[39mdef\u001b[39;00m \u001b[39m_validate_y_class_weight\u001b[39m(\u001b[39mself\u001b[39m, y):\n\u001b[1;32m--> 749\u001b[0m     check_classification_targets(y)\n\u001b[0;32m    751\u001b[0m     y \u001b[39m=\u001b[39m np\u001b[39m.\u001b[39mcopy(y)\n\u001b[0;32m    752\u001b[0m     expanded_class_weight \u001b[39m=\u001b[39m \u001b[39mNone\u001b[39;00m\n",
      "File \u001b[1;32mc:\\Users\\Ying\\AppData\\Local\\Programs\\Python\\Python310\\lib\\site-packages\\sklearn\\utils\\multiclass.py:216\u001b[0m, in \u001b[0;36mcheck_classification_targets\u001b[1;34m(y)\u001b[0m\n\u001b[0;32m    208\u001b[0m y_type \u001b[39m=\u001b[39m type_of_target(y, input_name\u001b[39m=\u001b[39m\u001b[39m\"\u001b[39m\u001b[39my\u001b[39m\u001b[39m\"\u001b[39m)\n\u001b[0;32m    209\u001b[0m \u001b[39mif\u001b[39;00m y_type \u001b[39mnot\u001b[39;00m \u001b[39min\u001b[39;00m [\n\u001b[0;32m    210\u001b[0m     \u001b[39m\"\u001b[39m\u001b[39mbinary\u001b[39m\u001b[39m\"\u001b[39m,\n\u001b[0;32m    211\u001b[0m     \u001b[39m\"\u001b[39m\u001b[39mmulticlass\u001b[39m\u001b[39m\"\u001b[39m,\n\u001b[1;32m   (...)\u001b[0m\n\u001b[0;32m    214\u001b[0m     \u001b[39m\"\u001b[39m\u001b[39mmultilabel-sequences\u001b[39m\u001b[39m\"\u001b[39m,\n\u001b[0;32m    215\u001b[0m ]:\n\u001b[1;32m--> 216\u001b[0m     \u001b[39mraise\u001b[39;00m \u001b[39mValueError\u001b[39;00m(\n\u001b[0;32m    217\u001b[0m         \u001b[39mf\u001b[39m\u001b[39m\"\u001b[39m\u001b[39mUnknown label type: \u001b[39m\u001b[39m{\u001b[39;00my_type\u001b[39m}\u001b[39;00m\u001b[39m. Maybe you are trying to fit a \u001b[39m\u001b[39m\"\u001b[39m\n\u001b[0;32m    218\u001b[0m         \u001b[39m\"\u001b[39m\u001b[39mclassifier, which expects discrete classes on a \u001b[39m\u001b[39m\"\u001b[39m\n\u001b[0;32m    219\u001b[0m         \u001b[39m\"\u001b[39m\u001b[39mregression target with continuous values.\u001b[39m\u001b[39m\"\u001b[39m\n\u001b[0;32m    220\u001b[0m     )\n",
      "\u001b[1;31mValueError\u001b[0m: Unknown label type: continuous. Maybe you are trying to fit a classifier, which expects discrete classes on a regression target with continuous values."
     ]
    }
   ],
   "source": [
    "#Fitting train data into model\n",
    "model.fit(X_train,y_train)"
   ]
  },
  {
   "cell_type": "code",
   "execution_count": null,
   "metadata": {},
   "outputs": [],
   "source": [
    "# Make predictions\n",
    "predictions = model.predict(X_test)\n",
    "\n",
    "# Evaluate the model (you can choose a different metric if needed)\n",
    "from sklearn.metrics import mean_squared_error\n",
    "\n",
    "mse = mean_squared_error(y_test, predictions)\n",
    "print(f\"Mean Squared Error: {mse}\")"
   ]
  },
  {
   "cell_type": "code",
   "execution_count": null,
   "metadata": {},
   "outputs": [
    {
     "name": "stdout",
     "output_type": "stream",
     "text": [
      "[[3108    0]\n",
      " [   0 3138]]\n"
     ]
    }
   ],
   "source": [
    "# Printing confusion matrix\n",
    "from sklearn.metrics import confusion_matrix\n",
    "print(confusion_matrix(y_test,predictions))"
   ]
  },
  {
   "cell_type": "code",
   "execution_count": null,
   "metadata": {},
   "outputs": [
    {
     "name": "stdout",
     "output_type": "stream",
     "text": [
      "              precision    recall  f1-score   support\n",
      "\n",
      "       False       1.00      1.00      1.00      3108\n",
      "        True       1.00      1.00      1.00      3138\n",
      "\n",
      "    accuracy                           1.00      6246\n",
      "   macro avg       1.00      1.00      1.00      6246\n",
      "weighted avg       1.00      1.00      1.00      6246\n",
      "\n"
     ]
    }
   ],
   "source": [
    "#Classification report\n",
    "from sklearn import metrics\n",
    "print(metrics.classification_report(y_test, predictions))"
   ]
  },
  {
   "cell_type": "code",
   "execution_count": null,
   "metadata": {},
   "outputs": [
    {
     "data": {
      "text/plain": [
       "array([0.5059247 , 0.00229308, 0.00799729, 0.00152762, 0.48225731])"
      ]
     },
     "execution_count": 145,
     "metadata": {},
     "output_type": "execute_result"
    }
   ],
   "source": [
    "#Feature Importance\n",
    "model.feature_importances_"
   ]
  }
 ],
 "metadata": {
  "kernelspec": {
   "display_name": "Python 3",
   "language": "python",
   "name": "python3"
  },
  "language_info": {
   "codemirror_mode": {
    "name": "ipython",
    "version": 3
   },
   "file_extension": ".py",
   "mimetype": "text/x-python",
   "name": "python",
   "nbconvert_exporter": "python",
   "pygments_lexer": "ipython3",
   "version": "3.10.7"
  },
  "orig_nbformat": 4
 },
 "nbformat": 4,
 "nbformat_minor": 2
}
