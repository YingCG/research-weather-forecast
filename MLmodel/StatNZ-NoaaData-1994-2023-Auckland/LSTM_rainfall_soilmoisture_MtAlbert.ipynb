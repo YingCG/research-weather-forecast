{
 "cells": [
  {
   "cell_type": "markdown",
   "metadata": {},
   "source": [
    "Data Preprocessing"
   ]
  },
  {
   "cell_type": "code",
   "execution_count": 123,
   "metadata": {},
   "outputs": [
    {
     "data": {
      "text/html": [
       "<div>\n",
       "<style scoped>\n",
       "    .dataframe tbody tr th:only-of-type {\n",
       "        vertical-align: middle;\n",
       "    }\n",
       "\n",
       "    .dataframe tbody tr th {\n",
       "        vertical-align: top;\n",
       "    }\n",
       "\n",
       "    .dataframe thead th {\n",
       "        text-align: right;\n",
       "    }\n",
       "</style>\n",
       "<table border=\"1\" class=\"dataframe\">\n",
       "  <thead>\n",
       "    <tr style=\"text-align: right;\">\n",
       "      <th></th>\n",
       "      <th>Date</th>\n",
       "      <th>Rainfall(mm)</th>\n",
       "      <th>Tavg</th>\n",
       "      <th>Tmax</th>\n",
       "      <th>Tmin</th>\n",
       "    </tr>\n",
       "  </thead>\n",
       "  <tbody>\n",
       "    <tr>\n",
       "      <th>0</th>\n",
       "      <td>1966-01-01</td>\n",
       "      <td>0.0</td>\n",
       "      <td>18.0</td>\n",
       "      <td>22.2</td>\n",
       "      <td>13.9</td>\n",
       "    </tr>\n",
       "    <tr>\n",
       "      <th>1</th>\n",
       "      <td>1966-01-02</td>\n",
       "      <td>26.2</td>\n",
       "      <td>20.5</td>\n",
       "      <td>23.9</td>\n",
       "      <td>17.1</td>\n",
       "    </tr>\n",
       "    <tr>\n",
       "      <th>2</th>\n",
       "      <td>1966-01-03</td>\n",
       "      <td>0.0</td>\n",
       "      <td>20.3</td>\n",
       "      <td>23.5</td>\n",
       "      <td>17.1</td>\n",
       "    </tr>\n",
       "    <tr>\n",
       "      <th>3</th>\n",
       "      <td>1966-01-04</td>\n",
       "      <td>0.0</td>\n",
       "      <td>20.3</td>\n",
       "      <td>24.4</td>\n",
       "      <td>16.2</td>\n",
       "    </tr>\n",
       "    <tr>\n",
       "      <th>4</th>\n",
       "      <td>1966-01-05</td>\n",
       "      <td>1.3</td>\n",
       "      <td>20.6</td>\n",
       "      <td>23.4</td>\n",
       "      <td>17.8</td>\n",
       "    </tr>\n",
       "  </tbody>\n",
       "</table>\n",
       "</div>"
      ],
      "text/plain": [
       "        Date  Rainfall(mm)  Tavg  Tmax  Tmin\n",
       "0 1966-01-01           0.0  18.0  22.2  13.9\n",
       "1 1966-01-02          26.2  20.5  23.9  17.1\n",
       "2 1966-01-03           0.0  20.3  23.5  17.1\n",
       "3 1966-01-04           0.0  20.3  24.4  16.2\n",
       "4 1966-01-05           1.3  20.6  23.4  17.8"
      ]
     },
     "execution_count": 123,
     "metadata": {},
     "output_type": "execute_result"
    }
   ],
   "source": [
    "import pandas as pd\n",
    "weather = pd.read_csv('../../data/auckland_rain_temp_statsNZcombineNoaaData.csv', parse_dates=['Date'])\n",
    "weather.head()"
   ]
  },
  {
   "cell_type": "code",
   "execution_count": 124,
   "metadata": {},
   "outputs": [
    {
     "name": "stdout",
     "output_type": "stream",
     "text": [
      "Date             0\n",
      "Rainfall(mm)     0\n",
      "Tavg             0\n",
      "Tmax            37\n",
      "Tmin            82\n",
      "dtype: int64\n"
     ]
    }
   ],
   "source": [
    "print(weather.isnull().sum())\n"
   ]
  },
  {
   "cell_type": "code",
   "execution_count": 125,
   "metadata": {},
   "outputs": [
    {
     "name": "stdout",
     "output_type": "stream",
     "text": [
      "<class 'pandas.core.frame.DataFrame'>\n",
      "RangeIndex: 21096 entries, 0 to 21095\n",
      "Data columns (total 5 columns):\n",
      " #   Column        Non-Null Count  Dtype         \n",
      "---  ------        --------------  -----         \n",
      " 0   Date          21096 non-null  datetime64[ns]\n",
      " 1   Rainfall(mm)  21096 non-null  float64       \n",
      " 2   Tavg          21096 non-null  float64       \n",
      " 3   Tmax          21059 non-null  float64       \n",
      " 4   Tmin          21014 non-null  float64       \n",
      "dtypes: datetime64[ns](1), float64(4)\n",
      "memory usage: 824.2 KB\n"
     ]
    }
   ],
   "source": [
    "weather.info()"
   ]
  },
  {
   "cell_type": "code",
   "execution_count": 126,
   "metadata": {},
   "outputs": [
    {
     "data": {
      "text/plain": [
       "Date            0\n",
       "Rainfall(mm)    0\n",
       "Tavg            0\n",
       "Tmax            0\n",
       "Tmin            0\n",
       "dtype: int64"
      ]
     },
     "execution_count": 126,
     "metadata": {},
     "output_type": "execute_result"
    }
   ],
   "source": [
    "weather[['Tmax', 'Tmin']] = weather[['Tmax', 'Tmin']].interpolate(method='linear')\n",
    "weather.isna().sum()"
   ]
  },
  {
   "cell_type": "code",
   "execution_count": 127,
   "metadata": {},
   "outputs": [
    {
     "name": "stdout",
     "output_type": "stream",
     "text": [
      "<class 'pandas.core.frame.DataFrame'>\n",
      "RangeIndex: 21096 entries, 0 to 21095\n",
      "Data columns (total 5 columns):\n",
      " #   Column        Non-Null Count  Dtype         \n",
      "---  ------        --------------  -----         \n",
      " 0   Date          21096 non-null  datetime64[ns]\n",
      " 1   Rainfall(mm)  21096 non-null  float64       \n",
      " 2   Tavg          21096 non-null  float64       \n",
      " 3   Tmax          21096 non-null  float64       \n",
      " 4   Tmin          21096 non-null  float64       \n",
      "dtypes: datetime64[ns](1), float64(4)\n",
      "memory usage: 824.2 KB\n"
     ]
    }
   ],
   "source": [
    "weather.info()"
   ]
  },
  {
   "cell_type": "code",
   "execution_count": 128,
   "metadata": {},
   "outputs": [
    {
     "data": {
      "image/png": "[encoded data removed]",
      "text/plain": [
       "<Figure size 600x400 with 2 Axes>"
      ]
     },
     "metadata": {},
     "output_type": "display_data"
    }
   ],
   "source": [
    "import seaborn as sns\n",
    "import numpy as np\n",
    "import matplotlib.pyplot as plt\n",
    "import pandas as pd\n",
    "\n",
    "# Heatmap for correlation between variables\n",
    "\n",
    "# Select only the numeric columns from the 'weather' DataFrame\n",
    "numeric_columns = weather.select_dtypes(include=[np.number])\n",
    "\n",
    "plt.figure(figsize=(6, 4))\n",
    "sns.heatmap(weather.corr(), annot=True)\n",
    "plt.show()"
   ]
  },
  {
   "cell_type": "code",
   "execution_count": 129,
   "metadata": {},
   "outputs": [
    {
     "data": {
      "text/plain": [
       "<Axes: >"
      ]
     },
     "execution_count": 129,
     "metadata": {},
     "output_type": "execute_result"
    },
    {
     "data": {
      "image/png": "[encoded data removed]",
      "text/plain": [
       "<Figure size 1200x600 with 1 Axes>"
      ]
     },
     "metadata": {},
     "output_type": "display_data"
    }
   ],
   "source": [
    "weather.plot(figsize=(12, 6))"
   ]
  },
  {
   "cell_type": "code",
   "execution_count": 130,
   "metadata": {},
   "outputs": [
    {
     "data": {
      "text/html": [
       "<div>\n",
       "<style scoped>\n",
       "    .dataframe tbody tr th:only-of-type {\n",
       "        vertical-align: middle;\n",
       "    }\n",
       "\n",
       "    .dataframe tbody tr th {\n",
       "        vertical-align: top;\n",
       "    }\n",
       "\n",
       "    .dataframe thead th {\n",
       "        text-align: right;\n",
       "    }\n",
       "</style>\n",
       "<table border=\"1\" class=\"dataframe\">\n",
       "  <thead>\n",
       "    <tr style=\"text-align: right;\">\n",
       "      <th></th>\n",
       "      <th>Date</th>\n",
       "      <th>Rainfall(mm)</th>\n",
       "      <th>Tavg</th>\n",
       "      <th>Tmax</th>\n",
       "      <th>Tmin</th>\n",
       "    </tr>\n",
       "  </thead>\n",
       "  <tbody>\n",
       "    <tr>\n",
       "      <th>count</th>\n",
       "      <td>21096</td>\n",
       "      <td>21096.000000</td>\n",
       "      <td>21096.000000</td>\n",
       "      <td>21096.000000</td>\n",
       "      <td>21096.000000</td>\n",
       "    </tr>\n",
       "    <tr>\n",
       "      <th>mean</th>\n",
       "      <td>1994-11-17 12:00:00</td>\n",
       "      <td>2.980838</td>\n",
       "      <td>16.045985</td>\n",
       "      <td>19.637955</td>\n",
       "      <td>12.448071</td>\n",
       "    </tr>\n",
       "    <tr>\n",
       "      <th>min</th>\n",
       "      <td>1966-01-01 00:00:00</td>\n",
       "      <td>0.000000</td>\n",
       "      <td>5.000000</td>\n",
       "      <td>8.100000</td>\n",
       "      <td>-0.300000</td>\n",
       "    </tr>\n",
       "    <tr>\n",
       "      <th>25%</th>\n",
       "      <td>1980-06-09 18:00:00</td>\n",
       "      <td>0.000000</td>\n",
       "      <td>12.600000</td>\n",
       "      <td>15.900000</td>\n",
       "      <td>9.200000</td>\n",
       "    </tr>\n",
       "    <tr>\n",
       "      <th>50%</th>\n",
       "      <td>1994-11-17 12:00:00</td>\n",
       "      <td>0.010000</td>\n",
       "      <td>15.400000</td>\n",
       "      <td>18.800000</td>\n",
       "      <td>12.200000</td>\n",
       "    </tr>\n",
       "    <tr>\n",
       "      <th>75%</th>\n",
       "      <td>2009-04-26 06:00:00</td>\n",
       "      <td>2.500000</td>\n",
       "      <td>18.600000</td>\n",
       "      <td>22.200000</td>\n",
       "      <td>15.100000</td>\n",
       "    </tr>\n",
       "    <tr>\n",
       "      <th>max</th>\n",
       "      <td>2023-10-04 00:00:00</td>\n",
       "      <td>161.800000</td>\n",
       "      <td>72.000000</td>\n",
       "      <td>81.000000</td>\n",
       "      <td>69.000000</td>\n",
       "    </tr>\n",
       "    <tr>\n",
       "      <th>std</th>\n",
       "      <td>NaN</td>\n",
       "      <td>7.263680</td>\n",
       "      <td>6.318636</td>\n",
       "      <td>6.716051</td>\n",
       "      <td>6.158920</td>\n",
       "    </tr>\n",
       "  </tbody>\n",
       "</table>\n",
       "</div>"
      ],
      "text/plain": [
       "                      Date  Rainfall(mm)          Tavg          Tmax  \\\n",
       "count                21096  21096.000000  21096.000000  21096.000000   \n",
       "mean   1994-11-17 12:00:00      2.980838     16.045985     19.637955   \n",
       "min    1966-01-01 00:00:00      0.000000      5.000000      8.100000   \n",
       "25%    1980-06-09 18:00:00      0.000000     12.600000     15.900000   \n",
       "50%    1994-11-17 12:00:00      0.010000     15.400000     18.800000   \n",
       "75%    2009-04-26 06:00:00      2.500000     18.600000     22.200000   \n",
       "max    2023-10-04 00:00:00    161.800000     72.000000     81.000000   \n",
       "std                    NaN      7.263680      6.318636      6.716051   \n",
       "\n",
       "               Tmin  \n",
       "count  21096.000000  \n",
       "mean      12.448071  \n",
       "min       -0.300000  \n",
       "25%        9.200000  \n",
       "50%       12.200000  \n",
       "75%       15.100000  \n",
       "max       69.000000  \n",
       "std        6.158920  "
      ]
     },
     "execution_count": 130,
     "metadata": {},
     "output_type": "execute_result"
    }
   ],
   "source": [
    "weather.describe()"
   ]
  },
  {
   "cell_type": "code",
   "execution_count": 131,
   "metadata": {},
   "outputs": [
    {
     "data": {
      "text/html": [
       "<div>\n",
       "<style scoped>\n",
       "    .dataframe tbody tr th:only-of-type {\n",
       "        vertical-align: middle;\n",
       "    }\n",
       "\n",
       "    .dataframe tbody tr th {\n",
       "        vertical-align: top;\n",
       "    }\n",
       "\n",
       "    .dataframe thead th {\n",
       "        text-align: right;\n",
       "    }\n",
       "</style>\n",
       "<table border=\"1\" class=\"dataframe\">\n",
       "  <thead>\n",
       "    <tr style=\"text-align: right;\">\n",
       "      <th></th>\n",
       "      <th>Date</th>\n",
       "      <th>Rainfall(mm)</th>\n",
       "      <th>Tavg</th>\n",
       "      <th>Tmax</th>\n",
       "      <th>Tmin</th>\n",
       "    </tr>\n",
       "  </thead>\n",
       "  <tbody>\n",
       "    <tr>\n",
       "      <th>0</th>\n",
       "      <td>1966-01-01</td>\n",
       "      <td>0.0</td>\n",
       "      <td>18.0</td>\n",
       "      <td>22.2</td>\n",
       "      <td>13.9</td>\n",
       "    </tr>\n",
       "    <tr>\n",
       "      <th>1</th>\n",
       "      <td>1966-01-02</td>\n",
       "      <td>26.2</td>\n",
       "      <td>20.5</td>\n",
       "      <td>23.9</td>\n",
       "      <td>17.1</td>\n",
       "    </tr>\n",
       "    <tr>\n",
       "      <th>2</th>\n",
       "      <td>1966-01-03</td>\n",
       "      <td>0.0</td>\n",
       "      <td>20.3</td>\n",
       "      <td>23.5</td>\n",
       "      <td>17.1</td>\n",
       "    </tr>\n",
       "    <tr>\n",
       "      <th>3</th>\n",
       "      <td>1966-01-04</td>\n",
       "      <td>0.0</td>\n",
       "      <td>20.3</td>\n",
       "      <td>24.4</td>\n",
       "      <td>16.2</td>\n",
       "    </tr>\n",
       "    <tr>\n",
       "      <th>4</th>\n",
       "      <td>1966-01-05</td>\n",
       "      <td>1.3</td>\n",
       "      <td>20.6</td>\n",
       "      <td>23.4</td>\n",
       "      <td>17.8</td>\n",
       "    </tr>\n",
       "  </tbody>\n",
       "</table>\n",
       "</div>"
      ],
      "text/plain": [
       "        Date  Rainfall(mm)  Tavg  Tmax  Tmin\n",
       "0 1966-01-01           0.0  18.0  22.2  13.9\n",
       "1 1966-01-02          26.2  20.5  23.9  17.1\n",
       "2 1966-01-03           0.0  20.3  23.5  17.1\n",
       "3 1966-01-04           0.0  20.3  24.4  16.2\n",
       "4 1966-01-05           1.3  20.6  23.4  17.8"
      ]
     },
     "execution_count": 131,
     "metadata": {},
     "output_type": "execute_result"
    }
   ],
   "source": [
    "weather.head()"
   ]
  },
  {
   "cell_type": "markdown",
   "metadata": {},
   "source": [
    "Lag Features"
   ]
  },
  {
   "cell_type": "code",
   "execution_count": 132,
   "metadata": {},
   "outputs": [],
   "source": [
    "lag_size = 7\n",
    "\n",
    "# Create lag features for 'Rainfall (mm)'\n",
    "for i in range(1, lag_size + 1):\n",
    "    weather[f'Rainfall_lag_{i}'] = weather['Rainfall(mm)'].shift(i)\n",
    "\n",
    "# Create lag features for 'Temperature'\n",
    "for i in range(1, lag_size + 1):\n",
    "    weather[f'Tavg_lag_{i}'] = weather['Tavg'].shift(i)\n",
    "\n",
    "for i in range(1, lag_size + 1):\n",
    "    weather[f'Tmax_lag_{i}'] = weather['Tmax'].shift(i)\n",
    "for i in range(1, lag_size + 1):\n",
    "    weather[f'Tmin_lag_{i}'] = weather['Tmin'].shift(i)\n",
    "\n",
    "weather.dropna(inplace=True)  # Drop rows with NaN values in the lag features"
   ]
  },
  {
   "cell_type": "markdown",
   "metadata": {},
   "source": [
    "Split Data"
   ]
  },
  {
   "cell_type": "code",
   "execution_count": 133,
   "metadata": {},
   "outputs": [
    {
     "name": "stdout",
     "output_type": "stream",
     "text": [
      "Index(['Date', 'Rainfall(mm)', 'Tavg', 'Tmax', 'Tmin', 'Rainfall_lag_1',\n",
      "       'Rainfall_lag_2', 'Rainfall_lag_3', 'Rainfall_lag_4', 'Rainfall_lag_5',\n",
      "       'Rainfall_lag_6', 'Rainfall_lag_7', 'Tavg_lag_1', 'Tavg_lag_2',\n",
      "       'Tavg_lag_3', 'Tavg_lag_4', 'Tavg_lag_5', 'Tavg_lag_6', 'Tavg_lag_7',\n",
      "       'Tmax_lag_1', 'Tmax_lag_2', 'Tmax_lag_3', 'Tmax_lag_4', 'Tmax_lag_5',\n",
      "       'Tmax_lag_6', 'Tmax_lag_7', 'Tmin_lag_1', 'Tmin_lag_2', 'Tmin_lag_3',\n",
      "       'Tmin_lag_4', 'Tmin_lag_5', 'Tmin_lag_6', 'Tmin_lag_7'],\n",
      "      dtype='object')\n"
     ]
    }
   ],
   "source": [
    "print(weather.columns)\n"
   ]
  },
  {
   "cell_type": "code",
   "execution_count": 134,
   "metadata": {},
   "outputs": [],
   "source": [
    "from sklearn.model_selection import train_test_split\n",
    "from sklearn.preprocessing import MinMaxScaler\n",
    "from sklearn.impute import SimpleImputer\n",
    "\n",
    "imputer = SimpleImputer(strategy='mean')\n",
    "weather_imputed = weather.drop('Date', axis=1).copy()\n",
    "weather_imputed.iloc[:, 1:] = imputer.fit_transform(weather_imputed.iloc[:, 1:])\n",
    "\n",
    "# Define features and target\n",
    "X = weather_imputed.drop(['Rainfall_lag_1'], axis=1)\n",
    "y = weather_imputed['Rainfall_lag_1']\n",
    "\n",
    "# Min-Max scaling for features\n",
    "scaler = MinMaxScaler()\n",
    "X = X.astype(float)\n",
    "X_scaled = scaler.fit_transform(X)\n",
    "\n",
    "# Split the data into training and testing sets\n",
    "X_train, X_test, y_train, y_test = train_test_split(X_scaled, y, test_size=0.2, shuffle=False, random_state=42)\n",
    "\n",
    "# Reshape the data for LSTM (assuming lag_size=3)\n",
    "X_train_lstm = X_train.reshape((X_train.shape[0], 1, X_train.shape[1]))\n",
    "X_test_lstm = X_test.reshape((X_test.shape[0], 1, X_test.shape[1]))\n"
   ]
  },
  {
   "cell_type": "markdown",
   "metadata": {},
   "source": [
    "# LSTM Model"
   ]
  },
  {
   "cell_type": "code",
   "execution_count": 135,
   "metadata": {},
   "outputs": [
    {
     "name": "stdout",
     "output_type": "stream",
     "text": [
      "Epoch 1/50\n",
      "475/475 [==============================] - 4s 4ms/step - loss: 57.0814 - val_loss: 45.6905\n",
      "Epoch 2/50\n",
      "475/475 [==============================] - 1s 3ms/step - loss: 55.4079 - val_loss: 44.8385\n",
      "Epoch 3/50\n",
      "475/475 [==============================] - 1s 3ms/step - loss: 54.4726 - val_loss: 43.7220\n",
      "Epoch 4/50\n",
      "475/475 [==============================] - 1s 3ms/step - loss: 53.2637 - val_loss: 42.3725\n",
      "Epoch 5/50\n",
      "475/475 [==============================] - 1s 3ms/step - loss: 52.1801 - val_loss: 41.6104\n",
      "Epoch 6/50\n",
      "475/475 [==============================] - 1s 3ms/step - loss: 51.5698 - val_loss: 41.1660\n",
      "Epoch 7/50\n",
      "475/475 [==============================] - 1s 3ms/step - loss: 51.2430 - val_loss: 40.8301\n",
      "Epoch 8/50\n",
      "475/475 [==============================] - 1s 3ms/step - loss: 51.0743 - val_loss: 40.9621\n",
      "Epoch 9/50\n",
      "475/475 [==============================] - 1s 3ms/step - loss: 50.9455 - val_loss: 40.6867\n",
      "Epoch 10/50\n",
      "475/475 [==============================] - 1s 3ms/step - loss: 50.8711 - val_loss: 40.5289\n",
      "Epoch 11/50\n",
      "475/475 [==============================] - 1s 3ms/step - loss: 50.7656 - val_loss: 40.4560\n",
      "Epoch 12/50\n",
      "475/475 [==============================] - 1s 3ms/step - loss: 50.6736 - val_loss: 40.3976\n",
      "Epoch 13/50\n",
      "475/475 [==============================] - 1s 3ms/step - loss: 50.6150 - val_loss: 40.3489\n",
      "Epoch 14/50\n",
      "475/475 [==============================] - 1s 3ms/step - loss: 50.5521 - val_loss: 40.2232\n",
      "Epoch 15/50\n",
      "475/475 [==============================] - 1s 3ms/step - loss: 50.5496 - val_loss: 40.3497\n",
      "Epoch 16/50\n",
      "475/475 [==============================] - 1s 3ms/step - loss: 50.4947 - val_loss: 40.1619\n",
      "Epoch 17/50\n",
      "475/475 [==============================] - 1s 3ms/step - loss: 50.3843 - val_loss: 40.1324\n",
      "Epoch 18/50\n",
      "475/475 [==============================] - 1s 3ms/step - loss: 50.3224 - val_loss: 40.0045\n",
      "Epoch 19/50\n",
      "475/475 [==============================] - 1s 3ms/step - loss: 50.2741 - val_loss: 40.1484\n",
      "Epoch 20/50\n",
      "475/475 [==============================] - 1s 3ms/step - loss: 50.2368 - val_loss: 39.9908\n",
      "Epoch 21/50\n",
      "475/475 [==============================] - 1s 3ms/step - loss: 50.2726 - val_loss: 40.1013\n",
      "Epoch 22/50\n",
      "475/475 [==============================] - 1s 3ms/step - loss: 50.1868 - val_loss: 39.8586\n",
      "Epoch 23/50\n",
      "475/475 [==============================] - 1s 3ms/step - loss: 50.1402 - val_loss: 39.8102\n",
      "Epoch 24/50\n",
      "475/475 [==============================] - 1s 3ms/step - loss: 50.1197 - val_loss: 39.7872\n",
      "Epoch 25/50\n",
      "475/475 [==============================] - 1s 3ms/step - loss: 50.0666 - val_loss: 39.7643\n",
      "Epoch 26/50\n",
      "475/475 [==============================] - 1s 3ms/step - loss: 50.0423 - val_loss: 39.8780\n",
      "Epoch 27/50\n",
      "475/475 [==============================] - 1s 3ms/step - loss: 50.0014 - val_loss: 39.7737\n",
      "Epoch 28/50\n",
      "475/475 [==============================] - 1s 3ms/step - loss: 49.9396 - val_loss: 39.6850\n",
      "Epoch 29/50\n",
      "475/475 [==============================] - 1s 3ms/step - loss: 49.9264 - val_loss: 39.6465\n",
      "Epoch 30/50\n",
      "475/475 [==============================] - 1s 3ms/step - loss: 49.9056 - val_loss: 39.6238\n",
      "Epoch 31/50\n",
      "475/475 [==============================] - 1s 3ms/step - loss: 49.8824 - val_loss: 39.6381\n",
      "Epoch 32/50\n",
      "475/475 [==============================] - 1s 3ms/step - loss: 49.8351 - val_loss: 39.6167\n",
      "Epoch 33/50\n",
      "475/475 [==============================] - 1s 3ms/step - loss: 49.8429 - val_loss: 39.6263\n",
      "Epoch 34/50\n",
      "475/475 [==============================] - 1s 3ms/step - loss: 49.8546 - val_loss: 39.7250\n",
      "Epoch 35/50\n",
      "475/475 [==============================] - 1s 3ms/step - loss: 49.8426 - val_loss: 39.5393\n",
      "Epoch 36/50\n",
      "475/475 [==============================] - 1s 3ms/step - loss: 49.8221 - val_loss: 39.5332\n",
      "Epoch 37/50\n",
      "475/475 [==============================] - 1s 3ms/step - loss: 49.7896 - val_loss: 39.5168\n",
      "Epoch 38/50\n",
      "475/475 [==============================] - 1s 3ms/step - loss: 49.7670 - val_loss: 39.9944\n",
      "Epoch 39/50\n",
      "475/475 [==============================] - 1s 3ms/step - loss: 49.7444 - val_loss: 39.5693\n",
      "Epoch 40/50\n",
      "475/475 [==============================] - 1s 3ms/step - loss: 49.7376 - val_loss: 39.4496\n",
      "Epoch 41/50\n",
      "475/475 [==============================] - 1s 3ms/step - loss: 49.7804 - val_loss: 39.4806\n",
      "Epoch 42/50\n",
      "475/475 [==============================] - 1s 3ms/step - loss: 49.7281 - val_loss: 39.5708\n",
      "Epoch 43/50\n",
      "475/475 [==============================] - 1s 3ms/step - loss: 49.7578 - val_loss: 39.4757\n",
      "Epoch 44/50\n",
      "475/475 [==============================] - 1s 3ms/step - loss: 49.6894 - val_loss: 40.0427\n",
      "Epoch 45/50\n",
      "475/475 [==============================] - 1s 3ms/step - loss: 49.7568 - val_loss: 39.5287\n",
      "Epoch 46/50\n",
      "475/475 [==============================] - 1s 3ms/step - loss: 49.6912 - val_loss: 39.4156\n",
      "Epoch 47/50\n",
      "475/475 [==============================] - 2s 3ms/step - loss: 49.6832 - val_loss: 39.4752\n",
      "Epoch 48/50\n",
      "475/475 [==============================] - 2s 4ms/step - loss: 49.6199 - val_loss: 39.3960\n",
      "Epoch 49/50\n",
      "475/475 [==============================] - 2s 4ms/step - loss: 49.6436 - val_loss: 39.9029\n",
      "Epoch 50/50\n",
      "475/475 [==============================] - 2s 3ms/step - loss: 49.5990 - val_loss: 39.7113\n",
      "132/132 [==============================] - 1s 2ms/step\n"
     ]
    }
   ],
   "source": [
    "from keras.models import Sequential\n",
    "from keras.layers import LSTM, Dense\n",
    "\n",
    "# Build the LSTM model\n",
    "lstm_model = Sequential()\n",
    "lstm_model.add(LSTM(50, input_shape=(X_train_lstm.shape[1], X_train_lstm.shape[2])))\n",
    "lstm_model.add(Dense(1))\n",
    "lstm_model.compile(optimizer='adam', loss='mse')\n",
    "\n",
    "# Train the LSTM model\n",
    "lstm_model.fit(X_train_lstm, y_train, epochs=50, batch_size=32, validation_split=0.1)\n",
    "\n",
    "# Make predictions\n",
    "lstm_predictions = lstm_model.predict(X_test_lstm)\n",
    "lstm_predictions = lstm_predictions.flatten()"
   ]
  },
  {
   "cell_type": "code",
   "execution_count": 136,
   "metadata": {},
   "outputs": [
    {
     "name": "stdout",
     "output_type": "stream",
     "text": [
      "  1/528 [..............................] - ETA: 20s"
     ]
    },
    {
     "name": "stdout",
     "output_type": "stream",
     "text": [
      "528/528 [==============================] - 1s 2ms/step\n",
      "132/132 [==============================] - 0s 3ms/step\n",
      "Training Set Metrics:\n",
      "LSTM Root Mean Squared Error (RMSE): 6.981133807658601\n",
      "LSTM Mean Absolute Error (MAE): 3.8419461460225537\n",
      "LSTM Mean Squared Error (MSE): 48.73622924043388\n",
      "LSTM R2 Score: 0.10763455155180335\n",
      "\n",
      "Testing Set Metrics:\n",
      "LSTM Root Mean Squared Error (RMSE): 6.241846369370754\n",
      "LSTM Mean Absolute Error (MAE): 3.5747149049790976\n",
      "LSTM Mean Squared Error (MSE): 38.96064609882687\n",
      "LSTM R2 Score: 0.13871716337508788\n"
     ]
    }
   ],
   "source": [
    "from sklearn.metrics import mean_squared_error, mean_absolute_error, r2_score\n",
    "from math import sqrt\n",
    "\n",
    "# Make predictions on the training set\n",
    "train_lstm_predictions = lstm_model.predict(X_train_lstm)\n",
    "\n",
    "# Make predictions on the testing set\n",
    "test_lstm_predictions = lstm_model.predict(X_test_lstm)\n",
    "\n",
    "# Calculate RMSE for training set\n",
    "rmse_train = sqrt(mean_squared_error(y_train, train_lstm_predictions))\n",
    "\n",
    "# Calculate MAE for training set\n",
    "mae_train = mean_absolute_error(y_train, train_lstm_predictions)\n",
    "\n",
    "# Calculate MSE for training set\n",
    "mse_train = mean_squared_error(y_train, train_lstm_predictions)\n",
    "\n",
    "# Calculate R2 score for training set\n",
    "r2_train = r2_score(y_train, train_lstm_predictions)\n",
    "\n",
    "# Calculate RMSE for testing set\n",
    "rmse_test = sqrt(mean_squared_error(y_test, test_lstm_predictions))\n",
    "\n",
    "# Calculate MAE for testing set\n",
    "mae_test = mean_absolute_error(y_test, test_lstm_predictions)\n",
    "\n",
    "# Calculate MSE for testing set\n",
    "mse_test = mean_squared_error(y_test, test_lstm_predictions)\n",
    "\n",
    "# Calculate R2 score for testing set\n",
    "r2_test = r2_score(y_test, test_lstm_predictions)\n",
    "\n",
    "# Print the metrics for training set\n",
    "print(\"Training Set Metrics:\")\n",
    "print(\"LSTM Root Mean Squared Error (RMSE):\", rmse_train)\n",
    "print(\"LSTM Mean Absolute Error (MAE):\", mae_train)\n",
    "print(\"LSTM Mean Squared Error (MSE):\", mse_train)\n",
    "print(\"LSTM R2 Score:\", r2_train)\n",
    "\n",
    "# Print the metrics for testing set\n",
    "print(\"\\nTesting Set Metrics:\")\n",
    "print(\"LSTM Root Mean Squared Error (RMSE):\", rmse_test)\n",
    "print(\"LSTM Mean Absolute Error (MAE):\", mae_test)\n",
    "print(\"LSTM Mean Squared Error (MSE):\", mse_test)\n",
    "print(\"LSTM R2 Score:\", r2_test)\n"
   ]
  },
  {
   "cell_type": "code",
   "execution_count": 137,
   "metadata": {},
   "outputs": [
    {
     "ename": "AttributeError",
     "evalue": "'numpy.ndarray' object has no attribute 'index'",
     "output_type": "error",
     "traceback": [
      "\u001b[1;31m---------------------------------------------------------------------------\u001b[0m",
      "\u001b[1;31mAttributeError\u001b[0m                            Traceback (most recent call last)",
      "Cell \u001b[1;32mIn[137], line 3\u001b[0m\n\u001b[0;32m      1\u001b[0m \u001b[39mimport\u001b[39;00m \u001b[39mmatplotlib\u001b[39;00m\u001b[39m.\u001b[39;00m\u001b[39mpyplot\u001b[39;00m \u001b[39mas\u001b[39;00m \u001b[39mplt\u001b[39;00m\n\u001b[1;32m----> 3\u001b[0m result_df \u001b[39m=\u001b[39m pd\u001b[39m.\u001b[39mDataFrame({\u001b[39m'\u001b[39m\u001b[39mActual\u001b[39m\u001b[39m'\u001b[39m: y_test, \u001b[39m'\u001b[39m\u001b[39mPredicted\u001b[39m\u001b[39m'\u001b[39m: test_lstm_predictions}, index\u001b[39m=\u001b[39mX_test\u001b[39m.\u001b[39;49mindex)\n\u001b[0;32m      5\u001b[0m \u001b[39m# Resample data to a weekly frequency\u001b[39;00m\n\u001b[0;32m      6\u001b[0m result_df_weekly \u001b[39m=\u001b[39m result_df\u001b[39m.\u001b[39mresample(\u001b[39m'\u001b[39m\u001b[39mW\u001b[39m\u001b[39m'\u001b[39m)\u001b[39m.\u001b[39mmean()\n",
      "\u001b[1;31mAttributeError\u001b[0m: 'numpy.ndarray' object has no attribute 'index'"
     ]
    }
   ],
   "source": [
    "import matplotlib.pyplot as plt\n",
    "\n",
    "result_df = pd.DataFrame({'Actual': y_test, 'Predicted': test_lstm_predictions}, index=X_test.index)\n",
    "\n",
    "# Resample data to a weekly frequency\n",
    "result_df_weekly = result_df.resample('W').mean()\n",
    "\n",
    "# Plotting actual vs. predicted values using subplots\n",
    "fig, ax = plt.subplots(figsize=(15, 6))\n",
    "\n",
    "ax.plot(result_df_weekly.index, result_df_weekly['Actual'], label='Actual', marker='.')\n",
    "ax.plot(result_df_weekly.index, result_df_weekly['Predicted'], label='Predicted', marker='.')\n",
    "\n",
    "ax.set_title('Actual vs. Predicted Rainfall')\n",
    "ax.set_xlabel('Date')\n",
    "ax.set_ylabel('Rainfall (mm)')\n",
    "ax.legend()\n",
    "\n",
    "plt.show()"
   ]
  }
 ],
 "metadata": {
  "kernelspec": {
   "display_name": "Python 3",
   "language": "python",
   "name": "python3"
  },
  "language_info": {
   "codemirror_mode": {
    "name": "ipython",
    "version": 3
   },
   "file_extension": ".py",
   "mimetype": "text/x-python",
   "name": "python",
   "nbconvert_exporter": "python",
   "pygments_lexer": "ipython3",
   "version": "3.10.7"
  },
  "orig_nbformat": 4
 },
 "nbformat": 4,
 "nbformat_minor": 2
}
