{
 "cells": [
  {
   "cell_type": "markdown",
   "metadata": {},
   "source": [
    "Data Preprocessing"
   ]
  },
  {
   "cell_type": "code",
   "execution_count": 3,
   "metadata": {},
   "outputs": [
    {
     "data": {
      "text/html": [
       "<div>\n",
       "<style scoped>\n",
       "    .dataframe tbody tr th:only-of-type {\n",
       "        vertical-align: middle;\n",
       "    }\n",
       "\n",
       "    .dataframe tbody tr th {\n",
       "        vertical-align: top;\n",
       "    }\n",
       "\n",
       "    .dataframe thead th {\n",
       "        text-align: right;\n",
       "    }\n",
       "</style>\n",
       "<table border=\"1\" class=\"dataframe\">\n",
       "  <thead>\n",
       "    <tr style=\"text-align: right;\">\n",
       "      <th></th>\n",
       "      <th>Timestamp</th>\n",
       "      <th>UTC Offset</th>\n",
       "      <th>Multiple Gauge Rainfall Recency Alarm (on/off)</th>\n",
       "      <th>Quality</th>\n",
       "      <th>Rainfall (mm)</th>\n",
       "      <th>Quality.1</th>\n",
       "      <th>Rainfall (Accumulated) (mm)</th>\n",
       "      <th>Quality.2</th>\n",
       "    </tr>\n",
       "  </thead>\n",
       "  <tbody>\n",
       "    <tr>\n",
       "      <th>0</th>\n",
       "      <td>2022-08-18 14:20:00</td>\n",
       "      <td>12</td>\n",
       "      <td>NaN</td>\n",
       "      <td>No data available</td>\n",
       "      <td>NaN</td>\n",
       "      <td>No data available</td>\n",
       "      <td>0.0</td>\n",
       "      <td>Automated Process or Synthetic</td>\n",
       "    </tr>\n",
       "    <tr>\n",
       "      <th>1</th>\n",
       "      <td>2022-08-18 14:25:00</td>\n",
       "      <td>12</td>\n",
       "      <td>NaN</td>\n",
       "      <td>No data available</td>\n",
       "      <td>NaN</td>\n",
       "      <td>No data available</td>\n",
       "      <td>0.0</td>\n",
       "      <td>Automated Process or Synthetic</td>\n",
       "    </tr>\n",
       "    <tr>\n",
       "      <th>2</th>\n",
       "      <td>2022-08-18 14:30:00</td>\n",
       "      <td>12</td>\n",
       "      <td>NaN</td>\n",
       "      <td>No data available</td>\n",
       "      <td>NaN</td>\n",
       "      <td>No data available</td>\n",
       "      <td>0.0</td>\n",
       "      <td>Automated Process or Synthetic</td>\n",
       "    </tr>\n",
       "    <tr>\n",
       "      <th>3</th>\n",
       "      <td>2022-08-18 14:35:00</td>\n",
       "      <td>12</td>\n",
       "      <td>NaN</td>\n",
       "      <td>No data available</td>\n",
       "      <td>2.5</td>\n",
       "      <td>No quality or non-verified</td>\n",
       "      <td>2.5</td>\n",
       "      <td>Automated Process or Synthetic</td>\n",
       "    </tr>\n",
       "    <tr>\n",
       "      <th>4</th>\n",
       "      <td>2022-08-18 14:40:00</td>\n",
       "      <td>12</td>\n",
       "      <td>NaN</td>\n",
       "      <td>No data available</td>\n",
       "      <td>NaN</td>\n",
       "      <td>No data available</td>\n",
       "      <td>2.5</td>\n",
       "      <td>Automated Process or Synthetic</td>\n",
       "    </tr>\n",
       "  </tbody>\n",
       "</table>\n",
       "</div>"
      ],
      "text/plain": [
       "            Timestamp  UTC Offset  \\\n",
       "0 2022-08-18 14:20:00          12   \n",
       "1 2022-08-18 14:25:00          12   \n",
       "2 2022-08-18 14:30:00          12   \n",
       "3 2022-08-18 14:35:00          12   \n",
       "4 2022-08-18 14:40:00          12   \n",
       "\n",
       "   Multiple Gauge Rainfall Recency Alarm (on/off)            Quality  \\\n",
       "0                                             NaN  No data available   \n",
       "1                                             NaN  No data available   \n",
       "2                                             NaN  No data available   \n",
       "3                                             NaN  No data available   \n",
       "4                                             NaN  No data available   \n",
       "\n",
       "   Rainfall (mm)                   Quality.1  Rainfall (Accumulated) (mm)  \\\n",
       "0            NaN           No data available                          0.0   \n",
       "1            NaN           No data available                          0.0   \n",
       "2            NaN           No data available                          0.0   \n",
       "3            2.5  No quality or non-verified                          2.5   \n",
       "4            NaN           No data available                          2.5   \n",
       "\n",
       "                        Quality.2  \n",
       "0  Automated Process or Synthetic  \n",
       "1  Automated Process or Synthetic  \n",
       "2  Automated Process or Synthetic  \n",
       "3  Automated Process or Synthetic  \n",
       "4  Automated Process or Synthetic  "
      ]
     },
     "execution_count": 3,
     "metadata": {},
     "output_type": "execute_result"
    }
   ],
   "source": [
    "import pandas as pd\n",
    "rain = pd.read_csv('./ACC - Rain -Albert Park Acc rainfall_20220818-20230818.csv', parse_dates=['Timestamp'])\n",
    "rain.head()"
   ]
  },
  {
   "cell_type": "code",
   "execution_count": 4,
   "metadata": {},
   "outputs": [
    {
     "data": {
      "text/html": [
       "<div>\n",
       "<style scoped>\n",
       "    .dataframe tbody tr th:only-of-type {\n",
       "        vertical-align: middle;\n",
       "    }\n",
       "\n",
       "    .dataframe tbody tr th {\n",
       "        vertical-align: top;\n",
       "    }\n",
       "\n",
       "    .dataframe thead th {\n",
       "        text-align: right;\n",
       "    }\n",
       "</style>\n",
       "<table border=\"1\" class=\"dataframe\">\n",
       "  <thead>\n",
       "    <tr style=\"text-align: right;\">\n",
       "      <th></th>\n",
       "      <th>Timestamp</th>\n",
       "      <th>UTC Offset</th>\n",
       "      <th>Soil Moisture Content (%V/V)</th>\n",
       "      <th>Quality</th>\n",
       "    </tr>\n",
       "  </thead>\n",
       "  <tbody>\n",
       "    <tr>\n",
       "      <th>0</th>\n",
       "      <td>2022-08-18 14:25:00</td>\n",
       "      <td>12</td>\n",
       "      <td>NaN</td>\n",
       "      <td>No data available</td>\n",
       "    </tr>\n",
       "    <tr>\n",
       "      <th>1</th>\n",
       "      <td>2022-08-18 14:30:00</td>\n",
       "      <td>12</td>\n",
       "      <td>52.1</td>\n",
       "      <td>No quality or non-verified</td>\n",
       "    </tr>\n",
       "    <tr>\n",
       "      <th>2</th>\n",
       "      <td>2022-08-18 14:35:00</td>\n",
       "      <td>12</td>\n",
       "      <td>NaN</td>\n",
       "      <td>No data available</td>\n",
       "    </tr>\n",
       "    <tr>\n",
       "      <th>3</th>\n",
       "      <td>2022-08-18 14:40:00</td>\n",
       "      <td>12</td>\n",
       "      <td>NaN</td>\n",
       "      <td>No data available</td>\n",
       "    </tr>\n",
       "    <tr>\n",
       "      <th>4</th>\n",
       "      <td>2022-08-18 14:45:00</td>\n",
       "      <td>12</td>\n",
       "      <td>52.1</td>\n",
       "      <td>No quality or non-verified</td>\n",
       "    </tr>\n",
       "  </tbody>\n",
       "</table>\n",
       "</div>"
      ],
      "text/plain": [
       "            Timestamp  UTC Offset  Soil Moisture Content (%V/V)  \\\n",
       "0 2022-08-18 14:25:00          12                           NaN   \n",
       "1 2022-08-18 14:30:00          12                          52.1   \n",
       "2 2022-08-18 14:35:00          12                           NaN   \n",
       "3 2022-08-18 14:40:00          12                           NaN   \n",
       "4 2022-08-18 14:45:00          12                          52.1   \n",
       "\n",
       "                      Quality  \n",
       "0           No data available  \n",
       "1  No quality or non-verified  \n",
       "2           No data available  \n",
       "3           No data available  \n",
       "4  No quality or non-verified  "
      ]
     },
     "execution_count": 4,
     "metadata": {},
     "output_type": "execute_result"
    }
   ],
   "source": [
    "moist = pd.read_csv('./ACC - Soil Moisture - Mt Albert Grammar Rain_20220818-20230818_5mins.csv', parse_dates=['Timestamp'])\n",
    "moist.head()"
   ]
  },
  {
   "cell_type": "code",
   "execution_count": 5,
   "metadata": {},
   "outputs": [
    {
     "data": {
      "text/html": [
       "<div>\n",
       "<style scoped>\n",
       "    .dataframe tbody tr th:only-of-type {\n",
       "        vertical-align: middle;\n",
       "    }\n",
       "\n",
       "    .dataframe tbody tr th {\n",
       "        vertical-align: top;\n",
       "    }\n",
       "\n",
       "    .dataframe thead th {\n",
       "        text-align: right;\n",
       "    }\n",
       "</style>\n",
       "<table border=\"1\" class=\"dataframe\">\n",
       "  <thead>\n",
       "    <tr style=\"text-align: right;\">\n",
       "      <th></th>\n",
       "      <th>Timestamp</th>\n",
       "      <th>UTC Offset_x</th>\n",
       "      <th>Multiple Gauge Rainfall Recency Alarm (on/off)</th>\n",
       "      <th>Quality_x</th>\n",
       "      <th>Rainfall (mm)</th>\n",
       "      <th>Quality.1</th>\n",
       "      <th>Rainfall (Accumulated) (mm)</th>\n",
       "      <th>Quality.2</th>\n",
       "      <th>UTC Offset_y</th>\n",
       "      <th>Soil Moisture Content (%V/V)</th>\n",
       "      <th>Quality_y</th>\n",
       "    </tr>\n",
       "  </thead>\n",
       "  <tbody>\n",
       "    <tr>\n",
       "      <th>0</th>\n",
       "      <td>2022-08-18 14:25:00</td>\n",
       "      <td>12</td>\n",
       "      <td>NaN</td>\n",
       "      <td>No data available</td>\n",
       "      <td>NaN</td>\n",
       "      <td>No data available</td>\n",
       "      <td>0.0</td>\n",
       "      <td>Automated Process or Synthetic</td>\n",
       "      <td>12</td>\n",
       "      <td>NaN</td>\n",
       "      <td>No data available</td>\n",
       "    </tr>\n",
       "    <tr>\n",
       "      <th>1</th>\n",
       "      <td>2022-08-18 14:30:00</td>\n",
       "      <td>12</td>\n",
       "      <td>NaN</td>\n",
       "      <td>No data available</td>\n",
       "      <td>NaN</td>\n",
       "      <td>No data available</td>\n",
       "      <td>0.0</td>\n",
       "      <td>Automated Process or Synthetic</td>\n",
       "      <td>12</td>\n",
       "      <td>52.1</td>\n",
       "      <td>No quality or non-verified</td>\n",
       "    </tr>\n",
       "    <tr>\n",
       "      <th>2</th>\n",
       "      <td>2022-08-18 14:35:00</td>\n",
       "      <td>12</td>\n",
       "      <td>NaN</td>\n",
       "      <td>No data available</td>\n",
       "      <td>2.5</td>\n",
       "      <td>No quality or non-verified</td>\n",
       "      <td>2.5</td>\n",
       "      <td>Automated Process or Synthetic</td>\n",
       "      <td>12</td>\n",
       "      <td>NaN</td>\n",
       "      <td>No data available</td>\n",
       "    </tr>\n",
       "    <tr>\n",
       "      <th>3</th>\n",
       "      <td>2022-08-18 14:40:00</td>\n",
       "      <td>12</td>\n",
       "      <td>NaN</td>\n",
       "      <td>No data available</td>\n",
       "      <td>NaN</td>\n",
       "      <td>No data available</td>\n",
       "      <td>2.5</td>\n",
       "      <td>Automated Process or Synthetic</td>\n",
       "      <td>12</td>\n",
       "      <td>NaN</td>\n",
       "      <td>No data available</td>\n",
       "    </tr>\n",
       "    <tr>\n",
       "      <th>4</th>\n",
       "      <td>2022-08-18 14:45:00</td>\n",
       "      <td>12</td>\n",
       "      <td>NaN</td>\n",
       "      <td>No data available</td>\n",
       "      <td>NaN</td>\n",
       "      <td>No data available</td>\n",
       "      <td>2.5</td>\n",
       "      <td>Automated Process or Synthetic</td>\n",
       "      <td>12</td>\n",
       "      <td>52.1</td>\n",
       "      <td>No quality or non-verified</td>\n",
       "    </tr>\n",
       "  </tbody>\n",
       "</table>\n",
       "</div>"
      ],
      "text/plain": [
       "            Timestamp  UTC Offset_x  \\\n",
       "0 2022-08-18 14:25:00            12   \n",
       "1 2022-08-18 14:30:00            12   \n",
       "2 2022-08-18 14:35:00            12   \n",
       "3 2022-08-18 14:40:00            12   \n",
       "4 2022-08-18 14:45:00            12   \n",
       "\n",
       "   Multiple Gauge Rainfall Recency Alarm (on/off)          Quality_x  \\\n",
       "0                                             NaN  No data available   \n",
       "1                                             NaN  No data available   \n",
       "2                                             NaN  No data available   \n",
       "3                                             NaN  No data available   \n",
       "4                                             NaN  No data available   \n",
       "\n",
       "   Rainfall (mm)                   Quality.1  Rainfall (Accumulated) (mm)  \\\n",
       "0            NaN           No data available                          0.0   \n",
       "1            NaN           No data available                          0.0   \n",
       "2            2.5  No quality or non-verified                          2.5   \n",
       "3            NaN           No data available                          2.5   \n",
       "4            NaN           No data available                          2.5   \n",
       "\n",
       "                        Quality.2  UTC Offset_y  Soil Moisture Content (%V/V)  \\\n",
       "0  Automated Process or Synthetic            12                           NaN   \n",
       "1  Automated Process or Synthetic            12                          52.1   \n",
       "2  Automated Process or Synthetic            12                           NaN   \n",
       "3  Automated Process or Synthetic            12                           NaN   \n",
       "4  Automated Process or Synthetic            12                          52.1   \n",
       "\n",
       "                    Quality_y  \n",
       "0           No data available  \n",
       "1  No quality or non-verified  \n",
       "2           No data available  \n",
       "3           No data available  \n",
       "4  No quality or non-verified  "
      ]
     },
     "execution_count": 5,
     "metadata": {},
     "output_type": "execute_result"
    }
   ],
   "source": [
    "mtalbert = rain.merge(moist, on='Timestamp')\n",
    "mtalbert.head()"
   ]
  },
  {
   "cell_type": "code",
   "execution_count": 6,
   "metadata": {},
   "outputs": [
    {
     "data": {
      "text/html": [
       "<div>\n",
       "<style scoped>\n",
       "    .dataframe tbody tr th:only-of-type {\n",
       "        vertical-align: middle;\n",
       "    }\n",
       "\n",
       "    .dataframe tbody tr th {\n",
       "        vertical-align: top;\n",
       "    }\n",
       "\n",
       "    .dataframe thead th {\n",
       "        text-align: right;\n",
       "    }\n",
       "</style>\n",
       "<table border=\"1\" class=\"dataframe\">\n",
       "  <thead>\n",
       "    <tr style=\"text-align: right;\">\n",
       "      <th></th>\n",
       "      <th>Timestamp</th>\n",
       "      <th>Rainfall (mm)</th>\n",
       "      <th>Rainfall (Accumulated) (mm)</th>\n",
       "      <th>Soil Moisture Content (%V/V)</th>\n",
       "    </tr>\n",
       "  </thead>\n",
       "  <tbody>\n",
       "    <tr>\n",
       "      <th>0</th>\n",
       "      <td>2022-08-18 14:25:00</td>\n",
       "      <td>NaN</td>\n",
       "      <td>0.0</td>\n",
       "      <td>NaN</td>\n",
       "    </tr>\n",
       "    <tr>\n",
       "      <th>1</th>\n",
       "      <td>2022-08-18 14:30:00</td>\n",
       "      <td>NaN</td>\n",
       "      <td>0.0</td>\n",
       "      <td>52.1</td>\n",
       "    </tr>\n",
       "    <tr>\n",
       "      <th>2</th>\n",
       "      <td>2022-08-18 14:35:00</td>\n",
       "      <td>2.5</td>\n",
       "      <td>2.5</td>\n",
       "      <td>NaN</td>\n",
       "    </tr>\n",
       "    <tr>\n",
       "      <th>3</th>\n",
       "      <td>2022-08-18 14:40:00</td>\n",
       "      <td>NaN</td>\n",
       "      <td>2.5</td>\n",
       "      <td>NaN</td>\n",
       "    </tr>\n",
       "    <tr>\n",
       "      <th>4</th>\n",
       "      <td>2022-08-18 14:45:00</td>\n",
       "      <td>NaN</td>\n",
       "      <td>2.5</td>\n",
       "      <td>52.1</td>\n",
       "    </tr>\n",
       "  </tbody>\n",
       "</table>\n",
       "</div>"
      ],
      "text/plain": [
       "            Timestamp  Rainfall (mm)  Rainfall (Accumulated) (mm)  \\\n",
       "0 2022-08-18 14:25:00            NaN                          0.0   \n",
       "1 2022-08-18 14:30:00            NaN                          0.0   \n",
       "2 2022-08-18 14:35:00            2.5                          2.5   \n",
       "3 2022-08-18 14:40:00            NaN                          2.5   \n",
       "4 2022-08-18 14:45:00            NaN                          2.5   \n",
       "\n",
       "   Soil Moisture Content (%V/V)  \n",
       "0                           NaN  \n",
       "1                          52.1  \n",
       "2                           NaN  \n",
       "3                           NaN  \n",
       "4                          52.1  "
      ]
     },
     "execution_count": 6,
     "metadata": {},
     "output_type": "execute_result"
    }
   ],
   "source": [
    "mtalbert.drop(columns=['UTC Offset_x', 'Multiple Gauge Rainfall Recency Alarm (on/off)','Quality_x', 'Quality.1', 'Quality.2', 'UTC Offset_y', 'Quality_y'], inplace=True)\n",
    "mtalbert.head()"
   ]
  },
  {
   "cell_type": "code",
   "execution_count": 7,
   "metadata": {},
   "outputs": [
    {
     "name": "stdout",
     "output_type": "stream",
     "text": [
      "<class 'pandas.core.frame.DataFrame'>\n",
      "RangeIndex: 105154 entries, 0 to 105153\n",
      "Data columns (total 4 columns):\n",
      " #   Column                        Non-Null Count   Dtype         \n",
      "---  ------                        --------------   -----         \n",
      " 0   Timestamp                     105154 non-null  datetime64[ns]\n",
      " 1   Rainfall (mm)                 2851 non-null    float64       \n",
      " 2   Rainfall (Accumulated) (mm)   105154 non-null  float64       \n",
      " 3   Soil Moisture Content (%V/V)  34777 non-null   float64       \n",
      "dtypes: datetime64[ns](1), float64(3)\n",
      "memory usage: 3.2 MB\n"
     ]
    }
   ],
   "source": [
    "mtalbert.info()"
   ]
  },
  {
   "cell_type": "code",
   "execution_count": 8,
   "metadata": {},
   "outputs": [
    {
     "name": "stdout",
     "output_type": "stream",
     "text": [
      "Timestamp                            0\n",
      "Rainfall (mm)                   102303\n",
      "Rainfall (Accumulated) (mm)          0\n",
      "Soil Moisture Content (%V/V)     70377\n",
      "dtype: int64\n"
     ]
    }
   ],
   "source": [
    "print(mtalbert.isnull().sum())\n"
   ]
  },
  {
   "cell_type": "code",
   "execution_count": 9,
   "metadata": {},
   "outputs": [
    {
     "name": "stdout",
     "output_type": "stream",
     "text": [
      "<class 'pandas.core.frame.DataFrame'>\n",
      "RangeIndex: 105154 entries, 0 to 105153\n",
      "Data columns (total 4 columns):\n",
      " #   Column                        Non-Null Count   Dtype         \n",
      "---  ------                        --------------   -----         \n",
      " 0   Timestamp                     105154 non-null  datetime64[ns]\n",
      " 1   Rainfall (mm)                 2851 non-null    float64       \n",
      " 2   Rainfall (Accumulated) (mm)   105154 non-null  float64       \n",
      " 3   Soil Moisture Content (%V/V)  34777 non-null   float64       \n",
      "dtypes: datetime64[ns](1), float64(3)\n",
      "memory usage: 3.2 MB\n"
     ]
    }
   ],
   "source": [
    "mtalbert.info()"
   ]
  },
  {
   "cell_type": "code",
   "execution_count": 10,
   "metadata": {},
   "outputs": [
    {
     "name": "stdout",
     "output_type": "stream",
     "text": [
      "[ nan  2.5  0.5  1.   3.   1.5  2.   3.5  4.   5.   4.5  8.   6.   5.5\n",
      "  7.5  6.5  9.  10.   8.5  9.5 11.5  7. ]\n"
     ]
    }
   ],
   "source": [
    "print(mtalbert['Rainfall (mm)'].unique())\n"
   ]
  },
  {
   "cell_type": "code",
   "execution_count": 11,
   "metadata": {},
   "outputs": [
    {
     "data": {
      "text/plain": [
       "70377"
      ]
     },
     "execution_count": 11,
     "metadata": {},
     "output_type": "execute_result"
    }
   ],
   "source": [
    "mtalbert['Soil Moisture Content (%V/V)'].isna().sum()"
   ]
  },
  {
   "cell_type": "code",
   "execution_count": 12,
   "metadata": {},
   "outputs": [],
   "source": [
    "# mtalbert['Rainfall (mm)'] = pd.to_numeric(mtalbert['Rainfall (mm)'], errors='coerce')\n",
    "mtalbert['Rainfall (mm)'] = mtalbert['Rainfall (mm)'].fillna(0)\n"
   ]
  },
  {
   "cell_type": "code",
   "execution_count": 13,
   "metadata": {},
   "outputs": [
    {
     "data": {
      "text/plain": [
       "Timestamp                       0\n",
       "Rainfall (mm)                   0\n",
       "Rainfall (Accumulated) (mm)     0\n",
       "Soil Moisture Content (%V/V)    1\n",
       "dtype: int64"
      ]
     },
     "execution_count": 13,
     "metadata": {},
     "output_type": "execute_result"
    }
   ],
   "source": [
    "mtalbert['Soil Moisture Content (%V/V)'] = mtalbert['Soil Moisture Content (%V/V)'].interpolate(method='linear')\n",
    "mtalbert.isna().sum()"
   ]
  },
  {
   "cell_type": "code",
   "execution_count": 14,
   "metadata": {},
   "outputs": [
    {
     "name": "stdout",
     "output_type": "stream",
     "text": [
      "<class 'pandas.core.frame.DataFrame'>\n",
      "RangeIndex: 105154 entries, 0 to 105153\n",
      "Data columns (total 4 columns):\n",
      " #   Column                        Non-Null Count   Dtype         \n",
      "---  ------                        --------------   -----         \n",
      " 0   Timestamp                     105154 non-null  datetime64[ns]\n",
      " 1   Rainfall (mm)                 105154 non-null  float64       \n",
      " 2   Rainfall (Accumulated) (mm)   105154 non-null  float64       \n",
      " 3   Soil Moisture Content (%V/V)  105153 non-null  float64       \n",
      "dtypes: datetime64[ns](1), float64(3)\n",
      "memory usage: 3.2 MB\n"
     ]
    }
   ],
   "source": [
    "mtalbert.info()"
   ]
  },
  {
   "cell_type": "code",
   "execution_count": 15,
   "metadata": {},
   "outputs": [
    {
     "name": "stdout",
     "output_type": "stream",
     "text": [
      "0    0.0\n",
      "1    0.0\n",
      "2    2.5\n",
      "3    0.0\n",
      "4    0.0\n",
      "Name: Rainfall (mm), dtype: float64\n"
     ]
    }
   ],
   "source": [
    "print(mtalbert['Rainfall (mm)'].head())\n"
   ]
  },
  {
   "cell_type": "code",
   "execution_count": 16,
   "metadata": {},
   "outputs": [
    {
     "data": {
      "image/png": "[encoded data removed]",
      "text/plain": [
       "<Figure size 600x400 with 2 Axes>"
      ]
     },
     "metadata": {},
     "output_type": "display_data"
    }
   ],
   "source": [
    "import seaborn as sns\n",
    "import numpy as np\n",
    "import matplotlib.pyplot as plt\n",
    "import pandas as pd\n",
    "\n",
    "# Heatmap for correlation between variables\n",
    "mtalbert = mtalbert.set_index('Timestamp')\n",
    "# Select only the numeric columns from the 'weather' DataFrame\n",
    "numeric_columns = mtalbert.select_dtypes(include=[np.number])\n",
    "\n",
    "plt.figure(figsize=(6, 4))\n",
    "sns.heatmap(mtalbert.corr(), annot=True)\n",
    "plt.show()"
   ]
  },
  {
   "cell_type": "code",
   "execution_count": 17,
   "metadata": {},
   "outputs": [
    {
     "data": {
      "text/plain": [
       "<Axes: xlabel='Timestamp'>"
      ]
     },
     "execution_count": 17,
     "metadata": {},
     "output_type": "execute_result"
    },
    {
     "data": {
      "image/png": "[encoded data removed]",
      "text/plain": [
       "<Figure size 800x500 with 1 Axes>"
      ]
     },
     "metadata": {},
     "output_type": "display_data"
    }
   ],
   "source": [
    "mtalbert.plot(figsize=(8, 5))"
   ]
  },
  {
   "cell_type": "code",
   "execution_count": 18,
   "metadata": {},
   "outputs": [
    {
     "data": {
      "text/html": [
       "<div>\n",
       "<style scoped>\n",
       "    .dataframe tbody tr th:only-of-type {\n",
       "        vertical-align: middle;\n",
       "    }\n",
       "\n",
       "    .dataframe tbody tr th {\n",
       "        vertical-align: top;\n",
       "    }\n",
       "\n",
       "    .dataframe thead th {\n",
       "        text-align: right;\n",
       "    }\n",
       "</style>\n",
       "<table border=\"1\" class=\"dataframe\">\n",
       "  <thead>\n",
       "    <tr style=\"text-align: right;\">\n",
       "      <th></th>\n",
       "      <th>Rainfall (mm)</th>\n",
       "      <th>Rainfall (Accumulated) (mm)</th>\n",
       "      <th>Soil Moisture Content (%V/V)</th>\n",
       "    </tr>\n",
       "  </thead>\n",
       "  <tbody>\n",
       "    <tr>\n",
       "      <th>count</th>\n",
       "      <td>105154.000000</td>\n",
       "      <td>105154.000000</td>\n",
       "      <td>105153.000000</td>\n",
       "    </tr>\n",
       "    <tr>\n",
       "      <th>mean</th>\n",
       "      <td>0.020408</td>\n",
       "      <td>104.130238</td>\n",
       "      <td>48.080289</td>\n",
       "    </tr>\n",
       "    <tr>\n",
       "      <th>std</th>\n",
       "      <td>0.184752</td>\n",
       "      <td>99.493476</td>\n",
       "      <td>2.552800</td>\n",
       "    </tr>\n",
       "    <tr>\n",
       "      <th>min</th>\n",
       "      <td>0.000000</td>\n",
       "      <td>0.000000</td>\n",
       "      <td>0.000000</td>\n",
       "    </tr>\n",
       "    <tr>\n",
       "      <th>25%</th>\n",
       "      <td>0.000000</td>\n",
       "      <td>34.000000</td>\n",
       "      <td>46.488000</td>\n",
       "    </tr>\n",
       "    <tr>\n",
       "      <th>50%</th>\n",
       "      <td>0.000000</td>\n",
       "      <td>84.500000</td>\n",
       "      <td>48.294000</td>\n",
       "    </tr>\n",
       "    <tr>\n",
       "      <th>75%</th>\n",
       "      <td>0.000000</td>\n",
       "      <td>135.000000</td>\n",
       "      <td>50.136000</td>\n",
       "    </tr>\n",
       "    <tr>\n",
       "      <th>max</th>\n",
       "      <td>11.500000</td>\n",
       "      <td>557.000000</td>\n",
       "      <td>52.805000</td>\n",
       "    </tr>\n",
       "  </tbody>\n",
       "</table>\n",
       "</div>"
      ],
      "text/plain": [
       "       Rainfall (mm)  Rainfall (Accumulated) (mm)  \\\n",
       "count  105154.000000                105154.000000   \n",
       "mean        0.020408                   104.130238   \n",
       "std         0.184752                    99.493476   \n",
       "min         0.000000                     0.000000   \n",
       "25%         0.000000                    34.000000   \n",
       "50%         0.000000                    84.500000   \n",
       "75%         0.000000                   135.000000   \n",
       "max        11.500000                   557.000000   \n",
       "\n",
       "       Soil Moisture Content (%V/V)  \n",
       "count                 105153.000000  \n",
       "mean                      48.080289  \n",
       "std                        2.552800  \n",
       "min                        0.000000  \n",
       "25%                       46.488000  \n",
       "50%                       48.294000  \n",
       "75%                       50.136000  \n",
       "max                       52.805000  "
      ]
     },
     "execution_count": 18,
     "metadata": {},
     "output_type": "execute_result"
    }
   ],
   "source": [
    "mtalbert.describe()"
   ]
  },
  {
   "cell_type": "code",
   "execution_count": 19,
   "metadata": {},
   "outputs": [
    {
     "data": {
      "text/html": [
       "<div>\n",
       "<style scoped>\n",
       "    .dataframe tbody tr th:only-of-type {\n",
       "        vertical-align: middle;\n",
       "    }\n",
       "\n",
       "    .dataframe tbody tr th {\n",
       "        vertical-align: top;\n",
       "    }\n",
       "\n",
       "    .dataframe thead th {\n",
       "        text-align: right;\n",
       "    }\n",
       "</style>\n",
       "<table border=\"1\" class=\"dataframe\">\n",
       "  <thead>\n",
       "    <tr style=\"text-align: right;\">\n",
       "      <th></th>\n",
       "      <th>Rainfall (mm)</th>\n",
       "      <th>Rainfall (Accumulated) (mm)</th>\n",
       "      <th>Soil Moisture Content (%V/V)</th>\n",
       "    </tr>\n",
       "    <tr>\n",
       "      <th>Timestamp</th>\n",
       "      <th></th>\n",
       "      <th></th>\n",
       "      <th></th>\n",
       "    </tr>\n",
       "  </thead>\n",
       "  <tbody>\n",
       "    <tr>\n",
       "      <th>2022-08-18 14:25:00</th>\n",
       "      <td>0.0</td>\n",
       "      <td>0.0</td>\n",
       "      <td>NaN</td>\n",
       "    </tr>\n",
       "    <tr>\n",
       "      <th>2022-08-18 14:30:00</th>\n",
       "      <td>0.0</td>\n",
       "      <td>0.0</td>\n",
       "      <td>52.1</td>\n",
       "    </tr>\n",
       "    <tr>\n",
       "      <th>2022-08-18 14:35:00</th>\n",
       "      <td>2.5</td>\n",
       "      <td>2.5</td>\n",
       "      <td>52.1</td>\n",
       "    </tr>\n",
       "    <tr>\n",
       "      <th>2022-08-18 14:40:00</th>\n",
       "      <td>0.0</td>\n",
       "      <td>2.5</td>\n",
       "      <td>52.1</td>\n",
       "    </tr>\n",
       "    <tr>\n",
       "      <th>2022-08-18 14:45:00</th>\n",
       "      <td>0.0</td>\n",
       "      <td>2.5</td>\n",
       "      <td>52.1</td>\n",
       "    </tr>\n",
       "  </tbody>\n",
       "</table>\n",
       "</div>"
      ],
      "text/plain": [
       "                     Rainfall (mm)  Rainfall (Accumulated) (mm)  \\\n",
       "Timestamp                                                         \n",
       "2022-08-18 14:25:00            0.0                          0.0   \n",
       "2022-08-18 14:30:00            0.0                          0.0   \n",
       "2022-08-18 14:35:00            2.5                          2.5   \n",
       "2022-08-18 14:40:00            0.0                          2.5   \n",
       "2022-08-18 14:45:00            0.0                          2.5   \n",
       "\n",
       "                     Soil Moisture Content (%V/V)  \n",
       "Timestamp                                          \n",
       "2022-08-18 14:25:00                           NaN  \n",
       "2022-08-18 14:30:00                          52.1  \n",
       "2022-08-18 14:35:00                          52.1  \n",
       "2022-08-18 14:40:00                          52.1  \n",
       "2022-08-18 14:45:00                          52.1  "
      ]
     },
     "execution_count": 19,
     "metadata": {},
     "output_type": "execute_result"
    }
   ],
   "source": [
    "mtalbert.head(5)"
   ]
  },
  {
   "cell_type": "markdown",
   "metadata": {},
   "source": [
    "# Lag Features"
   ]
  },
  {
   "cell_type": "code",
   "execution_count": 20,
   "metadata": {},
   "outputs": [],
   "source": [
    "lag_size = 7\n",
    "\n",
    "# Create lag features for 'Rainfall (mm)'\n",
    "for i in range(1, lag_size + 1):\n",
    "    mtalbert[f'Rainfall_lag_{i}'] = mtalbert['Rainfall (mm)'].shift(i)\n",
    "\n",
    "# Create lag features for 'Rainfall (Accumulated) (mm)'\n",
    "for i in range(1, lag_size + 1):\n",
    "    mtalbert[f'Rainfall_Accumulated_lag_{i}'] = mtalbert['Rainfall (Accumulated) (mm)'].shift(i)\n",
    "\n",
    "# Create lag features for 'Soil Moisture Content (%V/V)'\n",
    "for i in range(1, lag_size + 1):\n",
    "    mtalbert[f'Soil_Moisture_lag_{i}'] = mtalbert['Soil Moisture Content (%V/V)'].shift(i)\n",
    "\n",
    "mtalbert.dropna(inplace=True)  # Drop rows with NaN values in the lag features"
   ]
  },
  {
   "cell_type": "markdown",
   "metadata": {},
   "source": [
    "# Split Data"
   ]
  },
  {
   "cell_type": "code",
   "execution_count": 21,
   "metadata": {},
   "outputs": [
    {
     "name": "stdout",
     "output_type": "stream",
     "text": [
      "Index(['Rainfall (mm)', 'Rainfall (Accumulated) (mm)',\n",
      "       'Soil Moisture Content (%V/V)', 'Rainfall_lag_1', 'Rainfall_lag_2',\n",
      "       'Rainfall_lag_3', 'Rainfall_lag_4', 'Rainfall_lag_5', 'Rainfall_lag_6',\n",
      "       'Rainfall_lag_7', 'Rainfall_Accumulated_lag_1',\n",
      "       'Rainfall_Accumulated_lag_2', 'Rainfall_Accumulated_lag_3',\n",
      "       'Rainfall_Accumulated_lag_4', 'Rainfall_Accumulated_lag_5',\n",
      "       'Rainfall_Accumulated_lag_6', 'Rainfall_Accumulated_lag_7',\n",
      "       'Soil_Moisture_lag_1', 'Soil_Moisture_lag_2', 'Soil_Moisture_lag_3',\n",
      "       'Soil_Moisture_lag_4', 'Soil_Moisture_lag_5', 'Soil_Moisture_lag_6',\n",
      "       'Soil_Moisture_lag_7'],\n",
      "      dtype='object')\n"
     ]
    }
   ],
   "source": [
    "print(mtalbert.columns)\n"
   ]
  },
  {
   "cell_type": "code",
   "execution_count": 27,
   "metadata": {},
   "outputs": [],
   "source": [
    "from sklearn.model_selection import train_test_split\n",
    "\n",
    "# Define features and target\n",
    "X = mtalbert.drop(['Rainfall_lag_1', 'Rainfall (Accumulated) (mm)', 'Soil Moisture Content (%V/V)'], axis=1)\n",
    "y = mtalbert['Rainfall_lag_1']\n",
    "\n",
    "# Split the data into training and testing sets\n",
    "X_train, X_test, y_train, y_test = train_test_split(X, y, test_size=0.2, random_state=42)"
   ]
  },
  {
   "cell_type": "code",
   "execution_count": 28,
   "metadata": {},
   "outputs": [],
   "source": [
    "# from sklearn.model_selection import train_test_split\n",
    "\n",
    "# # Define features and target\n",
    "# X = mtalbert.drop(['Rainfall (mm)', 'Rainfall (Accumulated) (mm)', 'Soil Moisture Content (%V/V)'], axis=1)\n",
    "# y = mtalbert['Rainfall (mm)']\n",
    "\n",
    "# # Split the data into training and testing sets\n",
    "# X_train, X_test, y_train, y_test = train_test_split(X, y, test_size=0.2, random_state=42)"
   ]
  },
  {
   "cell_type": "markdown",
   "metadata": {},
   "source": [
    "# Random Forest"
   ]
  },
  {
   "cell_type": "code",
   "execution_count": 29,
   "metadata": {},
   "outputs": [],
   "source": [
    "from sklearn.ensemble import RandomForestRegressor\n",
    "\n",
    "# Create and train the Random Forest model\n",
    "rf_model = RandomForestRegressor(n_estimators=100, random_state=42)\n",
    "rf_model.fit(X_train, y_train)\n",
    "\n",
    "# Make predictions\n",
    "rf_predictions = rf_model.predict(X_test)"
   ]
  },
  {
   "cell_type": "code",
   "execution_count": 30,
   "metadata": {},
   "outputs": [
    {
     "name": "stdout",
     "output_type": "stream",
     "text": [
      "Random Foreset Root Mean Squared Error (RMSE): 0.12831783196793428\n",
      "Random Foreset Mean Absolute Error (MAE): 0.022995720399429386\n",
      "Random Foreset Mean Squared Error (MSE): 0.01646546600095102\n",
      "Random Foreset R2 Score: 0.572716794927592\n"
     ]
    }
   ],
   "source": [
    "from sklearn.metrics import mean_squared_error, mean_absolute_error, r2_score\n",
    "from math import sqrt\n",
    "\n",
    "# Assuming you have predictions and true values for your model\n",
    "# For example, let's say you have rf_predictions and y_test\n",
    "\n",
    "# Calculate RMSE\n",
    "rmse = sqrt(mean_squared_error(y_test, rf_predictions))\n",
    "\n",
    "# Calculate MAE\n",
    "mae = mean_absolute_error(y_test, rf_predictions)\n",
    "\n",
    "# Calculate MSE\n",
    "mse = mean_squared_error(y_test, rf_predictions)\n",
    "\n",
    "# Calculate R2 score\n",
    "r2 = r2_score(y_test, rf_predictions)\n",
    "\n",
    "# Print the metrics\n",
    "print(\"Random Foreset Root Mean Squared Error (RMSE):\", rmse)\n",
    "print(\"Random Foreset Mean Absolute Error (MAE):\", mae)\n",
    "print(\"Random Foreset Mean Squared Error (MSE):\", mse)\n",
    "print(\"Random Foreset R2 Score:\", r2)"
   ]
  },
  {
   "cell_type": "code",
   "execution_count": 31,
   "metadata": {},
   "outputs": [
    {
     "data": {
      "image/png": "[encoded data removed]",
      "text/plain": [
       "<Figure size 1000x600 with 1 Axes>"
      ]
     },
     "metadata": {},
     "output_type": "display_data"
    }
   ],
   "source": [
    "import matplotlib.pyplot as plt\n",
    "\n",
    "# Plotting actual vs. predicted values\n",
    "plt.figure(figsize=(10, 6))\n",
    "plt.plot(y_test, label='Actual')\n",
    "plt.plot(rf_predictions, label='Predicted')\n",
    "plt.title('Actual vs. Predicted Rainfall')\n",
    "plt.xlabel('Index')\n",
    "plt.ylabel('Rainfall (mm)')\n",
    "plt.legend()\n",
    "plt.show()"
   ]
  }
 ],
 "metadata": {
  "kernelspec": {
   "display_name": "Python 3",
   "language": "python",
   "name": "python3"
  },
  "language_info": {
   "codemirror_mode": {
    "name": "ipython",
    "version": 3
   },
   "file_extension": ".py",
   "mimetype": "text/x-python",
   "name": "python",
   "nbconvert_exporter": "python",
   "pygments_lexer": "ipython3",
   "version": "3.10.7"
  },
  "orig_nbformat": 4
 },
 "nbformat": 4,
 "nbformat_minor": 2
}
