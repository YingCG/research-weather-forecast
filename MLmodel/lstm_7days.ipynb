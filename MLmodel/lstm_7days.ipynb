{
 "cells": [
  {
   "cell_type": "code",
   "execution_count": 102,
   "metadata": {},
   "outputs": [
    {
     "name": "stdout",
     "output_type": "stream",
     "text": [
      "<class 'pandas.core.frame.DataFrame'>\n",
      "RangeIndex: 20819 entries, 0 to 20818\n",
      "Data columns (total 5 columns):\n",
      " #   Column        Non-Null Count  Dtype         \n",
      "---  ------        --------------  -----         \n",
      " 0   date          20819 non-null  datetime64[ns]\n",
      " 1   rainfall(mm)  20819 non-null  float64       \n",
      " 2   tavg          20819 non-null  float64       \n",
      " 3   tmax          20819 non-null  float64       \n",
      " 4   tmin          20819 non-null  float64       \n",
      "dtypes: datetime64[ns](1), float64(4)\n",
      "memory usage: 813.4 KB\n"
     ]
    }
   ],
   "source": [
    "import tensorflow as tf\n",
    "import pandas as pd\n",
    "import numpy as np\n",
    "\n",
    "auckland_rain = pd.read_csv('../data/auckland_rain_temp_statsNZ.csv', parse_dates=['date'])\n",
    "auckland_rain.info()"
   ]
  },
  {
   "cell_type": "code",
   "execution_count": 103,
   "metadata": {},
   "outputs": [
    {
     "data": {
      "text/html": [
       "<div>\n",
       "<style scoped>\n",
       "    .dataframe tbody tr th:only-of-type {\n",
       "        vertical-align: middle;\n",
       "    }\n",
       "\n",
       "    .dataframe tbody tr th {\n",
       "        vertical-align: top;\n",
       "    }\n",
       "\n",
       "    .dataframe thead th {\n",
       "        text-align: right;\n",
       "    }\n",
       "</style>\n",
       "<table border=\"1\" class=\"dataframe\">\n",
       "  <thead>\n",
       "    <tr style=\"text-align: right;\">\n",
       "      <th></th>\n",
       "      <th>date</th>\n",
       "      <th>rainfall(mm)</th>\n",
       "      <th>tavg</th>\n",
       "      <th>tmax</th>\n",
       "      <th>tmin</th>\n",
       "    </tr>\n",
       "  </thead>\n",
       "  <tbody>\n",
       "    <tr>\n",
       "      <th>0</th>\n",
       "      <td>1966-01-01</td>\n",
       "      <td>0.0</td>\n",
       "      <td>18.0</td>\n",
       "      <td>22.2</td>\n",
       "      <td>13.9</td>\n",
       "    </tr>\n",
       "    <tr>\n",
       "      <th>1</th>\n",
       "      <td>1966-01-02</td>\n",
       "      <td>26.2</td>\n",
       "      <td>20.5</td>\n",
       "      <td>23.9</td>\n",
       "      <td>17.1</td>\n",
       "    </tr>\n",
       "    <tr>\n",
       "      <th>2</th>\n",
       "      <td>1966-01-03</td>\n",
       "      <td>0.0</td>\n",
       "      <td>20.3</td>\n",
       "      <td>23.5</td>\n",
       "      <td>17.1</td>\n",
       "    </tr>\n",
       "    <tr>\n",
       "      <th>3</th>\n",
       "      <td>1966-01-04</td>\n",
       "      <td>0.0</td>\n",
       "      <td>20.3</td>\n",
       "      <td>24.4</td>\n",
       "      <td>16.2</td>\n",
       "    </tr>\n",
       "    <tr>\n",
       "      <th>4</th>\n",
       "      <td>1966-01-05</td>\n",
       "      <td>1.3</td>\n",
       "      <td>20.6</td>\n",
       "      <td>23.4</td>\n",
       "      <td>17.8</td>\n",
       "    </tr>\n",
       "    <tr>\n",
       "      <th>...</th>\n",
       "      <td>...</td>\n",
       "      <td>...</td>\n",
       "      <td>...</td>\n",
       "      <td>...</td>\n",
       "      <td>...</td>\n",
       "    </tr>\n",
       "    <tr>\n",
       "      <th>20814</th>\n",
       "      <td>2022-12-27</td>\n",
       "      <td>0.0</td>\n",
       "      <td>21.0</td>\n",
       "      <td>25.1</td>\n",
       "      <td>17.0</td>\n",
       "    </tr>\n",
       "    <tr>\n",
       "      <th>20815</th>\n",
       "      <td>2022-12-28</td>\n",
       "      <td>0.0</td>\n",
       "      <td>22.4</td>\n",
       "      <td>26.7</td>\n",
       "      <td>18.1</td>\n",
       "    </tr>\n",
       "    <tr>\n",
       "      <th>20816</th>\n",
       "      <td>2022-12-29</td>\n",
       "      <td>0.0</td>\n",
       "      <td>21.8</td>\n",
       "      <td>25.1</td>\n",
       "      <td>18.6</td>\n",
       "    </tr>\n",
       "    <tr>\n",
       "      <th>20817</th>\n",
       "      <td>2022-12-30</td>\n",
       "      <td>0.0</td>\n",
       "      <td>21.6</td>\n",
       "      <td>24.0</td>\n",
       "      <td>19.1</td>\n",
       "    </tr>\n",
       "    <tr>\n",
       "      <th>20818</th>\n",
       "      <td>2022-12-31</td>\n",
       "      <td>0.8</td>\n",
       "      <td>21.3</td>\n",
       "      <td>25.2</td>\n",
       "      <td>17.4</td>\n",
       "    </tr>\n",
       "  </tbody>\n",
       "</table>\n",
       "<p>20819 rows × 5 columns</p>\n",
       "</div>"
      ],
      "text/plain": [
       "            date  rainfall(mm)  tavg  tmax  tmin\n",
       "0     1966-01-01           0.0  18.0  22.2  13.9\n",
       "1     1966-01-02          26.2  20.5  23.9  17.1\n",
       "2     1966-01-03           0.0  20.3  23.5  17.1\n",
       "3     1966-01-04           0.0  20.3  24.4  16.2\n",
       "4     1966-01-05           1.3  20.6  23.4  17.8\n",
       "...          ...           ...   ...   ...   ...\n",
       "20814 2022-12-27           0.0  21.0  25.1  17.0\n",
       "20815 2022-12-28           0.0  22.4  26.7  18.1\n",
       "20816 2022-12-29           0.0  21.8  25.1  18.6\n",
       "20817 2022-12-30           0.0  21.6  24.0  19.1\n",
       "20818 2022-12-31           0.8  21.3  25.2  17.4\n",
       "\n",
       "[20819 rows x 5 columns]"
      ]
     },
     "execution_count": 103,
     "metadata": {},
     "output_type": "execute_result"
    }
   ],
   "source": [
    "auckland_rain"
   ]
  },
  {
   "cell_type": "code",
   "execution_count": 104,
   "metadata": {},
   "outputs": [
    {
     "data": {
      "text/html": [
       "<div>\n",
       "<style scoped>\n",
       "    .dataframe tbody tr th:only-of-type {\n",
       "        vertical-align: middle;\n",
       "    }\n",
       "\n",
       "    .dataframe tbody tr th {\n",
       "        vertical-align: top;\n",
       "    }\n",
       "\n",
       "    .dataframe thead th {\n",
       "        text-align: right;\n",
       "    }\n",
       "</style>\n",
       "<table border=\"1\" class=\"dataframe\">\n",
       "  <thead>\n",
       "    <tr style=\"text-align: right;\">\n",
       "      <th></th>\n",
       "      <th>date</th>\n",
       "      <th>rainfall(mm)</th>\n",
       "      <th>tavg</th>\n",
       "      <th>tmax</th>\n",
       "      <th>tmin</th>\n",
       "    </tr>\n",
       "    <tr>\n",
       "      <th>date</th>\n",
       "      <th></th>\n",
       "      <th></th>\n",
       "      <th></th>\n",
       "      <th></th>\n",
       "      <th></th>\n",
       "    </tr>\n",
       "  </thead>\n",
       "  <tbody>\n",
       "    <tr>\n",
       "      <th>1966-01-01</th>\n",
       "      <td>1966-01-01</td>\n",
       "      <td>0.0</td>\n",
       "      <td>18.0</td>\n",
       "      <td>22.2</td>\n",
       "      <td>13.9</td>\n",
       "    </tr>\n",
       "    <tr>\n",
       "      <th>1966-01-02</th>\n",
       "      <td>1966-01-02</td>\n",
       "      <td>26.2</td>\n",
       "      <td>20.5</td>\n",
       "      <td>23.9</td>\n",
       "      <td>17.1</td>\n",
       "    </tr>\n",
       "    <tr>\n",
       "      <th>1966-01-03</th>\n",
       "      <td>1966-01-03</td>\n",
       "      <td>0.0</td>\n",
       "      <td>20.3</td>\n",
       "      <td>23.5</td>\n",
       "      <td>17.1</td>\n",
       "    </tr>\n",
       "    <tr>\n",
       "      <th>1966-01-04</th>\n",
       "      <td>1966-01-04</td>\n",
       "      <td>0.0</td>\n",
       "      <td>20.3</td>\n",
       "      <td>24.4</td>\n",
       "      <td>16.2</td>\n",
       "    </tr>\n",
       "    <tr>\n",
       "      <th>1966-01-05</th>\n",
       "      <td>1966-01-05</td>\n",
       "      <td>1.3</td>\n",
       "      <td>20.6</td>\n",
       "      <td>23.4</td>\n",
       "      <td>17.8</td>\n",
       "    </tr>\n",
       "  </tbody>\n",
       "</table>\n",
       "</div>"
      ],
      "text/plain": [
       "                 date  rainfall(mm)  tavg  tmax  tmin\n",
       "date                                                 \n",
       "1966-01-01 1966-01-01           0.0  18.0  22.2  13.9\n",
       "1966-01-02 1966-01-02          26.2  20.5  23.9  17.1\n",
       "1966-01-03 1966-01-03           0.0  20.3  23.5  17.1\n",
       "1966-01-04 1966-01-04           0.0  20.3  24.4  16.2\n",
       "1966-01-05 1966-01-05           1.3  20.6  23.4  17.8"
      ]
     },
     "execution_count": 104,
     "metadata": {},
     "output_type": "execute_result"
    }
   ],
   "source": [
    "auckland_rain.index = pd.to_datetime(auckland_rain[\"date\"], format='%Y-%m-%d').dt.date\n",
    "auckland_rain.head()"
   ]
  },
  {
   "cell_type": "code",
   "execution_count": 105,
   "metadata": {},
   "outputs": [
    {
     "data": {
      "text/plain": [
       "<Axes: xlabel='date'>"
      ]
     },
     "execution_count": 105,
     "metadata": {},
     "output_type": "execute_result"
    },
    {
     "data": {
      "image/png": "[encoded data removed]",
      "text/plain": [
       "<Figure size 640x480 with 1 Axes>"
      ]
     },
     "metadata": {},
     "output_type": "display_data"
    }
   ],
   "source": [
    "rain = auckland_rain['rainfall(mm)']\n",
    "rain.plot()"
   ]
  },
  {
   "cell_type": "code",
   "execution_count": 106,
   "metadata": {},
   "outputs": [
    {
     "data": {
      "text/plain": [
       "(array([[[Timestamp('1966-01-01 00:00:00'), 0.0, 18.0, 22.2, 13.9],\n",
       "         [Timestamp('1966-01-02 00:00:00'), 26.2, 20.5, 23.9, 17.1],\n",
       "         [Timestamp('1966-01-03 00:00:00'), 0.0, 20.3, 23.5, 17.1],\n",
       "         ...,\n",
       "         [Timestamp('1966-01-05 00:00:00'), 1.3, 20.6, 23.4, 17.8],\n",
       "         [Timestamp('1966-01-06 00:00:00'), 8.9, 21.0, 23.4, 18.6],\n",
       "         [Timestamp('1966-01-07 00:00:00'), 5.1, 20.0, 23.7, 16.3]],\n",
       " \n",
       "        [[Timestamp('1966-01-02 00:00:00'), 26.2, 20.5, 23.9, 17.1],\n",
       "         [Timestamp('1966-01-03 00:00:00'), 0.0, 20.3, 23.5, 17.1],\n",
       "         [Timestamp('1966-01-04 00:00:00'), 0.0, 20.3, 24.4, 16.2],\n",
       "         ...,\n",
       "         [Timestamp('1966-01-06 00:00:00'), 8.9, 21.0, 23.4, 18.6],\n",
       "         [Timestamp('1966-01-07 00:00:00'), 5.1, 20.0, 23.7, 16.3],\n",
       "         [Timestamp('1966-01-08 00:00:00'), 1.3, 19.7, 22.1, 17.3]],\n",
       " \n",
       "        [[Timestamp('1966-01-03 00:00:00'), 0.0, 20.3, 23.5, 17.1],\n",
       "         [Timestamp('1966-01-04 00:00:00'), 0.0, 20.3, 24.4, 16.2],\n",
       "         [Timestamp('1966-01-05 00:00:00'), 1.3, 20.6, 23.4, 17.8],\n",
       "         ...,\n",
       "         [Timestamp('1966-01-07 00:00:00'), 5.1, 20.0, 23.7, 16.3],\n",
       "         [Timestamp('1966-01-08 00:00:00'), 1.3, 19.7, 22.1, 17.3],\n",
       "         [Timestamp('1966-01-09 00:00:00'), 2.5, 17.8, 19.7, 15.9]],\n",
       " \n",
       "        ...,\n",
       " \n",
       "        [[Timestamp('2022-12-22 00:00:00'), 0.2, 21.8, 26.3, 17.2],\n",
       "         [Timestamp('2022-12-23 00:00:00'), 0.0, 21.2, 25.8, 16.7],\n",
       "         [Timestamp('2022-12-24 00:00:00'), 0.0, 20.7, 23.9, 17.5],\n",
       "         ...,\n",
       "         [Timestamp('2022-12-26 00:00:00'), 24.4, 21.2, 26.1, 16.4],\n",
       "         [Timestamp('2022-12-27 00:00:00'), 0.0, 21.0, 25.1, 17.0],\n",
       "         [Timestamp('2022-12-28 00:00:00'), 0.0, 22.4, 26.7, 18.1]],\n",
       " \n",
       "        [[Timestamp('2022-12-23 00:00:00'), 0.0, 21.2, 25.8, 16.7],\n",
       "         [Timestamp('2022-12-24 00:00:00'), 0.0, 20.7, 23.9, 17.5],\n",
       "         [Timestamp('2022-12-25 00:00:00'), 0.0, 20.6, 23.6, 17.6],\n",
       "         ...,\n",
       "         [Timestamp('2022-12-27 00:00:00'), 0.0, 21.0, 25.1, 17.0],\n",
       "         [Timestamp('2022-12-28 00:00:00'), 0.0, 22.4, 26.7, 18.1],\n",
       "         [Timestamp('2022-12-29 00:00:00'), 0.0, 21.8, 25.1, 18.6]],\n",
       " \n",
       "        [[Timestamp('2022-12-24 00:00:00'), 0.0, 20.7, 23.9, 17.5],\n",
       "         [Timestamp('2022-12-25 00:00:00'), 0.0, 20.6, 23.6, 17.6],\n",
       "         [Timestamp('2022-12-26 00:00:00'), 24.4, 21.2, 26.1, 16.4],\n",
       "         ...,\n",
       "         [Timestamp('2022-12-28 00:00:00'), 0.0, 22.4, 26.7, 18.1],\n",
       "         [Timestamp('2022-12-29 00:00:00'), 0.0, 21.8, 25.1, 18.6],\n",
       "         [Timestamp('2022-12-30 00:00:00'), 0.0, 21.6, 24.0, 19.1]]],\n",
       "       dtype=object),\n",
       " array([[Timestamp('1966-01-08 00:00:00'), 1.3, 19.7, 22.1, 17.3],\n",
       "        [Timestamp('1966-01-09 00:00:00'), 2.5, 17.8, 19.7, 15.9],\n",
       "        [Timestamp('1966-01-10 00:00:00'), 0.0, 16.2, 18.0, 14.4],\n",
       "        ...,\n",
       "        [Timestamp('2022-12-29 00:00:00'), 0.0, 21.8, 25.1, 18.6],\n",
       "        [Timestamp('2022-12-30 00:00:00'), 0.0, 21.6, 24.0, 19.1],\n",
       "        [Timestamp('2022-12-31 00:00:00'), 0.8, 21.3, 25.2, 17.4]],\n",
       "       dtype=object))"
      ]
     },
     "execution_count": 106,
     "metadata": {},
     "output_type": "execute_result"
    }
   ],
   "source": [
    "# create 7 days lag\n",
    "\n",
    "def rain_to_X_y(df, lag_size = 7):\n",
    "    df_as_np = df.to_numpy()\n",
    "    X = []\n",
    "    y = []\n",
    "    for i in range(len(df_as_np) - lag_size):\n",
    "        features = df_as_np[i: i + lag_size]\n",
    "        label = df_as_np[i + lag_size] \n",
    "        X.append(features)\n",
    "        y.append(label)\n",
    "    return np.array(X), np.array(y)\n",
    "\n",
    "rain_to_X_y(auckland_rain)"
   ]
  },
  {
   "cell_type": "code",
   "execution_count": 107,
   "metadata": {},
   "outputs": [
    {
     "data": {
      "text/plain": [
       "((18000, 7, 5), (18000, 5), (2000, 7, 5), (2000, 5), (20000, 7, 5), (20000, 5))"
      ]
     },
     "execution_count": 107,
     "metadata": {},
     "output_type": "execute_result"
    }
   ],
   "source": [
    "X, y = rain_to_X_y(auckland_rain)\n",
    "\n",
    "X_train, y_train = X[:18000], y[:18000]\n",
    "X_val, y_val = X[18000:20000], y[18000:20000]\n",
    "X_test, y_test = X[:20000], y[:20000]\n",
    "X_train.shape, y_train.shape, X_val.shape, y_val.shape, X_test.shape, y_test.shape"
   ]
  },
  {
   "cell_type": "code",
   "execution_count": 108,
   "metadata": {},
   "outputs": [
    {
     "name": "stdout",
     "output_type": "stream",
     "text": [
      "Model: \"sequential_13\"\n",
      "_________________________________________________________________\n",
      "Layer (type)                 Output Shape              Param #   \n",
      "=================================================================\n",
      "lstm_11 (LSTM)               (None, 64)                16896     \n",
      "_________________________________________________________________\n",
      "dense_22 (Dense)             (None, 8)                 520       \n",
      "_________________________________________________________________\n",
      "dense_23 (Dense)             (None, 1)                 9         \n",
      "=================================================================\n",
      "Total params: 17,425\n",
      "Trainable params: 17,425\n",
      "Non-trainable params: 0\n",
      "_________________________________________________________________\n"
     ]
    }
   ],
   "source": [
    "from tensorflow.python.keras.models import Sequential\n",
    "from tensorflow.python.keras.layers import *\n",
    "from tensorflow.python.keras.callbacks import ModelCheckpoint\n",
    "from tensorflow.python.keras.losses import MeanSquaredError\n",
    "from tensorflow.python.keras.metrics import RootMeanSquaredError\n",
    "from keras.optimizers import Adam\n",
    "\n",
    "from tensorflow.python.keras.layers.recurrent import LSTM\n",
    "sequence_length = 7\n",
    "\n",
    "lstmModel = Sequential()\n",
    "lstmModel.add(LSTM(64, input_shape=(sequence_length, 1)))\n",
    "lstmModel.add(Dense(8, activation='relu'))\n",
    "lstmModel.add(Dense(1, activation='linear'))\n",
    "\n",
    "lstmModel.summary()"
   ]
  },
  {
   "cell_type": "code",
   "execution_count": 109,
   "metadata": {},
   "outputs": [
    {
     "ename": "AttributeError",
     "evalue": "module 'tensorflow.python.distribute.input_lib' has no attribute 'DistributedDatasetInterface'",
     "output_type": "error",
     "traceback": [
      "\u001b[1;31m---------------------------------------------------------------------------\u001b[0m",
      "\u001b[1;31mAttributeError\u001b[0m                            Traceback (most recent call last)",
      "Cell \u001b[1;32mIn[109], line 3\u001b[0m\n\u001b[0;32m      1\u001b[0m \u001b[39m# Compile the model with the instantiated optimizer\u001b[39;00m\n\u001b[0;32m      2\u001b[0m lstmModel\u001b[39m.\u001b[39mcompile(loss\u001b[39m=\u001b[39mMeanSquaredError(), optimizer\u001b[39m=\u001b[39m\u001b[39m\"\u001b[39m\u001b[39madam\u001b[39m\u001b[39m\"\u001b[39m, metrics\u001b[39m=\u001b[39m[RootMeanSquaredError()])\n\u001b[1;32m----> 3\u001b[0m history \u001b[39m=\u001b[39m lstmModel\u001b[39m.\u001b[39;49mfit(X_train, y_train, validation_data\u001b[39m=\u001b[39;49m(X_val, y_val), epochs\u001b[39m=\u001b[39;49m\u001b[39m50\u001b[39;49m, batch_size\u001b[39m=\u001b[39;49m\u001b[39m32\u001b[39;49m, verbose\u001b[39m=\u001b[39;49m\u001b[39m1\u001b[39;49m)\n",
      "File \u001b[1;32mc:\\Users\\Ying\\AppData\\Local\\Programs\\Python\\Python310\\lib\\site-packages\\tensorflow\\python\\keras\\engine\\training.py:1137\u001b[0m, in \u001b[0;36mModel.fit\u001b[1;34m(self, x, y, batch_size, epochs, verbose, callbacks, validation_split, validation_data, shuffle, class_weight, sample_weight, initial_epoch, steps_per_epoch, validation_steps, validation_batch_size, validation_freq, max_queue_size, workers, use_multiprocessing)\u001b[0m\n\u001b[0;32m   1131\u001b[0m   \u001b[39mself\u001b[39m\u001b[39m.\u001b[39m_cluster_coordinator \u001b[39m=\u001b[39m cluster_coordinator\u001b[39m.\u001b[39mClusterCoordinator(\n\u001b[0;32m   1132\u001b[0m       \u001b[39mself\u001b[39m\u001b[39m.\u001b[39mdistribute_strategy)\n\u001b[0;32m   1134\u001b[0m \u001b[39mwith\u001b[39;00m \u001b[39mself\u001b[39m\u001b[39m.\u001b[39mdistribute_strategy\u001b[39m.\u001b[39mscope(), \\\n\u001b[0;32m   1135\u001b[0m      training_utils\u001b[39m.\u001b[39mRespectCompiledTrainableState(\u001b[39mself\u001b[39m):\n\u001b[0;32m   1136\u001b[0m   \u001b[39m# Creates a `tf.data.Dataset` and handles batch and epoch iteration.\u001b[39;00m\n\u001b[1;32m-> 1137\u001b[0m   data_handler \u001b[39m=\u001b[39m data_adapter\u001b[39m.\u001b[39;49mget_data_handler(\n\u001b[0;32m   1138\u001b[0m       x\u001b[39m=\u001b[39;49mx,\n\u001b[0;32m   1139\u001b[0m       y\u001b[39m=\u001b[39;49my,\n\u001b[0;32m   1140\u001b[0m       sample_weight\u001b[39m=\u001b[39;49msample_weight,\n\u001b[0;32m   1141\u001b[0m       batch_size\u001b[39m=\u001b[39;49mbatch_size,\n\u001b[0;32m   1142\u001b[0m       steps_per_epoch\u001b[39m=\u001b[39;49msteps_per_epoch,\n\u001b[0;32m   1143\u001b[0m       initial_epoch\u001b[39m=\u001b[39;49minitial_epoch,\n\u001b[0;32m   1144\u001b[0m       epochs\u001b[39m=\u001b[39;49mepochs,\n\u001b[0;32m   1145\u001b[0m       shuffle\u001b[39m=\u001b[39;49mshuffle,\n\u001b[0;32m   1146\u001b[0m       class_weight\u001b[39m=\u001b[39;49mclass_weight,\n\u001b[0;32m   1147\u001b[0m       max_queue_size\u001b[39m=\u001b[39;49mmax_queue_size,\n\u001b[0;32m   1148\u001b[0m       workers\u001b[39m=\u001b[39;49mworkers,\n\u001b[0;32m   1149\u001b[0m       use_multiprocessing\u001b[39m=\u001b[39;49muse_multiprocessing,\n\u001b[0;32m   1150\u001b[0m       model\u001b[39m=\u001b[39;49m\u001b[39mself\u001b[39;49m,\n\u001b[0;32m   1151\u001b[0m       steps_per_execution\u001b[39m=\u001b[39;49m\u001b[39mself\u001b[39;49m\u001b[39m.\u001b[39;49m_steps_per_execution)\n\u001b[0;32m   1153\u001b[0m   \u001b[39m# Container that configures and calls `tf.keras.Callback`s.\u001b[39;00m\n\u001b[0;32m   1154\u001b[0m   \u001b[39mif\u001b[39;00m \u001b[39mnot\u001b[39;00m \u001b[39misinstance\u001b[39m(callbacks, callbacks_module\u001b[39m.\u001b[39mCallbackList):\n",
      "File \u001b[1;32mc:\\Users\\Ying\\AppData\\Local\\Programs\\Python\\Python310\\lib\\site-packages\\tensorflow\\python\\keras\\engine\\data_adapter.py:1397\u001b[0m, in \u001b[0;36mget_data_handler\u001b[1;34m(*args, **kwargs)\u001b[0m\n\u001b[0;32m   1395\u001b[0m \u001b[39mif\u001b[39;00m \u001b[39mgetattr\u001b[39m(kwargs[\u001b[39m\"\u001b[39m\u001b[39mmodel\u001b[39m\u001b[39m\"\u001b[39m], \u001b[39m\"\u001b[39m\u001b[39m_cluster_coordinator\u001b[39m\u001b[39m\"\u001b[39m, \u001b[39mNone\u001b[39;00m):\n\u001b[0;32m   1396\u001b[0m   \u001b[39mreturn\u001b[39;00m _ClusterCoordinatorDataHandler(\u001b[39m*\u001b[39margs, \u001b[39m*\u001b[39m\u001b[39m*\u001b[39mkwargs)\n\u001b[1;32m-> 1397\u001b[0m \u001b[39mreturn\u001b[39;00m DataHandler(\u001b[39m*\u001b[39margs, \u001b[39m*\u001b[39m\u001b[39m*\u001b[39mkwargs)\n",
      "File \u001b[1;32mc:\\Users\\Ying\\AppData\\Local\\Programs\\Python\\Python310\\lib\\site-packages\\tensorflow\\python\\keras\\engine\\data_adapter.py:1151\u001b[0m, in \u001b[0;36mDataHandler.__init__\u001b[1;34m(self, x, y, sample_weight, batch_size, steps_per_epoch, initial_epoch, epochs, shuffle, class_weight, max_queue_size, workers, use_multiprocessing, model, steps_per_execution, distribute)\u001b[0m\n\u001b[0;32m   1148\u001b[0m   \u001b[39mself\u001b[39m\u001b[39m.\u001b[39m_steps_per_execution \u001b[39m=\u001b[39m steps_per_execution\n\u001b[0;32m   1149\u001b[0m   \u001b[39mself\u001b[39m\u001b[39m.\u001b[39m_steps_per_execution_value \u001b[39m=\u001b[39m steps_per_execution\u001b[39m.\u001b[39mnumpy()\u001b[39m.\u001b[39mitem()\n\u001b[1;32m-> 1151\u001b[0m adapter_cls \u001b[39m=\u001b[39m select_data_adapter(x, y)\n\u001b[0;32m   1152\u001b[0m \u001b[39mself\u001b[39m\u001b[39m.\u001b[39m_adapter \u001b[39m=\u001b[39m adapter_cls(\n\u001b[0;32m   1153\u001b[0m     x,\n\u001b[0;32m   1154\u001b[0m     y,\n\u001b[1;32m   (...)\u001b[0m\n\u001b[0;32m   1163\u001b[0m     distribution_strategy\u001b[39m=\u001b[39mdistribute_lib\u001b[39m.\u001b[39mget_strategy(),\n\u001b[0;32m   1164\u001b[0m     model\u001b[39m=\u001b[39mmodel)\n\u001b[0;32m   1166\u001b[0m strategy \u001b[39m=\u001b[39m distribute_lib\u001b[39m.\u001b[39mget_strategy()\n",
      "File \u001b[1;32mc:\\Users\\Ying\\AppData\\Local\\Programs\\Python\\Python310\\lib\\site-packages\\tensorflow\\python\\keras\\engine\\data_adapter.py:987\u001b[0m, in \u001b[0;36mselect_data_adapter\u001b[1;34m(x, y)\u001b[0m\n\u001b[0;32m    985\u001b[0m \u001b[39mdef\u001b[39;00m \u001b[39mselect_data_adapter\u001b[39m(x, y):\n\u001b[0;32m    986\u001b[0m \u001b[39m  \u001b[39m\u001b[39m\"\"\"Selects a data adapter than can handle a given x and y.\"\"\"\u001b[39;00m\n\u001b[1;32m--> 987\u001b[0m   adapter_cls \u001b[39m=\u001b[39m [\u001b[39mcls\u001b[39m \u001b[39mfor\u001b[39;00m \u001b[39mcls\u001b[39m \u001b[39min\u001b[39;00m ALL_ADAPTER_CLS \u001b[39mif\u001b[39;00m \u001b[39mcls\u001b[39m\u001b[39m.\u001b[39mcan_handle(x, y)]\n\u001b[0;32m    988\u001b[0m   \u001b[39mif\u001b[39;00m \u001b[39mnot\u001b[39;00m adapter_cls:\n\u001b[0;32m    989\u001b[0m     \u001b[39m# TODO(scottzhu): This should be a less implementation-specific error.\u001b[39;00m\n\u001b[0;32m    990\u001b[0m     \u001b[39mraise\u001b[39;00m \u001b[39mValueError\u001b[39;00m(\n\u001b[0;32m    991\u001b[0m         \u001b[39m\"\u001b[39m\u001b[39mFailed to find data adapter that can handle \u001b[39m\u001b[39m\"\u001b[39m\n\u001b[0;32m    992\u001b[0m         \u001b[39m\"\u001b[39m\u001b[39minput: \u001b[39m\u001b[39m{}\u001b[39;00m\u001b[39m, \u001b[39m\u001b[39m{}\u001b[39;00m\u001b[39m\"\u001b[39m\u001b[39m.\u001b[39mformat(\n\u001b[0;32m    993\u001b[0m             _type_name(x), _type_name(y)))\n",
      "File \u001b[1;32mc:\\Users\\Ying\\AppData\\Local\\Programs\\Python\\Python310\\lib\\site-packages\\tensorflow\\python\\keras\\engine\\data_adapter.py:987\u001b[0m, in \u001b[0;36m<listcomp>\u001b[1;34m(.0)\u001b[0m\n\u001b[0;32m    985\u001b[0m \u001b[39mdef\u001b[39;00m \u001b[39mselect_data_adapter\u001b[39m(x, y):\n\u001b[0;32m    986\u001b[0m \u001b[39m  \u001b[39m\u001b[39m\"\"\"Selects a data adapter than can handle a given x and y.\"\"\"\u001b[39;00m\n\u001b[1;32m--> 987\u001b[0m   adapter_cls \u001b[39m=\u001b[39m [\u001b[39mcls\u001b[39m \u001b[39mfor\u001b[39;00m \u001b[39mcls\u001b[39m \u001b[39min\u001b[39;00m ALL_ADAPTER_CLS \u001b[39mif\u001b[39;00m \u001b[39mcls\u001b[39;49m\u001b[39m.\u001b[39;49mcan_handle(x, y)]\n\u001b[0;32m    988\u001b[0m   \u001b[39mif\u001b[39;00m \u001b[39mnot\u001b[39;00m adapter_cls:\n\u001b[0;32m    989\u001b[0m     \u001b[39m# TODO(scottzhu): This should be a less implementation-specific error.\u001b[39;00m\n\u001b[0;32m    990\u001b[0m     \u001b[39mraise\u001b[39;00m \u001b[39mValueError\u001b[39;00m(\n\u001b[0;32m    991\u001b[0m         \u001b[39m\"\u001b[39m\u001b[39mFailed to find data adapter that can handle \u001b[39m\u001b[39m\"\u001b[39m\n\u001b[0;32m    992\u001b[0m         \u001b[39m\"\u001b[39m\u001b[39minput: \u001b[39m\u001b[39m{}\u001b[39;00m\u001b[39m, \u001b[39m\u001b[39m{}\u001b[39;00m\u001b[39m\"\u001b[39m\u001b[39m.\u001b[39mformat(\n\u001b[0;32m    993\u001b[0m             _type_name(x), _type_name(y)))\n",
      "File \u001b[1;32mc:\\Users\\Ying\\AppData\\Local\\Programs\\Python\\Python310\\lib\\site-packages\\tensorflow\\python\\keras\\engine\\data_adapter.py:706\u001b[0m, in \u001b[0;36mDatasetAdapter.can_handle\u001b[1;34m(x, y)\u001b[0m\n\u001b[0;32m    703\u001b[0m \u001b[39m@staticmethod\u001b[39m\n\u001b[0;32m    704\u001b[0m \u001b[39mdef\u001b[39;00m \u001b[39mcan_handle\u001b[39m(x, y\u001b[39m=\u001b[39m\u001b[39mNone\u001b[39;00m):\n\u001b[0;32m    705\u001b[0m   \u001b[39mreturn\u001b[39;00m (\u001b[39misinstance\u001b[39m(x, (data_types\u001b[39m.\u001b[39mDatasetV1, data_types\u001b[39m.\u001b[39mDatasetV2)) \u001b[39mor\u001b[39;00m\n\u001b[1;32m--> 706\u001b[0m           _is_distributed_dataset(x))\n",
      "File \u001b[1;32mc:\\Users\\Ying\\AppData\\Local\\Programs\\Python\\Python310\\lib\\site-packages\\tensorflow\\python\\keras\\engine\\data_adapter.py:1696\u001b[0m, in \u001b[0;36m_is_distributed_dataset\u001b[1;34m(ds)\u001b[0m\n\u001b[0;32m   1695\u001b[0m \u001b[39mdef\u001b[39;00m \u001b[39m_is_distributed_dataset\u001b[39m(ds):\n\u001b[1;32m-> 1696\u001b[0m   \u001b[39mreturn\u001b[39;00m \u001b[39misinstance\u001b[39m(ds, input_lib\u001b[39m.\u001b[39;49mDistributedDatasetInterface)\n",
      "\u001b[1;31mAttributeError\u001b[0m: module 'tensorflow.python.distribute.input_lib' has no attribute 'DistributedDatasetInterface'"
     ]
    }
   ],
   "source": [
    "# Compile the model with the instantiated optimizer\n",
    "lstmModel.compile(loss=MeanSquaredError(), optimizer=\"adam\", metrics=[RootMeanSquaredError()])\n",
    "history = lstmModel.fit(X_train, y_train, validation_data=(X_val, y_val), epochs=50, batch_size=32, verbose=1)\n",
    "\n"
   ]
  }
 ],
 "metadata": {
  "kernelspec": {
   "display_name": "Python 3",
   "language": "python",
   "name": "python3"
  },
  "language_info": {
   "codemirror_mode": {
    "name": "ipython",
    "version": 3
   },
   "file_extension": ".py",
   "mimetype": "text/x-python",
   "name": "python",
   "nbconvert_exporter": "python",
   "pygments_lexer": "ipython3",
   "version": "3.10.7"
  },
  "orig_nbformat": 4
 },
 "nbformat": 4,
 "nbformat_minor": 2
}
