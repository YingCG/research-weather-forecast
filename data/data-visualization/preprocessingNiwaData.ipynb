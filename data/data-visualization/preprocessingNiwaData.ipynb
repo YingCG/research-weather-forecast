{
 "cells": [
  {
   "cell_type": "markdown",
   "metadata": {},
   "source": [
    "# Import the libraries"
   ]
  },
  {
   "cell_type": "code",
   "execution_count": 267,
   "metadata": {},
   "outputs": [],
   "source": [
    "import numpy as np\n",
    "import matplotlib.pyplot as plt\n",
    "import pandas as pd\n"
   ]
  },
  {
   "cell_type": "markdown",
   "metadata": {},
   "source": [
    "# Import the dataset"
   ]
  },
  {
   "cell_type": "code",
   "execution_count": 268,
   "metadata": {},
   "outputs": [
    {
     "data": {
      "text/html": [
       "<div>\n",
       "<style scoped>\n",
       "    .dataframe tbody tr th:only-of-type {\n",
       "        vertical-align: middle;\n",
       "    }\n",
       "\n",
       "    .dataframe tbody tr th {\n",
       "        vertical-align: top;\n",
       "    }\n",
       "\n",
       "    .dataframe thead th {\n",
       "        text-align: right;\n",
       "    }\n",
       "</style>\n",
       "<table border=\"1\" class=\"dataframe\">\n",
       "  <thead>\n",
       "    <tr style=\"text-align: right;\">\n",
       "      <th></th>\n",
       "      <th>Date(NZST)</th>\n",
       "      <th>Pmsl(hPa)</th>\n",
       "      <th>Pstn(hPa)</th>\n",
       "    </tr>\n",
       "  </thead>\n",
       "  <tbody>\n",
       "    <tr>\n",
       "      <th>0</th>\n",
       "      <td>2009-01-01</td>\n",
       "      <td>1007.0</td>\n",
       "      <td>983.6</td>\n",
       "    </tr>\n",
       "    <tr>\n",
       "      <th>1</th>\n",
       "      <td>2009-01-02</td>\n",
       "      <td>1012.3</td>\n",
       "      <td>988.5</td>\n",
       "    </tr>\n",
       "    <tr>\n",
       "      <th>2</th>\n",
       "      <td>2009-01-03</td>\n",
       "      <td>1009.0</td>\n",
       "      <td>985.5</td>\n",
       "    </tr>\n",
       "    <tr>\n",
       "      <th>3</th>\n",
       "      <td>2009-01-04</td>\n",
       "      <td>1022.2</td>\n",
       "      <td>998.1</td>\n",
       "    </tr>\n",
       "    <tr>\n",
       "      <th>4</th>\n",
       "      <td>2009-01-05</td>\n",
       "      <td>1022.5</td>\n",
       "      <td>998.6</td>\n",
       "    </tr>\n",
       "  </tbody>\n",
       "</table>\n",
       "</div>"
      ],
      "text/plain": [
       "  Date(NZST)  Pmsl(hPa) Pstn(hPa)\n",
       "0 2009-01-01     1007.0     983.6\n",
       "1 2009-01-02     1012.3     988.5\n",
       "2 2009-01-03     1009.0     985.5\n",
       "3 2009-01-04     1022.2     998.1\n",
       "4 2009-01-05     1022.5     998.6"
      ]
     },
     "execution_count": 268,
     "metadata": {},
     "output_type": "execute_result"
    }
   ],
   "source": [
    "pressure = pd.read_csv(\"../niwa_cleaned/Pressure_9am_only.csv\", parse_dates=['Date(NZST)'])\n",
    "pressure.head()"
   ]
  },
  {
   "cell_type": "code",
   "execution_count": 269,
   "metadata": {},
   "outputs": [
    {
     "name": "stdout",
     "output_type": "stream",
     "text": [
      "<class 'pandas.core.frame.DataFrame'>\n",
      "RangeIndex: 5351 entries, 0 to 5350\n",
      "Data columns (total 3 columns):\n",
      " #   Column      Non-Null Count  Dtype         \n",
      "---  ------      --------------  -----         \n",
      " 0   Date(NZST)  5351 non-null   datetime64[ns]\n",
      " 1   Pmsl(hPa)   5351 non-null   float64       \n",
      " 2   Pstn(hPa)   5351 non-null   object        \n",
      "dtypes: datetime64[ns](1), float64(1), object(1)\n",
      "memory usage: 125.5+ KB\n"
     ]
    }
   ],
   "source": [
    "pressure.info()"
   ]
  },
  {
   "cell_type": "code",
   "execution_count": 270,
   "metadata": {},
   "outputs": [
    {
     "data": {
      "text/html": [
       "<div>\n",
       "<style scoped>\n",
       "    .dataframe tbody tr th:only-of-type {\n",
       "        vertical-align: middle;\n",
       "    }\n",
       "\n",
       "    .dataframe tbody tr th {\n",
       "        vertical-align: top;\n",
       "    }\n",
       "\n",
       "    .dataframe thead th {\n",
       "        text-align: right;\n",
       "    }\n",
       "</style>\n",
       "<table border=\"1\" class=\"dataframe\">\n",
       "  <thead>\n",
       "    <tr style=\"text-align: right;\">\n",
       "      <th></th>\n",
       "      <th>Date(NZST)</th>\n",
       "      <th>Radiation(MJ/m2)</th>\n",
       "    </tr>\n",
       "  </thead>\n",
       "  <tbody>\n",
       "    <tr>\n",
       "      <th>0</th>\n",
       "      <td>2009-07-19</td>\n",
       "      <td>3.85</td>\n",
       "    </tr>\n",
       "    <tr>\n",
       "      <th>1</th>\n",
       "      <td>2009-07-20</td>\n",
       "      <td>4.64</td>\n",
       "    </tr>\n",
       "    <tr>\n",
       "      <th>2</th>\n",
       "      <td>2009-07-21</td>\n",
       "      <td>1.87</td>\n",
       "    </tr>\n",
       "    <tr>\n",
       "      <th>3</th>\n",
       "      <td>2009-07-22</td>\n",
       "      <td>3.23</td>\n",
       "    </tr>\n",
       "    <tr>\n",
       "      <th>4</th>\n",
       "      <td>2009-07-23</td>\n",
       "      <td>0.77</td>\n",
       "    </tr>\n",
       "  </tbody>\n",
       "</table>\n",
       "</div>"
      ],
      "text/plain": [
       "  Date(NZST)  Radiation(MJ/m2)\n",
       "0 2009-07-19              3.85\n",
       "1 2009-07-20              4.64\n",
       "2 2009-07-21              1.87\n",
       "3 2009-07-22              3.23\n",
       "4 2009-07-23              0.77"
      ]
     },
     "execution_count": 270,
     "metadata": {},
     "output_type": "execute_result"
    }
   ],
   "source": [
    "radiation = pd.read_csv(\"../niwa_cleaned/Radiation_Daily_Global.csv\", parse_dates=['Date(NZST)'])\n",
    "radiation.head()"
   ]
  },
  {
   "cell_type": "code",
   "execution_count": 271,
   "metadata": {},
   "outputs": [
    {
     "name": "stdout",
     "output_type": "stream",
     "text": [
      "<class 'pandas.core.frame.DataFrame'>\n",
      "RangeIndex: 5099 entries, 0 to 5098\n",
      "Data columns (total 2 columns):\n",
      " #   Column            Non-Null Count  Dtype         \n",
      "---  ------            --------------  -----         \n",
      " 0   Date(NZST)        5099 non-null   datetime64[ns]\n",
      " 1   Radiation(MJ/m2)  5099 non-null   float64       \n",
      "dtypes: datetime64[ns](1), float64(1)\n",
      "memory usage: 79.8 KB\n"
     ]
    }
   ],
   "source": [
    "radiation.info()"
   ]
  },
  {
   "cell_type": "code",
   "execution_count": 272,
   "metadata": {},
   "outputs": [
    {
     "data": {
      "text/html": [
       "<div>\n",
       "<style scoped>\n",
       "    .dataframe tbody tr th:only-of-type {\n",
       "        vertical-align: middle;\n",
       "    }\n",
       "\n",
       "    .dataframe tbody tr th {\n",
       "        vertical-align: top;\n",
       "    }\n",
       "\n",
       "    .dataframe thead th {\n",
       "        text-align: right;\n",
       "    }\n",
       "</style>\n",
       "<table border=\"1\" class=\"dataframe\">\n",
       "  <thead>\n",
       "    <tr style=\"text-align: right;\">\n",
       "      <th></th>\n",
       "      <th>Station</th>\n",
       "      <th>Date(NZST)_Incl_secs</th>\n",
       "      <th>Amount(mm)</th>\n",
       "      <th>Period(min)</th>\n",
       "      <th>Freq</th>\n",
       "    </tr>\n",
       "  </thead>\n",
       "  <tbody>\n",
       "    <tr>\n",
       "      <th>0</th>\n",
       "      <td>3925</td>\n",
       "      <td>20090101:000830</td>\n",
       "      <td>0</td>\n",
       "      <td>8.5</td>\n",
       "      <td>BPS</td>\n",
       "    </tr>\n",
       "    <tr>\n",
       "      <th>1</th>\n",
       "      <td>3925</td>\n",
       "      <td>20090101:002330</td>\n",
       "      <td>0.16</td>\n",
       "      <td>15.0</td>\n",
       "      <td>BPS</td>\n",
       "    </tr>\n",
       "    <tr>\n",
       "      <th>2</th>\n",
       "      <td>3925</td>\n",
       "      <td>20090101:011112</td>\n",
       "      <td>0</td>\n",
       "      <td>47.7</td>\n",
       "      <td>BPS</td>\n",
       "    </tr>\n",
       "    <tr>\n",
       "      <th>3</th>\n",
       "      <td>3925</td>\n",
       "      <td>20090101:012236</td>\n",
       "      <td>0.12</td>\n",
       "      <td>11.4</td>\n",
       "      <td>BPS</td>\n",
       "    </tr>\n",
       "    <tr>\n",
       "      <th>4</th>\n",
       "      <td>3925</td>\n",
       "      <td>20090101:020436</td>\n",
       "      <td>0</td>\n",
       "      <td>42.0</td>\n",
       "      <td>BPS</td>\n",
       "    </tr>\n",
       "  </tbody>\n",
       "</table>\n",
       "</div>"
      ],
      "text/plain": [
       "   Station Date(NZST)_Incl_secs Amount(mm)  Period(min) Freq\n",
       "0     3925      20090101:000830          0          8.5  BPS\n",
       "1     3925      20090101:002330       0.16         15.0  BPS\n",
       "2     3925      20090101:011112          0         47.7  BPS\n",
       "3     3925      20090101:012236       0.12         11.4  BPS\n",
       "4     3925      20090101:020436          0         42.0  BPS"
      ]
     },
     "execution_count": 272,
     "metadata": {},
     "output_type": "execute_result"
    }
   ],
   "source": [
    "rainBreakpoint = pd.read_csv(\"../niwa_cleaned/RainBreakpointsfromRainRate.csv\")\n",
    "rainBreakpoint.head()"
   ]
  },
  {
   "cell_type": "code",
   "execution_count": 273,
   "metadata": {},
   "outputs": [
    {
     "name": "stdout",
     "output_type": "stream",
     "text": [
      "       Date(NZST) Amount(mm)  Period(min)\n",
      "0      2009-01-01          0          8.5\n",
      "1      2009-01-01       0.16         15.0\n",
      "2      2009-01-01          0         47.7\n",
      "3      2009-01-01       0.12         11.4\n",
      "4      2009-01-01          0         42.0\n",
      "...           ...        ...          ...\n",
      "84557  2023-08-18       0.12          4.3\n",
      "84558  2023-08-18       0.08         32.9\n",
      "84559  2023-08-19          0       1629.4\n",
      "84560  2023-08-19       -0.1         60.0\n",
      "84561  2023-08-28          -      12420.0\n",
      "\n",
      "[84562 rows x 3 columns]\n"
     ]
    }
   ],
   "source": [
    "rainBreakpoint['Date(NZST)'] = pd.to_datetime(rainBreakpoint['Date(NZST)_Incl_secs'], format='%Y%m%d:%H%M%S').dt.date\n",
    "breakpoint = rainBreakpoint[['Date(NZST)', 'Amount(mm)', 'Period(min)']]\n",
    "print(breakpoint)\n"
   ]
  },
  {
   "cell_type": "code",
   "execution_count": 274,
   "metadata": {},
   "outputs": [
    {
     "name": "stdout",
     "output_type": "stream",
     "text": [
      "      Date(NZST) Amount(mm)  Period(min)\n",
      "0     2009-01-01          0          8.5\n",
      "1     2009-01-01       0.16         15.0\n",
      "2     2009-01-01          0         47.7\n",
      "3     2009-01-01       0.12         11.4\n",
      "4     2009-01-01          0         42.0\n",
      "...          ...        ...          ...\n",
      "84557 2023-08-18       0.12          4.3\n",
      "84558 2023-08-18       0.08         32.9\n",
      "84559 2023-08-19          0       1629.4\n",
      "84560 2023-08-19       -0.1         60.0\n",
      "84561 2023-08-28          -      12420.0\n",
      "\n",
      "[84562 rows x 3 columns]\n"
     ]
    },
    {
     "name": "stderr",
     "output_type": "stream",
     "text": [
      "C:\\Users\\yingg\\AppData\\Local\\Temp\\ipykernel_10760\\3532754350.py:1: SettingWithCopyWarning: \n",
      "A value is trying to be set on a copy of a slice from a DataFrame.\n",
      "Try using .loc[row_indexer,col_indexer] = value instead\n",
      "\n",
      "See the caveats in the documentation: https://pandas.pydata.org/pandas-docs/stable/user_guide/indexing.html#returning-a-view-versus-a-copy\n",
      "  breakpoint['Date(NZST)'] = breakpoint['Date(NZST)'].astype('datetime64[ns]')\n"
     ]
    }
   ],
   "source": [
    "breakpoint['Date(NZST)'] = breakpoint['Date(NZST)'].astype('datetime64[ns]')\n",
    "print(breakpoint)\n"
   ]
  },
  {
   "cell_type": "code",
   "execution_count": 275,
   "metadata": {},
   "outputs": [
    {
     "name": "stdout",
     "output_type": "stream",
     "text": [
      "<class 'pandas.core.frame.DataFrame'>\n",
      "RangeIndex: 84562 entries, 0 to 84561\n",
      "Data columns (total 3 columns):\n",
      " #   Column       Non-Null Count  Dtype         \n",
      "---  ------       --------------  -----         \n",
      " 0   Date(NZST)   84562 non-null  datetime64[ns]\n",
      " 1   Amount(mm)   84562 non-null  object        \n",
      " 2   Period(min)  84562 non-null  float64       \n",
      "dtypes: datetime64[ns](1), float64(1), object(1)\n",
      "memory usage: 1.9+ MB\n"
     ]
    }
   ],
   "source": [
    "breakpoint.info()"
   ]
  },
  {
   "cell_type": "code",
   "execution_count": 276,
   "metadata": {},
   "outputs": [
    {
     "name": "stdout",
     "output_type": "stream",
     "text": [
      "<class 'pandas.core.frame.DataFrame'>\n",
      "RangeIndex: 84562 entries, 0 to 84561\n",
      "Data columns (total 3 columns):\n",
      " #   Column       Non-Null Count  Dtype         \n",
      "---  ------       --------------  -----         \n",
      " 0   Date(NZST)   84562 non-null  datetime64[ns]\n",
      " 1   Amount(mm)   84549 non-null  float64       \n",
      " 2   Period(min)  84562 non-null  float64       \n",
      "dtypes: datetime64[ns](1), float64(2)\n",
      "memory usage: 1.9 MB\n"
     ]
    },
    {
     "name": "stderr",
     "output_type": "stream",
     "text": [
      "C:\\Users\\yingg\\AppData\\Local\\Temp\\ipykernel_10760\\1083804610.py:1: SettingWithCopyWarning: \n",
      "A value is trying to be set on a copy of a slice from a DataFrame.\n",
      "Try using .loc[row_indexer,col_indexer] = value instead\n",
      "\n",
      "See the caveats in the documentation: https://pandas.pydata.org/pandas-docs/stable/user_guide/indexing.html#returning-a-view-versus-a-copy\n",
      "  breakpoint['Amount(mm)'] = pd.to_numeric(breakpoint['Amount(mm)'], errors='coerce')\n"
     ]
    }
   ],
   "source": [
    "breakpoint['Amount(mm)'] = pd.to_numeric(breakpoint['Amount(mm)'], errors='coerce')\n",
    "breakpoint.info()"
   ]
  },
  {
   "cell_type": "code",
   "execution_count": 277,
   "metadata": {},
   "outputs": [
    {
     "data": {
      "text/html": [
       "<div>\n",
       "<style scoped>\n",
       "    .dataframe tbody tr th:only-of-type {\n",
       "        vertical-align: middle;\n",
       "    }\n",
       "\n",
       "    .dataframe tbody tr th {\n",
       "        vertical-align: top;\n",
       "    }\n",
       "\n",
       "    .dataframe thead th {\n",
       "        text-align: right;\n",
       "    }\n",
       "</style>\n",
       "<table border=\"1\" class=\"dataframe\">\n",
       "  <thead>\n",
       "    <tr style=\"text-align: right;\">\n",
       "      <th></th>\n",
       "      <th>Date(NZST)</th>\n",
       "      <th>Rainfall(mm)</th>\n",
       "      <th>Deficit(mm)</th>\n",
       "    </tr>\n",
       "  </thead>\n",
       "  <tbody>\n",
       "    <tr>\n",
       "      <th>0</th>\n",
       "      <td>2009-01-01</td>\n",
       "      <td>25.0</td>\n",
       "      <td>15.5</td>\n",
       "    </tr>\n",
       "    <tr>\n",
       "      <th>1</th>\n",
       "      <td>2009-01-02</td>\n",
       "      <td>0.2</td>\n",
       "      <td>19.6</td>\n",
       "    </tr>\n",
       "    <tr>\n",
       "      <th>2</th>\n",
       "      <td>2009-01-03</td>\n",
       "      <td>38.4</td>\n",
       "      <td>0.0</td>\n",
       "    </tr>\n",
       "    <tr>\n",
       "      <th>3</th>\n",
       "      <td>2009-01-04</td>\n",
       "      <td>0.6</td>\n",
       "      <td>3.7</td>\n",
       "    </tr>\n",
       "    <tr>\n",
       "      <th>4</th>\n",
       "      <td>2009-01-05</td>\n",
       "      <td>0.0</td>\n",
       "      <td>8.1</td>\n",
       "    </tr>\n",
       "  </tbody>\n",
       "</table>\n",
       "</div>"
      ],
      "text/plain": [
       "  Date(NZST)  Rainfall(mm)  Deficit(mm)\n",
       "0 2009-01-01          25.0         15.5\n",
       "1 2009-01-02           0.2         19.6\n",
       "2 2009-01-03          38.4          0.0\n",
       "3 2009-01-04           0.6          3.7\n",
       "4 2009-01-05           0.0          8.1"
      ]
     },
     "execution_count": 277,
     "metadata": {},
     "output_type": "execute_result"
    }
   ],
   "source": [
    "raindaily = pd.read_csv(\"../niwa_cleaned/RainDaily.csv\", parse_dates=['Date(NZST)'])\n",
    "raindaily.head()"
   ]
  },
  {
   "cell_type": "code",
   "execution_count": 278,
   "metadata": {},
   "outputs": [
    {
     "name": "stdout",
     "output_type": "stream",
     "text": [
      "<class 'pandas.core.frame.DataFrame'>\n",
      "RangeIndex: 5352 entries, 0 to 5351\n",
      "Data columns (total 3 columns):\n",
      " #   Column        Non-Null Count  Dtype         \n",
      "---  ------        --------------  -----         \n",
      " 0   Date(NZST)    5352 non-null   datetime64[ns]\n",
      " 1   Rainfall(mm)  5352 non-null   float64       \n",
      " 2   Deficit(mm)   5352 non-null   float64       \n",
      "dtypes: datetime64[ns](1), float64(2)\n",
      "memory usage: 125.6 KB\n"
     ]
    }
   ],
   "source": [
    "raindaily.info()"
   ]
  },
  {
   "cell_type": "code",
   "execution_count": 279,
   "metadata": {},
   "outputs": [
    {
     "data": {
      "text/html": [
       "<div>\n",
       "<style scoped>\n",
       "    .dataframe tbody tr th:only-of-type {\n",
       "        vertical-align: middle;\n",
       "    }\n",
       "\n",
       "    .dataframe tbody tr th {\n",
       "        vertical-align: top;\n",
       "    }\n",
       "\n",
       "    .dataframe thead th {\n",
       "        text-align: right;\n",
       "    }\n",
       "</style>\n",
       "<table border=\"1\" class=\"dataframe\">\n",
       "  <thead>\n",
       "    <tr style=\"text-align: right;\">\n",
       "      <th></th>\n",
       "      <th>Date(NZST)</th>\n",
       "      <th>SoilMoisture(%)</th>\n",
       "    </tr>\n",
       "  </thead>\n",
       "  <tbody>\n",
       "    <tr>\n",
       "      <th>0</th>\n",
       "      <td>2009-01-01</td>\n",
       "      <td>53.3</td>\n",
       "    </tr>\n",
       "    <tr>\n",
       "      <th>1</th>\n",
       "      <td>2009-01-01</td>\n",
       "      <td>52.9</td>\n",
       "    </tr>\n",
       "    <tr>\n",
       "      <th>2</th>\n",
       "      <td>2009-01-01</td>\n",
       "      <td>52.9</td>\n",
       "    </tr>\n",
       "    <tr>\n",
       "      <th>3</th>\n",
       "      <td>2009-01-01</td>\n",
       "      <td>52.8</td>\n",
       "    </tr>\n",
       "    <tr>\n",
       "      <th>4</th>\n",
       "      <td>2009-01-01</td>\n",
       "      <td>52.7</td>\n",
       "    </tr>\n",
       "  </tbody>\n",
       "</table>\n",
       "</div>"
      ],
      "text/plain": [
       "  Date(NZST)  SoilMoisture(%)\n",
       "0 2009-01-01             53.3\n",
       "1 2009-01-01             52.9\n",
       "2 2009-01-01             52.9\n",
       "3 2009-01-01             52.8\n",
       "4 2009-01-01             52.7"
      ]
     },
     "execution_count": 279,
     "metadata": {},
     "output_type": "execute_result"
    }
   ],
   "source": [
    "soilMoisture = pd.read_csv(\"../niwa_cleaned/soil.csv\", parse_dates=['Date(NZST)'])\n",
    "soilMoisture.head()"
   ]
  },
  {
   "cell_type": "code",
   "execution_count": 280,
   "metadata": {},
   "outputs": [
    {
     "name": "stdout",
     "output_type": "stream",
     "text": [
      "<class 'pandas.core.frame.DataFrame'>\n",
      "RangeIndex: 40000 entries, 0 to 39999\n",
      "Data columns (total 2 columns):\n",
      " #   Column           Non-Null Count  Dtype         \n",
      "---  ------           --------------  -----         \n",
      " 0   Date(NZST)       40000 non-null  datetime64[ns]\n",
      " 1   SoilMoisture(%)  40000 non-null  float64       \n",
      "dtypes: datetime64[ns](1), float64(1)\n",
      "memory usage: 625.1 KB\n"
     ]
    }
   ],
   "source": [
    "soilMoisture.info()"
   ]
  },
  {
   "cell_type": "code",
   "execution_count": 281,
   "metadata": {},
   "outputs": [
    {
     "data": {
      "text/html": [
       "<div>\n",
       "<style scoped>\n",
       "    .dataframe tbody tr th:only-of-type {\n",
       "        vertical-align: middle;\n",
       "    }\n",
       "\n",
       "    .dataframe tbody tr th {\n",
       "        vertical-align: top;\n",
       "    }\n",
       "\n",
       "    .dataframe thead th {\n",
       "        text-align: right;\n",
       "    }\n",
       "</style>\n",
       "<table border=\"1\" class=\"dataframe\">\n",
       "  <thead>\n",
       "    <tr style=\"text-align: right;\">\n",
       "      <th></th>\n",
       "      <th>Date(NZST)</th>\n",
       "      <th>Sunshine(Hrs)</th>\n",
       "      <th>Period(Hrs)</th>\n",
       "      <th>Freq</th>\n",
       "    </tr>\n",
       "  </thead>\n",
       "  <tbody>\n",
       "    <tr>\n",
       "      <th>0</th>\n",
       "      <td>2009-01-01</td>\n",
       "      <td>9.4</td>\n",
       "      <td>24</td>\n",
       "      <td>D</td>\n",
       "    </tr>\n",
       "    <tr>\n",
       "      <th>1</th>\n",
       "      <td>2009-01-02</td>\n",
       "      <td>4.4</td>\n",
       "      <td>24</td>\n",
       "      <td>D</td>\n",
       "    </tr>\n",
       "    <tr>\n",
       "      <th>2</th>\n",
       "      <td>2009-01-03</td>\n",
       "      <td>6.3</td>\n",
       "      <td>24</td>\n",
       "      <td>D</td>\n",
       "    </tr>\n",
       "    <tr>\n",
       "      <th>3</th>\n",
       "      <td>2009-01-04</td>\n",
       "      <td>7.5</td>\n",
       "      <td>24</td>\n",
       "      <td>D</td>\n",
       "    </tr>\n",
       "    <tr>\n",
       "      <th>4</th>\n",
       "      <td>2009-01-05</td>\n",
       "      <td>9.9</td>\n",
       "      <td>24</td>\n",
       "      <td>D</td>\n",
       "    </tr>\n",
       "  </tbody>\n",
       "</table>\n",
       "</div>"
      ],
      "text/plain": [
       "  Date(NZST)  Sunshine(Hrs)  Period(Hrs) Freq\n",
       "0 2009-01-01            9.4           24    D\n",
       "1 2009-01-02            4.4           24    D\n",
       "2 2009-01-03            6.3           24    D\n",
       "3 2009-01-04            7.5           24    D\n",
       "4 2009-01-05            9.9           24    D"
      ]
     },
     "execution_count": 281,
     "metadata": {},
     "output_type": "execute_result"
    }
   ],
   "source": [
    "sunshine = pd.read_csv(\"../niwa_cleaned/SunshineDaily.csv\", parse_dates=['Date(NZST)'])\n",
    "sunshine.head()"
   ]
  },
  {
   "cell_type": "code",
   "execution_count": 282,
   "metadata": {},
   "outputs": [
    {
     "name": "stdout",
     "output_type": "stream",
     "text": [
      "<class 'pandas.core.frame.DataFrame'>\n",
      "RangeIndex: 5349 entries, 0 to 5348\n",
      "Data columns (total 4 columns):\n",
      " #   Column         Non-Null Count  Dtype         \n",
      "---  ------         --------------  -----         \n",
      " 0   Date(NZST)     5349 non-null   datetime64[ns]\n",
      " 1   Sunshine(Hrs)  5349 non-null   float64       \n",
      " 2   Period(Hrs)    5349 non-null   int64         \n",
      " 3   Freq           5349 non-null   object        \n",
      "dtypes: datetime64[ns](1), float64(1), int64(1), object(1)\n",
      "memory usage: 167.3+ KB\n"
     ]
    }
   ],
   "source": [
    "sunshine.info()"
   ]
  },
  {
   "cell_type": "code",
   "execution_count": 283,
   "metadata": {},
   "outputs": [
    {
     "data": {
      "text/html": [
       "<div>\n",
       "<style scoped>\n",
       "    .dataframe tbody tr th:only-of-type {\n",
       "        vertical-align: middle;\n",
       "    }\n",
       "\n",
       "    .dataframe tbody tr th {\n",
       "        vertical-align: top;\n",
       "    }\n",
       "\n",
       "    .dataframe thead th {\n",
       "        text-align: right;\n",
       "    }\n",
       "</style>\n",
       "<table border=\"1\" class=\"dataframe\">\n",
       "  <thead>\n",
       "    <tr style=\"text-align: right;\">\n",
       "      <th></th>\n",
       "      <th>Date(NZST)</th>\n",
       "      <th>Sunshine(Hrs)</th>\n",
       "    </tr>\n",
       "  </thead>\n",
       "  <tbody>\n",
       "    <tr>\n",
       "      <th>0</th>\n",
       "      <td>2009-01-01</td>\n",
       "      <td>9.4</td>\n",
       "    </tr>\n",
       "    <tr>\n",
       "      <th>1</th>\n",
       "      <td>2009-01-02</td>\n",
       "      <td>4.4</td>\n",
       "    </tr>\n",
       "    <tr>\n",
       "      <th>2</th>\n",
       "      <td>2009-01-03</td>\n",
       "      <td>6.3</td>\n",
       "    </tr>\n",
       "    <tr>\n",
       "      <th>3</th>\n",
       "      <td>2009-01-04</td>\n",
       "      <td>7.5</td>\n",
       "    </tr>\n",
       "    <tr>\n",
       "      <th>4</th>\n",
       "      <td>2009-01-05</td>\n",
       "      <td>9.9</td>\n",
       "    </tr>\n",
       "  </tbody>\n",
       "</table>\n",
       "</div>"
      ],
      "text/plain": [
       "  Date(NZST)  Sunshine(Hrs)\n",
       "0 2009-01-01            9.4\n",
       "1 2009-01-02            4.4\n",
       "2 2009-01-03            6.3\n",
       "3 2009-01-04            7.5\n",
       "4 2009-01-05            9.9"
      ]
     },
     "execution_count": 283,
     "metadata": {},
     "output_type": "execute_result"
    }
   ],
   "source": [
    "sunshine.drop(columns=['Period(Hrs)','Freq'], inplace=True)\n",
    "sunshine.head()"
   ]
  },
  {
   "cell_type": "code",
   "execution_count": 284,
   "metadata": {},
   "outputs": [
    {
     "data": {
      "text/html": [
       "<div>\n",
       "<style scoped>\n",
       "    .dataframe tbody tr th:only-of-type {\n",
       "        vertical-align: middle;\n",
       "    }\n",
       "\n",
       "    .dataframe tbody tr th {\n",
       "        vertical-align: top;\n",
       "    }\n",
       "\n",
       "    .dataframe thead th {\n",
       "        text-align: right;\n",
       "    }\n",
       "</style>\n",
       "<table border=\"1\" class=\"dataframe\">\n",
       "  <thead>\n",
       "    <tr style=\"text-align: right;\">\n",
       "      <th></th>\n",
       "      <th>Date(NZST)</th>\n",
       "      <th>WindDir(DegT)</th>\n",
       "      <th>Speed(m/s)</th>\n",
       "      <th>WindDir StdDev</th>\n",
       "      <th>WindSpd StdDev</th>\n",
       "    </tr>\n",
       "  </thead>\n",
       "  <tbody>\n",
       "    <tr>\n",
       "      <th>0</th>\n",
       "      <td>2009-01-01</td>\n",
       "      <td>242</td>\n",
       "      <td>1.0</td>\n",
       "      <td>74</td>\n",
       "      <td>0.8</td>\n",
       "    </tr>\n",
       "    <tr>\n",
       "      <th>1</th>\n",
       "      <td>2009-01-02</td>\n",
       "      <td>28</td>\n",
       "      <td>0.7</td>\n",
       "      <td>79</td>\n",
       "      <td>0.6</td>\n",
       "    </tr>\n",
       "    <tr>\n",
       "      <th>2</th>\n",
       "      <td>2009-01-03</td>\n",
       "      <td>214</td>\n",
       "      <td>0.6</td>\n",
       "      <td>22</td>\n",
       "      <td>0.5</td>\n",
       "    </tr>\n",
       "    <tr>\n",
       "      <th>3</th>\n",
       "      <td>2009-01-04</td>\n",
       "      <td>304</td>\n",
       "      <td>0.8</td>\n",
       "      <td>34</td>\n",
       "      <td>0.4</td>\n",
       "    </tr>\n",
       "    <tr>\n",
       "      <th>4</th>\n",
       "      <td>2009-01-05</td>\n",
       "      <td>101</td>\n",
       "      <td>1.7</td>\n",
       "      <td>23</td>\n",
       "      <td>0.5</td>\n",
       "    </tr>\n",
       "  </tbody>\n",
       "</table>\n",
       "</div>"
      ],
      "text/plain": [
       "  Date(NZST)  WindDir(DegT)  Speed(m/s)  WindDir StdDev  WindSpd StdDev\n",
       "0 2009-01-01            242         1.0              74             0.8\n",
       "1 2009-01-02             28         0.7              79             0.6\n",
       "2 2009-01-03            214         0.6              22             0.5\n",
       "3 2009-01-04            304         0.8              34             0.4\n",
       "4 2009-01-05            101         1.7              23             0.5"
      ]
     },
     "execution_count": 284,
     "metadata": {},
     "output_type": "execute_result"
    }
   ],
   "source": [
    "surfacewind = pd.read_csv(\"../niwa_cleaned/SurfaceWind9am.csv\", parse_dates=['Date(NZST)'])\n",
    "surfacewind.head()"
   ]
  },
  {
   "cell_type": "code",
   "execution_count": 285,
   "metadata": {},
   "outputs": [
    {
     "name": "stdout",
     "output_type": "stream",
     "text": [
      "<class 'pandas.core.frame.DataFrame'>\n",
      "RangeIndex: 5341 entries, 0 to 5340\n",
      "Data columns (total 5 columns):\n",
      " #   Column          Non-Null Count  Dtype         \n",
      "---  ------          --------------  -----         \n",
      " 0   Date(NZST)      5341 non-null   datetime64[ns]\n",
      " 1   WindDir(DegT)   5341 non-null   int64         \n",
      " 2   Speed(m/s)      5341 non-null   float64       \n",
      " 3   WindDir StdDev  5341 non-null   int64         \n",
      " 4   WindSpd StdDev  5341 non-null   float64       \n",
      "dtypes: datetime64[ns](1), float64(2), int64(2)\n",
      "memory usage: 208.8 KB\n"
     ]
    }
   ],
   "source": [
    "surfacewind.info()"
   ]
  },
  {
   "cell_type": "code",
   "execution_count": 286,
   "metadata": {},
   "outputs": [
    {
     "data": {
      "text/html": [
       "<div>\n",
       "<style scoped>\n",
       "    .dataframe tbody tr th:only-of-type {\n",
       "        vertical-align: middle;\n",
       "    }\n",
       "\n",
       "    .dataframe tbody tr th {\n",
       "        vertical-align: top;\n",
       "    }\n",
       "\n",
       "    .dataframe thead th {\n",
       "        text-align: right;\n",
       "    }\n",
       "</style>\n",
       "<table border=\"1\" class=\"dataframe\">\n",
       "  <thead>\n",
       "    <tr style=\"text-align: right;\">\n",
       "      <th></th>\n",
       "      <th>Date(NZST)</th>\n",
       "      <th>Tmax(C)</th>\n",
       "      <th>Tmin(C)</th>\n",
       "      <th>Tgmin(C)</th>\n",
       "      <th>Tmean(C)</th>\n",
       "    </tr>\n",
       "  </thead>\n",
       "  <tbody>\n",
       "    <tr>\n",
       "      <th>0</th>\n",
       "      <td>2019-01-01</td>\n",
       "      <td>25.6</td>\n",
       "      <td>14.3</td>\n",
       "      <td>12.5</td>\n",
       "      <td>20</td>\n",
       "    </tr>\n",
       "    <tr>\n",
       "      <th>1</th>\n",
       "      <td>2019-01-02</td>\n",
       "      <td>26.9</td>\n",
       "      <td>16.6</td>\n",
       "      <td>15.8</td>\n",
       "      <td>21.8</td>\n",
       "    </tr>\n",
       "    <tr>\n",
       "      <th>2</th>\n",
       "      <td>2019-01-03</td>\n",
       "      <td>24.8</td>\n",
       "      <td>16</td>\n",
       "      <td>13.2</td>\n",
       "      <td>20.4</td>\n",
       "    </tr>\n",
       "    <tr>\n",
       "      <th>3</th>\n",
       "      <td>2019-01-04</td>\n",
       "      <td>23.1</td>\n",
       "      <td>13.3</td>\n",
       "      <td>10.2</td>\n",
       "      <td>18.2</td>\n",
       "    </tr>\n",
       "    <tr>\n",
       "      <th>4</th>\n",
       "      <td>2019-01-05</td>\n",
       "      <td>22.1</td>\n",
       "      <td>8.4</td>\n",
       "      <td>5.4</td>\n",
       "      <td>15.3</td>\n",
       "    </tr>\n",
       "  </tbody>\n",
       "</table>\n",
       "</div>"
      ],
      "text/plain": [
       "  Date(NZST) Tmax(C) Tmin(C) Tgmin(C) Tmean(C)\n",
       "0 2019-01-01    25.6    14.3     12.5       20\n",
       "1 2019-01-02    26.9    16.6     15.8     21.8\n",
       "2 2019-01-03    24.8      16     13.2     20.4\n",
       "3 2019-01-04    23.1    13.3     10.2     18.2\n",
       "4 2019-01-05    22.1     8.4      5.4     15.3"
      ]
     },
     "execution_count": 286,
     "metadata": {},
     "output_type": "execute_result"
    }
   ],
   "source": [
    "temperature = pd.read_csv(\"../niwa_cleaned/TemperatureMaxMinDaily.csv\", parse_dates=['Date(NZST)'])\n",
    "temperature.head()"
   ]
  },
  {
   "cell_type": "code",
   "execution_count": 287,
   "metadata": {},
   "outputs": [
    {
     "name": "stdout",
     "output_type": "stream",
     "text": [
      "<class 'pandas.core.frame.DataFrame'>\n",
      "RangeIndex: 1697 entries, 0 to 1696\n",
      "Data columns (total 5 columns):\n",
      " #   Column      Non-Null Count  Dtype         \n",
      "---  ------      --------------  -----         \n",
      " 0   Date(NZST)  1697 non-null   datetime64[ns]\n",
      " 1   Tmax(C)     1697 non-null   object        \n",
      " 2   Tmin(C)     1697 non-null   object        \n",
      " 3   Tgmin(C)    1697 non-null   object        \n",
      " 4   Tmean(C)    1697 non-null   object        \n",
      "dtypes: datetime64[ns](1), object(4)\n",
      "memory usage: 66.4+ KB\n"
     ]
    }
   ],
   "source": [
    "temperature.info()"
   ]
  },
  {
   "cell_type": "code",
   "execution_count": 288,
   "metadata": {},
   "outputs": [
    {
     "name": "stdout",
     "output_type": "stream",
     "text": [
      "<class 'pandas.core.frame.DataFrame'>\n",
      "RangeIndex: 1697 entries, 0 to 1696\n",
      "Data columns (total 5 columns):\n",
      " #   Column      Non-Null Count  Dtype         \n",
      "---  ------      --------------  -----         \n",
      " 0   Date(NZST)  1697 non-null   datetime64[ns]\n",
      " 1   Tmax(C)     1680 non-null   float64       \n",
      " 2   Tmin(C)     1681 non-null   float64       \n",
      " 3   Tgmin(C)    1696 non-null   float64       \n",
      " 4   Tmean(C)    1672 non-null   float64       \n",
      "dtypes: datetime64[ns](1), float64(4)\n",
      "memory usage: 66.4 KB\n"
     ]
    }
   ],
   "source": [
    "temperature[['Tmax(C)', 'Tmin(C)', 'Tgmin(C)', 'Tmean(C)']] = temperature[['Tmax(C)', 'Tmin(C)', 'Tgmin(C)', 'Tmean(C)']].apply(pd.to_numeric, errors='coerce')\n",
    "temperature.info()"
   ]
  },
  {
   "cell_type": "code",
   "execution_count": 289,
   "metadata": {},
   "outputs": [
    {
     "data": {
      "text/html": [
       "<div>\n",
       "<style scoped>\n",
       "    .dataframe tbody tr th:only-of-type {\n",
       "        vertical-align: middle;\n",
       "    }\n",
       "\n",
       "    .dataframe tbody tr th {\n",
       "        vertical-align: top;\n",
       "    }\n",
       "\n",
       "    .dataframe thead th {\n",
       "        text-align: right;\n",
       "    }\n",
       "</style>\n",
       "<table border=\"1\" class=\"dataframe\">\n",
       "  <thead>\n",
       "    <tr style=\"text-align: right;\">\n",
       "      <th></th>\n",
       "      <th>Date(NZST)</th>\n",
       "      <th>Tair(C)</th>\n",
       "      <th>Twet(C)</th>\n",
       "      <th>RH(%)</th>\n",
       "      <th>Tdew(C)</th>\n",
       "      <th>Unnamed: 5</th>\n",
       "      <th>Unnamed: 6</th>\n",
       "      <th>Unnamed: 7</th>\n",
       "      <th>Unnamed: 8</th>\n",
       "      <th>Unnamed: 9</th>\n",
       "      <th>Unnamed: 10</th>\n",
       "    </tr>\n",
       "  </thead>\n",
       "  <tbody>\n",
       "    <tr>\n",
       "      <th>0</th>\n",
       "      <td>2009-01-01</td>\n",
       "      <td>14.6</td>\n",
       "      <td>13.2</td>\n",
       "      <td>85</td>\n",
       "      <td>12.1</td>\n",
       "      <td>NaN</td>\n",
       "      <td>NaN</td>\n",
       "      <td>NaN</td>\n",
       "      <td>NaN</td>\n",
       "      <td>NaN</td>\n",
       "      <td>NaN</td>\n",
       "    </tr>\n",
       "    <tr>\n",
       "      <th>1</th>\n",
       "      <td>2009-01-02</td>\n",
       "      <td>11.5</td>\n",
       "      <td>10.3</td>\n",
       "      <td>85</td>\n",
       "      <td>9.1</td>\n",
       "      <td>NaN</td>\n",
       "      <td>NaN</td>\n",
       "      <td>NaN</td>\n",
       "      <td>NaN</td>\n",
       "      <td>NaN</td>\n",
       "      <td>NaN</td>\n",
       "    </tr>\n",
       "    <tr>\n",
       "      <th>2</th>\n",
       "      <td>2009-01-03</td>\n",
       "      <td>13.4</td>\n",
       "      <td>12.6</td>\n",
       "      <td>91</td>\n",
       "      <td>12</td>\n",
       "      <td>NaN</td>\n",
       "      <td>NaN</td>\n",
       "      <td>NaN</td>\n",
       "      <td>NaN</td>\n",
       "      <td>NaN</td>\n",
       "      <td>NaN</td>\n",
       "    </tr>\n",
       "    <tr>\n",
       "      <th>3</th>\n",
       "      <td>2009-01-04</td>\n",
       "      <td>10.6</td>\n",
       "      <td>9.6</td>\n",
       "      <td>87</td>\n",
       "      <td>8.5</td>\n",
       "      <td>NaN</td>\n",
       "      <td>NaN</td>\n",
       "      <td>NaN</td>\n",
       "      <td>NaN</td>\n",
       "      <td>NaN</td>\n",
       "      <td>NaN</td>\n",
       "    </tr>\n",
       "    <tr>\n",
       "      <th>4</th>\n",
       "      <td>2009-01-05</td>\n",
       "      <td>12.4</td>\n",
       "      <td>10.3</td>\n",
       "      <td>75</td>\n",
       "      <td>8.1</td>\n",
       "      <td>NaN</td>\n",
       "      <td>NaN</td>\n",
       "      <td>NaN</td>\n",
       "      <td>NaN</td>\n",
       "      <td>NaN</td>\n",
       "      <td>NaN</td>\n",
       "    </tr>\n",
       "  </tbody>\n",
       "</table>\n",
       "</div>"
      ],
      "text/plain": [
       "  Date(NZST) Tair(C) Twet(C) RH(%) Tdew(C) Unnamed: 5 Unnamed: 6 Unnamed: 7   \n",
       "0 2009-01-01    14.6    13.2    85    12.1        NaN        NaN        NaN  \\\n",
       "1 2009-01-02    11.5    10.3    85     9.1        NaN        NaN        NaN   \n",
       "2 2009-01-03    13.4    12.6    91      12        NaN        NaN        NaN   \n",
       "3 2009-01-04    10.6     9.6    87     8.5        NaN        NaN        NaN   \n",
       "4 2009-01-05    12.4    10.3    75     8.1        NaN        NaN        NaN   \n",
       "\n",
       "  Unnamed: 8 Unnamed: 9 Unnamed: 10  \n",
       "0        NaN        NaN         NaN  \n",
       "1        NaN        NaN         NaN  \n",
       "2        NaN        NaN         NaN  \n",
       "3        NaN        NaN         NaN  \n",
       "4        NaN        NaN         NaN  "
      ]
     },
     "execution_count": 289,
     "metadata": {},
     "output_type": "execute_result"
    }
   ],
   "source": [
    "temperatureScreenObservation = pd.read_csv(\"../niwa_cleaned/TemperatureScreenObs9amOnly.csv\", parse_dates=['Date(NZST)'])\n",
    "temperatureScreenObservation.head()"
   ]
  },
  {
   "cell_type": "code",
   "execution_count": 290,
   "metadata": {},
   "outputs": [
    {
     "name": "stdout",
     "output_type": "stream",
     "text": [
      "<class 'pandas.core.frame.DataFrame'>\n",
      "RangeIndex: 30847 entries, 0 to 30846\n",
      "Data columns (total 11 columns):\n",
      " #   Column       Non-Null Count  Dtype         \n",
      "---  ------       --------------  -----         \n",
      " 0   Date(NZST)   5316 non-null   datetime64[ns]\n",
      " 1   Tair(C)      30808 non-null  float64       \n",
      " 2   Twet(C)      30700 non-null  float64       \n",
      " 3   RH(%)        10503 non-null  float64       \n",
      " 4   Tdew(C)      10503 non-null  float64       \n",
      " 5   Unnamed: 5   5312 non-null   object        \n",
      " 6   Unnamed: 6   5312 non-null   object        \n",
      " 7   Unnamed: 7   5312 non-null   object        \n",
      " 8   Unnamed: 8   5312 non-null   object        \n",
      " 9   Unnamed: 9   5312 non-null   object        \n",
      " 10  Unnamed: 10  5312 non-null   object        \n",
      "dtypes: datetime64[ns](1), float64(4), object(6)\n",
      "memory usage: 2.6+ MB\n"
     ]
    }
   ],
   "source": [
    "temperatureScreenObservation[['Tair(C)', 'Twet(C)', 'RH(%)', 'Tdew(C)']] = temperatureScreenObservation[['Tair(C)', 'Twet(C)', 'RH(%)', 'Tdew(C)']].apply(pd.to_numeric, errors='coerce')\n",
    "temperatureScreenObservation.info()"
   ]
  },
  {
   "cell_type": "code",
   "execution_count": 291,
   "metadata": {},
   "outputs": [
    {
     "data": {
      "text/html": [
       "<div>\n",
       "<style scoped>\n",
       "    .dataframe tbody tr th:only-of-type {\n",
       "        vertical-align: middle;\n",
       "    }\n",
       "\n",
       "    .dataframe tbody tr th {\n",
       "        vertical-align: top;\n",
       "    }\n",
       "\n",
       "    .dataframe thead th {\n",
       "        text-align: right;\n",
       "    }\n",
       "</style>\n",
       "<table border=\"1\" class=\"dataframe\">\n",
       "  <thead>\n",
       "    <tr style=\"text-align: right;\">\n",
       "      <th></th>\n",
       "      <th>Date(NZST)</th>\n",
       "      <th>Tair(C)</th>\n",
       "      <th>Twet(C)</th>\n",
       "      <th>RH(%)</th>\n",
       "      <th>Tdew(C)</th>\n",
       "    </tr>\n",
       "  </thead>\n",
       "  <tbody>\n",
       "    <tr>\n",
       "      <th>0</th>\n",
       "      <td>2009-01-01</td>\n",
       "      <td>14.6</td>\n",
       "      <td>13.2</td>\n",
       "      <td>85.0</td>\n",
       "      <td>12.1</td>\n",
       "    </tr>\n",
       "    <tr>\n",
       "      <th>1</th>\n",
       "      <td>2009-01-02</td>\n",
       "      <td>11.5</td>\n",
       "      <td>10.3</td>\n",
       "      <td>85.0</td>\n",
       "      <td>9.1</td>\n",
       "    </tr>\n",
       "    <tr>\n",
       "      <th>2</th>\n",
       "      <td>2009-01-03</td>\n",
       "      <td>13.4</td>\n",
       "      <td>12.6</td>\n",
       "      <td>91.0</td>\n",
       "      <td>12.0</td>\n",
       "    </tr>\n",
       "    <tr>\n",
       "      <th>3</th>\n",
       "      <td>2009-01-04</td>\n",
       "      <td>10.6</td>\n",
       "      <td>9.6</td>\n",
       "      <td>87.0</td>\n",
       "      <td>8.5</td>\n",
       "    </tr>\n",
       "    <tr>\n",
       "      <th>4</th>\n",
       "      <td>2009-01-05</td>\n",
       "      <td>12.4</td>\n",
       "      <td>10.3</td>\n",
       "      <td>75.0</td>\n",
       "      <td>8.1</td>\n",
       "    </tr>\n",
       "  </tbody>\n",
       "</table>\n",
       "</div>"
      ],
      "text/plain": [
       "  Date(NZST)  Tair(C)  Twet(C)  RH(%)  Tdew(C)\n",
       "0 2009-01-01     14.6     13.2   85.0     12.1\n",
       "1 2009-01-02     11.5     10.3   85.0      9.1\n",
       "2 2009-01-03     13.4     12.6   91.0     12.0\n",
       "3 2009-01-04     10.6      9.6   87.0      8.5\n",
       "4 2009-01-05     12.4     10.3   75.0      8.1"
      ]
     },
     "execution_count": 291,
     "metadata": {},
     "output_type": "execute_result"
    }
   ],
   "source": [
    "temperatureScreenObservation.drop(columns=['Unnamed: 5','Unnamed: 6', 'Unnamed: 7', 'Unnamed: 8', 'Unnamed: 9', 'Unnamed: 10'], inplace=True)\n",
    "temperatureScreenObservation.head()"
   ]
  },
  {
   "cell_type": "code",
   "execution_count": 292,
   "metadata": {},
   "outputs": [
    {
     "name": "stdout",
     "output_type": "stream",
     "text": [
      "<class 'pandas.core.frame.DataFrame'>\n",
      "RangeIndex: 30847 entries, 0 to 30846\n",
      "Data columns (total 5 columns):\n",
      " #   Column      Non-Null Count  Dtype         \n",
      "---  ------      --------------  -----         \n",
      " 0   Date(NZST)  5316 non-null   datetime64[ns]\n",
      " 1   Tair(C)     30808 non-null  float64       \n",
      " 2   Twet(C)     30700 non-null  float64       \n",
      " 3   RH(%)       10503 non-null  float64       \n",
      " 4   Tdew(C)     10503 non-null  float64       \n",
      "dtypes: datetime64[ns](1), float64(4)\n",
      "memory usage: 1.2 MB\n"
     ]
    }
   ],
   "source": [
    "temperatureScreenObservation.info()"
   ]
  },
  {
   "cell_type": "code",
   "execution_count": 293,
   "metadata": {},
   "outputs": [
    {
     "data": {
      "text/html": [
       "<div>\n",
       "<style scoped>\n",
       "    .dataframe tbody tr th:only-of-type {\n",
       "        vertical-align: middle;\n",
       "    }\n",
       "\n",
       "    .dataframe tbody tr th {\n",
       "        vertical-align: top;\n",
       "    }\n",
       "\n",
       "    .dataframe thead th {\n",
       "        text-align: right;\n",
       "    }\n",
       "</style>\n",
       "<table border=\"1\" class=\"dataframe\">\n",
       "  <thead>\n",
       "    <tr style=\"text-align: right;\">\n",
       "      <th></th>\n",
       "      <th>Date(NZST)</th>\n",
       "      <th>Dir(DegT)</th>\n",
       "      <th>Speed(m/s)</th>\n",
       "    </tr>\n",
       "  </thead>\n",
       "  <tbody>\n",
       "    <tr>\n",
       "      <th>0</th>\n",
       "      <td>2009-01-01</td>\n",
       "      <td>275</td>\n",
       "      <td>9.3</td>\n",
       "    </tr>\n",
       "    <tr>\n",
       "      <th>1</th>\n",
       "      <td>2009-01-02</td>\n",
       "      <td>44</td>\n",
       "      <td>11.8</td>\n",
       "    </tr>\n",
       "    <tr>\n",
       "      <th>2</th>\n",
       "      <td>2009-01-03</td>\n",
       "      <td>13</td>\n",
       "      <td>11.8</td>\n",
       "    </tr>\n",
       "    <tr>\n",
       "      <th>3</th>\n",
       "      <td>2009-01-04</td>\n",
       "      <td>190</td>\n",
       "      <td>7.7</td>\n",
       "    </tr>\n",
       "    <tr>\n",
       "      <th>4</th>\n",
       "      <td>2009-01-05</td>\n",
       "      <td>185</td>\n",
       "      <td>7.2</td>\n",
       "    </tr>\n",
       "  </tbody>\n",
       "</table>\n",
       "</div>"
      ],
      "text/plain": [
       "  Date(NZST) Dir(DegT)  Speed(m/s)\n",
       "0 2009-01-01       275         9.3\n",
       "1 2009-01-02        44        11.8\n",
       "2 2009-01-03        13        11.8\n",
       "3 2009-01-04       190         7.7\n",
       "4 2009-01-05       185         7.2"
      ]
     },
     "execution_count": 293,
     "metadata": {},
     "output_type": "execute_result"
    }
   ],
   "source": [
    "windMaxgust = pd.read_csv(\"../niwa_cleaned/WindMaxGustDaily.csv\", parse_dates=['Date(NZST)'])\n",
    "windMaxgust.head()"
   ]
  },
  {
   "cell_type": "code",
   "execution_count": 294,
   "metadata": {},
   "outputs": [
    {
     "name": "stdout",
     "output_type": "stream",
     "text": [
      "<class 'pandas.core.frame.DataFrame'>\n",
      "RangeIndex: 5337 entries, 0 to 5336\n",
      "Data columns (total 3 columns):\n",
      " #   Column      Non-Null Count  Dtype         \n",
      "---  ------      --------------  -----         \n",
      " 0   Date(NZST)  5337 non-null   datetime64[ns]\n",
      " 1   Dir(DegT)   5337 non-null   object        \n",
      " 2   Speed(m/s)  5337 non-null   float64       \n",
      "dtypes: datetime64[ns](1), float64(1), object(1)\n",
      "memory usage: 125.2+ KB\n"
     ]
    }
   ],
   "source": [
    "windMaxgust.info()"
   ]
  },
  {
   "cell_type": "code",
   "execution_count": 315,
   "metadata": {},
   "outputs": [
    {
     "name": "stdout",
     "output_type": "stream",
     "text": [
      "5351\n",
      "3005\n",
      "5352\n",
      "1669\n",
      "5349\n",
      "5341\n",
      "1697\n",
      "5316\n",
      "5337\n"
     ]
    }
   ],
   "source": [
    "# List of DataFrames to merge\n",
    "data_frames = [pressure, breakpoint, raindaily, soilMoisture, sunshine, surfacewind, temperature, temperatureScreenObservation, windMaxgust]\n",
    "\n",
    "# Merge the data\n",
    "niwaData = pd.merge(data_frames[0], data_frames[1], on='Date(NZST)', how='inner')\n",
    "\n",
    "for df in data_frames:\n",
    "    print(df['Date(NZST)'].nunique())\n"
   ]
  },
  {
   "cell_type": "code",
   "execution_count": 370,
   "metadata": {},
   "outputs": [
    {
     "data": {
      "text/plain": [
       "(0, 23)"
      ]
     },
     "execution_count": 370,
     "metadata": {},
     "output_type": "execute_result"
    }
   ],
   "source": [
    "niwaData.shape"
   ]
  },
  {
   "cell_type": "code",
   "execution_count": 353,
   "metadata": {},
   "outputs": [],
   "source": [
    "# Merge the filtered DataFrames:\n",
    "niwaData = pd.merge(data_frames[0], data_frames[1], on='Date(NZST)', how='inner')\n",
    "\n",
    "for df in data_frames[2:]:\n",
    "    niwaData = pd.merge(niwaData, df, on='Date(NZST)', how='inner')"
   ]
  },
  {
   "cell_type": "code",
   "execution_count": 354,
   "metadata": {},
   "outputs": [
    {
     "name": "stdout",
     "output_type": "stream",
     "text": [
      "<class 'pandas.core.frame.DataFrame'>\n",
      "RangeIndex: 0 entries\n",
      "Data columns (total 23 columns):\n",
      " #   Column           Non-Null Count  Dtype         \n",
      "---  ------           --------------  -----         \n",
      " 0   Pmsl(hPa)        0 non-null      float64       \n",
      " 1   Pstn(hPa)        0 non-null      object        \n",
      " 2   Amount(mm)       0 non-null      float64       \n",
      " 3   Period(min)      0 non-null      float64       \n",
      " 4   Rainfall(mm)     0 non-null      float64       \n",
      " 5   Deficit(mm)      0 non-null      float64       \n",
      " 6   SoilMoisture(%)  0 non-null      float64       \n",
      " 7   Sunshine(Hrs)    0 non-null      float64       \n",
      " 8   WindDir(DegT)    0 non-null      int64         \n",
      " 9   Speed(m/s)_x     0 non-null      float64       \n",
      " 10  WindDir StdDev   0 non-null      int64         \n",
      " 11  WindSpd StdDev   0 non-null      float64       \n",
      " 12  Tmax(C)          0 non-null      float64       \n",
      " 13  Tmin(C)          0 non-null      float64       \n",
      " 14  Tgmin(C)         0 non-null      float64       \n",
      " 15  Tmean(C)         0 non-null      float64       \n",
      " 16  Tair(C)          0 non-null      float64       \n",
      " 17  Twet(C)          0 non-null      float64       \n",
      " 18  RH(%)            0 non-null      float64       \n",
      " 19  Tdew(C)          0 non-null      float64       \n",
      " 20  Date(NZST)       0 non-null      datetime64[ns]\n",
      " 21  Dir(DegT)        0 non-null      object        \n",
      " 22  Speed(m/s)_y     0 non-null      float64       \n",
      "dtypes: datetime64[ns](1), float64(18), int64(2), object(2)\n",
      "memory usage: 124.0+ bytes\n"
     ]
    }
   ],
   "source": [
    "niwaData.info()"
   ]
  },
  {
   "cell_type": "code",
   "execution_count": 355,
   "metadata": {},
   "outputs": [
    {
     "data": {
      "text/html": [
       "<div>\n",
       "<style scoped>\n",
       "    .dataframe tbody tr th:only-of-type {\n",
       "        vertical-align: middle;\n",
       "    }\n",
       "\n",
       "    .dataframe tbody tr th {\n",
       "        vertical-align: top;\n",
       "    }\n",
       "\n",
       "    .dataframe thead th {\n",
       "        text-align: right;\n",
       "    }\n",
       "</style>\n",
       "<table border=\"1\" class=\"dataframe\">\n",
       "  <thead>\n",
       "    <tr style=\"text-align: right;\">\n",
       "      <th></th>\n",
       "      <th>Pmsl(hPa)</th>\n",
       "      <th>Pstn(hPa)</th>\n",
       "      <th>Amount(mm)</th>\n",
       "      <th>Period(min)</th>\n",
       "      <th>Rainfall(mm)</th>\n",
       "      <th>Deficit(mm)</th>\n",
       "      <th>SoilMoisture(%)</th>\n",
       "      <th>Sunshine(Hrs)</th>\n",
       "      <th>WindDir(DegT)</th>\n",
       "      <th>Speed(m/s)_x</th>\n",
       "      <th>...</th>\n",
       "      <th>Tmin(C)</th>\n",
       "      <th>Tgmin(C)</th>\n",
       "      <th>Tmean(C)</th>\n",
       "      <th>Tair(C)</th>\n",
       "      <th>Twet(C)</th>\n",
       "      <th>RH(%)</th>\n",
       "      <th>Tdew(C)</th>\n",
       "      <th>Date(NZST)</th>\n",
       "      <th>Dir(DegT)</th>\n",
       "      <th>Speed(m/s)_y</th>\n",
       "    </tr>\n",
       "  </thead>\n",
       "  <tbody>\n",
       "  </tbody>\n",
       "</table>\n",
       "<p>0 rows × 23 columns</p>\n",
       "</div>"
      ],
      "text/plain": [
       "Empty DataFrame\n",
       "Columns: [Pmsl(hPa), Pstn(hPa), Amount(mm), Period(min), Rainfall(mm), Deficit(mm), SoilMoisture(%), Sunshine(Hrs), WindDir(DegT), Speed(m/s)_x, WindDir StdDev, WindSpd StdDev, Tmax(C), Tmin(C), Tgmin(C), Tmean(C), Tair(C), Twet(C), RH(%), Tdew(C), Date(NZST), Dir(DegT), Speed(m/s)_y]\n",
       "Index: []\n",
       "\n",
       "[0 rows x 23 columns]"
      ]
     },
     "execution_count": 355,
     "metadata": {},
     "output_type": "execute_result"
    }
   ],
   "source": [
    "niwaData.head(10)"
   ]
  },
  {
   "cell_type": "markdown",
   "metadata": {},
   "source": [
    "# Taking care of missing data"
   ]
  },
  {
   "cell_type": "code",
   "execution_count": 356,
   "metadata": {},
   "outputs": [
    {
     "data": {
      "text/plain": [
       "Pmsl(hPa)          0.0\n",
       "Pstn(hPa)          0.0\n",
       "Amount(mm)         0.0\n",
       "Period(min)        0.0\n",
       "Rainfall(mm)       0.0\n",
       "Deficit(mm)        0.0\n",
       "SoilMoisture(%)    0.0\n",
       "Sunshine(Hrs)      0.0\n",
       "WindDir(DegT)      0.0\n",
       "Speed(m/s)_x       0.0\n",
       "WindDir StdDev     0.0\n",
       "WindSpd StdDev     0.0\n",
       "Tmax(C)            0.0\n",
       "Tmin(C)            0.0\n",
       "Tgmin(C)           0.0\n",
       "Tmean(C)           0.0\n",
       "Tair(C)            0.0\n",
       "Twet(C)            0.0\n",
       "RH(%)              0.0\n",
       "Tdew(C)            0.0\n",
       "Date(NZST)         0.0\n",
       "Dir(DegT)          0.0\n",
       "Speed(m/s)_y       0.0\n",
       "dtype: float64"
      ]
     },
     "execution_count": 356,
     "metadata": {},
     "output_type": "execute_result"
    }
   ],
   "source": [
    "niwaData.isna().sum()"
   ]
  },
  {
   "cell_type": "code",
   "execution_count": 357,
   "metadata": {},
   "outputs": [],
   "source": [
    "# # Amount(mm) (Rainfall) --> filling NaN values with 0, which makes sense if NaN indicates no rainfall.\n",
    "# niwaData['Amount(mm)'].fillna(0, inplace=True)"
   ]
  },
  {
   "cell_type": "code",
   "execution_count": 358,
   "metadata": {},
   "outputs": [],
   "source": [
    "# # Sunshine(Hrs) --> Since sunshine hours are typically positive values, filling NaN with 0 might not be appropriate. So we will fill with the median\n",
    "# niwaData['Sunshine(Hrs)'].fillna(niwaData['Sunshine(Hrs)'].median(), inplace=True)"
   ]
  },
  {
   "cell_type": "code",
   "execution_count": 359,
   "metadata": {},
   "outputs": [],
   "source": [
    "# # SoilMoisture(%) --> Filling NaN with the mean or median is a common approach\n",
    "# niwaData['SoilMoisture(%)'].fillna(niwaData['SoilMoisture(%)'].mean(), inplace=True)"
   ]
  },
  {
   "cell_type": "code",
   "execution_count": 360,
   "metadata": {},
   "outputs": [],
   "source": [
    "# # Tmax(C), Tmin(C), Tgmin(C), Tmean(C) --> For temperature values, filling NaN with 0 might not be meaningful. consider using the mean or median\n",
    "# cols_to_fill_temp = ['Tmax(C)', 'Tmin(C)', 'Tgmin(C)', 'Tmean(C)']\n",
    "# niwaData[cols_to_fill_temp] = niwaData[cols_to_fill_temp].apply(lambda x: x.fillna(x.mean()), axis=0)"
   ]
  },
  {
   "cell_type": "code",
   "execution_count": 361,
   "metadata": {},
   "outputs": [],
   "source": [
    "# # WindDir(DegT) --> Wind direction in Degree has a circular nature (i.e., 360 degrees represents the same direction as 0 degrees), to use circular statistics to fill in missing values. However, a simple approach could be to fill NaN with the mean direction\n",
    "# niwaData['WindDir(DegT)'].fillna(niwaData['WindDir(DegT)'].mean(), inplace=True)"
   ]
  },
  {
   "cell_type": "code",
   "execution_count": 362,
   "metadata": {},
   "outputs": [],
   "source": [
    "# # Speed(m/s)_x --> Similar to temperature, filling NaN with 0 might not be appropriate. Using the mean or median\n",
    "# niwaData['Speed(m/s)_x'].fillna(niwaData['Speed(m/s)_x'].mean(), inplace=True)\n"
   ]
  },
  {
   "cell_type": "code",
   "execution_count": 363,
   "metadata": {},
   "outputs": [],
   "source": [
    "# # WindDir StdDev and WindSpd StdDev -->  standard deviations,  filling NaN with 0 if these values are expected to be positive:\n",
    "# niwaData['WindDir StdDev'].fillna(0, inplace=True)\n",
    "# niwaData['WindSpd StdDev'].fillna(0, inplace=True)"
   ]
  },
  {
   "cell_type": "code",
   "execution_count": 364,
   "metadata": {},
   "outputs": [],
   "source": [
    "# niwaData['Rainfall(mm)'].fillna(0, inplace=True)\n",
    "# niwaData['Period(min)'].fillna(0, inplace=True)\n",
    "# niwaData['Deficit(mm)'].fillna(0, inplace=True)"
   ]
  },
  {
   "cell_type": "code",
   "execution_count": 365,
   "metadata": {},
   "outputs": [],
   "source": [
    "# # Pmsl(hPa) and Pstn(hPa) --> For pressure values, it might make sense to fill NaN with the mean or median:\n",
    "# niwaData['Pmsl(hPa)'].fillna(niwaData['Pmsl(hPa)'].mean(), inplace=True)\n"
   ]
  },
  {
   "cell_type": "code",
   "execution_count": 366,
   "metadata": {},
   "outputs": [],
   "source": [
    "# niwaData['Pstn(hPa)'].fillna(niwaData['Pstn(hPa)'].mean(), inplace=True)"
   ]
  },
  {
   "cell_type": "code",
   "execution_count": 367,
   "metadata": {},
   "outputs": [],
   "source": [
    "# niwaData['Tair(C)'].fillna(niwaData['Tair(C)'].mean(), inplace=True)\n",
    "# niwaData['Twet(C)'].fillna(niwaData['Twet(C)'].mean(), inplace=True)\n",
    "\n",
    "# niwaData['RH(%)'].fillna(niwaData['RH(%)'].mean(), inplace=True)\n",
    "# niwaData['Tdew(C)'].fillna(niwaData['Tdew(C)'].mean(), inplace=True)\n",
    "\n",
    "# niwaData['Dir(DegT)'].fillna(0, inplace=True)  # Fill with a specific value (e.g., 0)\n",
    "# niwaData['Speed(m/s)_y'].fillna(niwaData['Speed(m/s)_y'].mean(), inplace=True)\n"
   ]
  },
  {
   "cell_type": "code",
   "execution_count": 368,
   "metadata": {},
   "outputs": [],
   "source": [
    "# niwaData.isna().sum()"
   ]
  },
  {
   "cell_type": "code",
   "execution_count": 369,
   "metadata": {},
   "outputs": [],
   "source": [
    "# niwaData['Date(NZST)'].isna()"
   ]
  },
  {
   "cell_type": "markdown",
   "metadata": {},
   "source": [
    "# Encoding categorical data"
   ]
  },
  {
   "cell_type": "code",
   "execution_count": null,
   "metadata": {},
   "outputs": [],
   "source": []
  },
  {
   "cell_type": "markdown",
   "metadata": {},
   "source": [
    "# Encoding the independent variable"
   ]
  },
  {
   "cell_type": "code",
   "execution_count": null,
   "metadata": {},
   "outputs": [],
   "source": []
  },
  {
   "cell_type": "markdown",
   "metadata": {},
   "source": [
    "# Encoding the Dependent Variable"
   ]
  },
  {
   "cell_type": "code",
   "execution_count": null,
   "metadata": {},
   "outputs": [],
   "source": []
  },
  {
   "cell_type": "markdown",
   "metadata": {},
   "source": [
    "# Splitting the dataset into the Training set and Test Set"
   ]
  },
  {
   "cell_type": "code",
   "execution_count": null,
   "metadata": {},
   "outputs": [],
   "source": []
  },
  {
   "cell_type": "markdown",
   "metadata": {},
   "source": [
    "# Feature Scaling"
   ]
  },
  {
   "cell_type": "code",
   "execution_count": null,
   "metadata": {},
   "outputs": [],
   "source": []
  }
 ],
 "metadata": {
  "kernelspec": {
   "display_name": "django-sqllite-B7KtwNoh",
   "language": "python",
   "name": "python3"
  },
  "language_info": {
   "codemirror_mode": {
    "name": "ipython",
    "version": 3
   },
   "file_extension": ".py",
   "mimetype": "text/x-python",
   "name": "python",
   "nbconvert_exporter": "python",
   "pygments_lexer": "ipython3",
   "version": "3.10.6"
  },
  "orig_nbformat": 4
 },
 "nbformat": 4,
 "nbformat_minor": 2
}
